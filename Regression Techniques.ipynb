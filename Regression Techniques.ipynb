{
 "cells": [
  {
   "cell_type": "code",
   "execution_count": 3,
   "metadata": {},
   "outputs": [],
   "source": [
    "import numpy as np \n",
    "import pandas as pd \n",
    "from sklearn.linear_model import LinearRegression\n",
    "from sklearn.svm import SVR\n",
    "from sklearn.model_selection import train_test_split"
   ]
  },
  {
   "cell_type": "code",
   "execution_count": 4,
   "metadata": {},
   "outputs": [
    {
     "data": {
      "text/html": [
       "<div>\n",
       "<style scoped>\n",
       "    .dataframe tbody tr th:only-of-type {\n",
       "        vertical-align: middle;\n",
       "    }\n",
       "\n",
       "    .dataframe tbody tr th {\n",
       "        vertical-align: top;\n",
       "    }\n",
       "\n",
       "    .dataframe thead th {\n",
       "        text-align: right;\n",
       "    }\n",
       "</style>\n",
       "<table border=\"1\" class=\"dataframe\">\n",
       "  <thead>\n",
       "    <tr style=\"text-align: right;\">\n",
       "      <th></th>\n",
       "      <th>Date</th>\n",
       "      <th>Open</th>\n",
       "      <th>High</th>\n",
       "      <th>Low</th>\n",
       "      <th>Close</th>\n",
       "      <th>Adj Close</th>\n",
       "      <th>Volume</th>\n",
       "    </tr>\n",
       "  </thead>\n",
       "  <tbody>\n",
       "    <tr>\n",
       "      <th>248</th>\n",
       "      <td>2020-07-31</td>\n",
       "      <td>25.469999</td>\n",
       "      <td>25.730000</td>\n",
       "      <td>23.670000</td>\n",
       "      <td>24.000000</td>\n",
       "      <td>24.000000</td>\n",
       "      <td>2115800</td>\n",
       "    </tr>\n",
       "    <tr>\n",
       "      <th>249</th>\n",
       "      <td>2020-08-03</td>\n",
       "      <td>23.370001</td>\n",
       "      <td>23.570000</td>\n",
       "      <td>22.750000</td>\n",
       "      <td>23.250000</td>\n",
       "      <td>23.250000</td>\n",
       "      <td>1980800</td>\n",
       "    </tr>\n",
       "    <tr>\n",
       "      <th>250</th>\n",
       "      <td>2020-08-04</td>\n",
       "      <td>23.410000</td>\n",
       "      <td>24.500000</td>\n",
       "      <td>23.400000</td>\n",
       "      <td>23.790001</td>\n",
       "      <td>23.790001</td>\n",
       "      <td>1712400</td>\n",
       "    </tr>\n",
       "    <tr>\n",
       "      <th>251</th>\n",
       "      <td>2020-08-05</td>\n",
       "      <td>24.350000</td>\n",
       "      <td>24.629999</td>\n",
       "      <td>23.870001</td>\n",
       "      <td>24.150000</td>\n",
       "      <td>24.150000</td>\n",
       "      <td>1346600</td>\n",
       "    </tr>\n",
       "    <tr>\n",
       "      <th>252</th>\n",
       "      <td>2020-08-06</td>\n",
       "      <td>24.150000</td>\n",
       "      <td>25.309999</td>\n",
       "      <td>23.809999</td>\n",
       "      <td>25.070000</td>\n",
       "      <td>25.070000</td>\n",
       "      <td>1783900</td>\n",
       "    </tr>\n",
       "  </tbody>\n",
       "</table>\n",
       "</div>"
      ],
      "text/plain": [
       "           Date       Open       High        Low      Close  Adj Close  \\\n",
       "248  2020-07-31  25.469999  25.730000  23.670000  24.000000  24.000000   \n",
       "249  2020-08-03  23.370001  23.570000  22.750000  23.250000  23.250000   \n",
       "250  2020-08-04  23.410000  24.500000  23.400000  23.790001  23.790001   \n",
       "251  2020-08-05  24.350000  24.629999  23.870001  24.150000  24.150000   \n",
       "252  2020-08-06  24.150000  25.309999  23.809999  25.070000  25.070000   \n",
       "\n",
       "      Volume  \n",
       "248  2115800  \n",
       "249  1980800  \n",
       "250  1712400  \n",
       "251  1346600  \n",
       "252  1783900  "
      ]
     },
     "execution_count": 4,
     "metadata": {},
     "output_type": "execute_result"
    }
   ],
   "source": [
    "df = pd.read_csv('datasets/CAKE.csv')\n",
    "df.tail()"
   ]
  },
  {
   "cell_type": "code",
   "execution_count": 6,
   "metadata": {},
   "outputs": [
    {
     "name": "stdout",
     "output_type": "stream",
     "text": [
      "   Adj Close\n",
      "0  39.415188\n",
      "1  40.065956\n",
      "2  38.900398\n",
      "3  37.899967\n",
      "4  38.399937\n"
     ]
    }
   ],
   "source": [
    "# Get the Adjusted Close Price \n",
    "df = df[['Adj Close']] \n",
    "# Take a look at the new data \n",
    "print(df.head())"
   ]
  },
  {
   "cell_type": "code",
   "execution_count": 8,
   "metadata": {},
   "outputs": [
    {
     "name": "stdout",
     "output_type": "stream",
     "text": [
      "     Adj Close  Prediction\n",
      "248  24.000000         NaN\n",
      "249  23.250000         NaN\n",
      "250  23.790001         NaN\n",
      "251  24.150000         NaN\n",
      "252  25.070000         NaN\n"
     ]
    },
    {
     "name": "stderr",
     "output_type": "stream",
     "text": [
      "<ipython-input-8-577299e1679c>:4: SettingWithCopyWarning: \n",
      "A value is trying to be set on a copy of a slice from a DataFrame.\n",
      "Try using .loc[row_indexer,col_indexer] = value instead\n",
      "\n",
      "See the caveats in the documentation: https://pandas.pydata.org/pandas-docs/stable/user_guide/indexing.html#returning-a-view-versus-a-copy\n",
      "  df['Prediction'] = df[['Adj Close']].shift(-forecast_out)\n"
     ]
    }
   ],
   "source": [
    "# A variable for predicting 'n' days out into the future\n",
    "forecast_out = 30 #'n=30' days\n",
    "#Create another column (the target ) shifted 'n' units up\n",
    "df['Prediction'] = df[['Adj Close']].shift(-forecast_out)\n",
    "#print the new data set\n",
    "print(df.tail())"
   ]
  },
  {
   "cell_type": "code",
   "execution_count": 9,
   "metadata": {},
   "outputs": [
    {
     "name": "stdout",
     "output_type": "stream",
     "text": [
      "[[39.415188]\n",
      " [40.065956]\n",
      " [38.900398]\n",
      " [37.899967]\n",
      " [38.399937]\n",
      " [36.684338]\n",
      " [35.527542]\n",
      " [35.772629]\n",
      " [36.184368]\n",
      " [35.753021]\n",
      " [35.194225]\n",
      " [36.958839]\n",
      " [36.527485]\n",
      " [36.262798]\n",
      " [35.664787]\n",
      " [36.576508]\n",
      " [37.233334]\n",
      " [37.243141]\n",
      " [37.939178]\n",
      " [37.997997]\n",
      " [38.860699]\n",
      " [39.194016]\n",
      " [41.184105]\n",
      " [42.438942]\n",
      " [42.458553]\n",
      " [41.331158]\n",
      " [41.742901]\n",
      " [42.154644]\n",
      " [41.791916]\n",
      " [41.605648]\n",
      " [39.890057]\n",
      " [39.243031]\n",
      " [39.301849]\n",
      " [39.262638]\n",
      " [39.576347]\n",
      " [40.046909]\n",
      " [40.086124]\n",
      " [40.860596]\n",
      " [40.605701]\n",
      " [40.174355]\n",
      " [39.890057]\n",
      " [38.860699]\n",
      " [38.71365 ]\n",
      " [37.733311]\n",
      " [37.674484]\n",
      " [37.811733]\n",
      " [38.301903]\n",
      " [37.203926]\n",
      " [37.556847]\n",
      " [37.645077]\n",
      " [37.703899]\n",
      " [37.792126]\n",
      " [38.703846]\n",
      " [39.458706]\n",
      " [40.164555]\n",
      " [39.262638]\n",
      " [41.144894]\n",
      " [41.213516]\n",
      " [42.919308]\n",
      " [40.880199]\n",
      " [40.96843 ]\n",
      " [41.135086]\n",
      " [42.399727]\n",
      " [44.036896]\n",
      " [42.301697]\n",
      " [42.350712]\n",
      " [42.568199]\n",
      " [41.915737]\n",
      " [42.054138]\n",
      " [42.172768]\n",
      " [42.904316]\n",
      " [43.54689 ]\n",
      " [43.438145]\n",
      " [42.152996]\n",
      " [42.064022]\n",
      " [42.400139]\n",
      " [42.765911]\n",
      " [44.001637]\n",
      " [43.013058]\n",
      " [43.072372]\n",
      " [43.111916]\n",
      " [43.438145]\n",
      " [42.271622]\n",
      " [42.439682]\n",
      " [42.064022]\n",
      " [42.726372]\n",
      " [41.53019 ]\n",
      " [41.026016]\n",
      " [40.274696]\n",
      " [39.730976]\n",
      " [39.394859]\n",
      " [39.44429 ]\n",
      " [40.007782]\n",
      " [39.553032]\n",
      " [39.029087]\n",
      " [39.226803]\n",
      " [39.197147]\n",
      " [38.603996]\n",
      " [38.683086]\n",
      " [37.921879]\n",
      " [38.356853]\n",
      " [38.416168]\n",
      " [38.524914]\n",
      " [38.307423]\n",
      " [39.256458]\n",
      " [38.930229]\n",
      " [39.18726 ]\n",
      " [39.286118]\n",
      " [38.98954 ]\n",
      " [38.950001]\n",
      " [39.108173]\n",
      " [38.831367]\n",
      " [40.057209]\n",
      " [38.396397]\n",
      " [38.979656]\n",
      " [38.653423]\n",
      " [39.1576  ]\n",
      " [39.029087]\n",
      " [38.040508]\n",
      " [38.129478]\n",
      " [38.495251]\n",
      " [38.544685]\n",
      " [37.961422]\n",
      " [37.496788]\n",
      " [38.495251]\n",
      " [39.543148]\n",
      " [39.948463]\n",
      " [39.058743]\n",
      " [39.859493]\n",
      " [39.602463]\n",
      " [39.671665]\n",
      " [39.493717]\n",
      " [39.849609]\n",
      " [39.701321]\n",
      " [40.413097]\n",
      " [41.767448]\n",
      " [41.648819]\n",
      " [41.243504]\n",
      " [38.376625]\n",
      " [36.261066]\n",
      " [34.699112]\n",
      " [35.223061]\n",
      " [35.628376]\n",
      " [34.254253]\n",
      " [35.401005]\n",
      " [31.16    ]\n",
      " [31.440001]\n",
      " [29.01    ]\n",
      " [28.75    ]\n",
      " [25.209999]\n",
      " [21.48    ]\n",
      " [23.51    ]\n",
      " [16.91    ]\n",
      " [18.709999]\n",
      " [20.85    ]\n",
      " [20.51    ]\n",
      " [15.84    ]\n",
      " [15.71    ]\n",
      " [19.219999]\n",
      " [18.870001]\n",
      " [19.66    ]\n",
      " [16.18    ]\n",
      " [16.5     ]\n",
      " [17.08    ]\n",
      " [15.72    ]\n",
      " [15.1     ]\n",
      " [15.51    ]\n",
      " [16.790001]\n",
      " [16.34    ]\n",
      " [18.48    ]\n",
      " [20.200001]\n",
      " [18.879999]\n",
      " [18.98    ]\n",
      " [17.42    ]\n",
      " [17.700001]\n",
      " [18.719999]\n",
      " [18.93    ]\n",
      " [18.799999]\n",
      " [19.92    ]\n",
      " [18.299999]\n",
      " [18.6     ]\n",
      " [20.040001]\n",
      " [21.33    ]\n",
      " [24.360001]\n",
      " [22.290001]\n",
      " [20.129999]\n",
      " [20.02    ]\n",
      " [19.52    ]\n",
      " [19.709999]\n",
      " [20.6     ]\n",
      " [22.440001]\n",
      " [21.360001]\n",
      " [19.34    ]\n",
      " [18.27    ]\n",
      " [18.200001]\n",
      " [18.52    ]\n",
      " [19.77    ]\n",
      " [20.07    ]\n",
      " [19.959999]\n",
      " [19.959999]\n",
      " [19.969999]\n",
      " [21.299999]\n",
      " [23.559999]\n",
      " [21.77    ]\n",
      " [21.48    ]\n",
      " [20.780001]\n",
      " [20.950001]\n",
      " [24.370001]\n",
      " [26.219999]\n",
      " [28.200001]\n",
      " [29.809999]\n",
      " [26.9     ]\n",
      " [24.959999]\n",
      " [22.200001]\n",
      " [24.23    ]\n",
      " [25.129999]\n",
      " [24.879999]\n",
      " [24.139999]\n",
      " [24.530001]\n",
      " [22.92    ]\n",
      " [22.540001]\n",
      " [24.280001]\n",
      " [22.290001]]\n"
     ]
    }
   ],
   "source": [
    "### Create the independent data set (X)  #######\n",
    "# Convert the dataframe to a numpy array\n",
    "X = np.array(df.drop(['Prediction'],1))\n",
    "\n",
    "#Remove the last '30' rows\n",
    "X = X[:-forecast_out]\n",
    "print(X)"
   ]
  },
  {
   "cell_type": "code",
   "execution_count": 10,
   "metadata": {},
   "outputs": [
    {
     "name": "stdout",
     "output_type": "stream",
     "text": [
      "[39.890057 39.243031 39.301849 39.262638 39.576347 40.046909 40.086124\n",
      " 40.860596 40.605701 40.174355 39.890057 38.860699 38.71365  37.733311\n",
      " 37.674484 37.811733 38.301903 37.203926 37.556847 37.645077 37.703899\n",
      " 37.792126 38.703846 39.458706 40.164555 39.262638 41.144894 41.213516\n",
      " 42.919308 40.880199 40.96843  41.135086 42.399727 44.036896 42.301697\n",
      " 42.350712 42.568199 41.915737 42.054138 42.172768 42.904316 43.54689\n",
      " 43.438145 42.152996 42.064022 42.400139 42.765911 44.001637 43.013058\n",
      " 43.072372 43.111916 43.438145 42.271622 42.439682 42.064022 42.726372\n",
      " 41.53019  41.026016 40.274696 39.730976 39.394859 39.44429  40.007782\n",
      " 39.553032 39.029087 39.226803 39.197147 38.603996 38.683086 37.921879\n",
      " 38.356853 38.416168 38.524914 38.307423 39.256458 38.930229 39.18726\n",
      " 39.286118 38.98954  38.950001 39.108173 38.831367 40.057209 38.396397\n",
      " 38.979656 38.653423 39.1576   39.029087 38.040508 38.129478 38.495251\n",
      " 38.544685 37.961422 37.496788 38.495251 39.543148 39.948463 39.058743\n",
      " 39.859493 39.602463 39.671665 39.493717 39.849609 39.701321 40.413097\n",
      " 41.767448 41.648819 41.243504 38.376625 36.261066 34.699112 35.223061\n",
      " 35.628376 34.254253 35.401005 31.16     31.440001 29.01     28.75\n",
      " 25.209999 21.48     23.51     16.91     18.709999 20.85     20.51\n",
      " 15.84     15.71     19.219999 18.870001 19.66     16.18     16.5\n",
      " 17.08     15.72     15.1      15.51     16.790001 16.34     18.48\n",
      " 20.200001 18.879999 18.98     17.42     17.700001 18.719999 18.93\n",
      " 18.799999 19.92     18.299999 18.6      20.040001 21.33     24.360001\n",
      " 22.290001 20.129999 20.02     19.52     19.709999 20.6      22.440001\n",
      " 21.360001 19.34     18.27     18.200001 18.52     19.77     20.07\n",
      " 19.959999 19.959999 19.969999 21.299999 23.559999 21.77     21.48\n",
      " 20.780001 20.950001 24.370001 26.219999 28.200001 29.809999 26.9\n",
      " 24.959999 22.200001 24.23     25.129999 24.879999 24.139999 24.530001\n",
      " 22.92     22.540001 24.280001 22.290001 21.969999 20.139999 22.74\n",
      " 22.92     21.75     21.559999 22.030001 21.110001 21.450001 20.93\n",
      " 21.690001 21.02     20.57     23.27     22.639999 22.58     21.98\n",
      " 22.6      23.6      24.       24.809999 24.709999 25.32     26.57\n",
      " 25.440001 24.       23.25     23.790001 24.15     25.07    ]\n"
     ]
    }
   ],
   "source": [
    "### Create the dependent data set (y)  #####\n",
    "# Convert the dataframe to a numpy array \n",
    "y = np.array(df['Prediction'])\n",
    "# Get all of the y values except the last '30' rows\n",
    "y = y[:-forecast_out]\n",
    "print(y)"
   ]
  },
  {
   "cell_type": "code",
   "execution_count": 40,
   "metadata": {},
   "outputs": [],
   "source": [
    "# Split the data into 80% training and 20% testing\n",
    "x_train, x_test, y_train, y_test = train_test_split(X, y, test_size=0.30)"
   ]
  },
  {
   "cell_type": "code",
   "execution_count": 41,
   "metadata": {},
   "outputs": [
    {
     "data": {
      "text/plain": [
       "RandomForestRegressor(max_depth=3, random_state=0)"
      ]
     },
     "execution_count": 41,
     "metadata": {},
     "output_type": "execute_result"
    }
   ],
   "source": [
    "# random forest regressor \n",
    "from sklearn.ensemble import RandomForestRegressor\n",
    "\n",
    "rfr = RandomForestRegressor(max_depth=3,random_state=0)\n",
    "rfr.fit(x_train, y_train)"
   ]
  },
  {
   "cell_type": "code",
   "execution_count": 42,
   "metadata": {},
   "outputs": [
    {
     "name": "stdout",
     "output_type": "stream",
     "text": [
      "rfr confidence 0.5750835970180052\n"
     ]
    }
   ],
   "source": [
    "rfr_confidence = rfr.score(x_test, y_test)\n",
    "print(\"rfr confidence\", rfr_confidence)"
   ]
  },
  {
   "cell_type": "code",
   "execution_count": 43,
   "metadata": {},
   "outputs": [
    {
     "data": {
      "text/plain": [
       "SVR(C=1000.0, gamma=0.1)"
      ]
     },
     "execution_count": 43,
     "metadata": {},
     "output_type": "execute_result"
    }
   ],
   "source": [
    "# Create and train the Support Vector Machine (Regressor)\n",
    "np.random.seed(42)\n",
    "svr_rbf = SVR(kernel='rbf', C=1e3, gamma=0.1) \n",
    "svr_rbf.fit(x_train, y_train)"
   ]
  },
  {
   "cell_type": "code",
   "execution_count": 44,
   "metadata": {},
   "outputs": [
    {
     "name": "stdout",
     "output_type": "stream",
     "text": [
      "svm confidence:  0.4279079283588315\n"
     ]
    }
   ],
   "source": [
    "# Testing Model: Score returns the coefficient of determination R^2 of the prediction. \n",
    "# The best possible score is 1.0\n",
    "svm_confidence = svr_rbf.score(x_test, y_test)\n",
    "print(\"svm confidence: \", svm_confidence)"
   ]
  },
  {
   "cell_type": "code",
   "execution_count": 45,
   "metadata": {},
   "outputs": [
    {
     "data": {
      "text/plain": [
       "LinearRegression()"
      ]
     },
     "execution_count": 45,
     "metadata": {},
     "output_type": "execute_result"
    }
   ],
   "source": [
    "# Create and train the Linear Regression  Model\n",
    "np.random.seed(42)\n",
    "lr = LinearRegression()\n",
    "# Train the model\n",
    "lr.fit(x_train, y_train)"
   ]
  },
  {
   "cell_type": "code",
   "execution_count": 46,
   "metadata": {},
   "outputs": [
    {
     "name": "stdout",
     "output_type": "stream",
     "text": [
      "lr confidence:  0.5466140027133757\n"
     ]
    }
   ],
   "source": [
    "# Testing Model: Score returns the coefficient of determination R^2 of the prediction. \n",
    "# The best possible score is 1.0\n",
    "lr_confidence = lr.score(x_test, y_test)\n",
    "print(\"lr confidence: \", lr_confidence)"
   ]
  },
  {
   "cell_type": "code",
   "execution_count": 16,
   "metadata": {},
   "outputs": [
    {
     "name": "stdout",
     "output_type": "stream",
     "text": [
      "[[21.969999]\n",
      " [20.139999]\n",
      " [22.74    ]\n",
      " [22.92    ]\n",
      " [21.75    ]\n",
      " [21.559999]\n",
      " [22.030001]\n",
      " [21.110001]\n",
      " [21.450001]\n",
      " [20.93    ]\n",
      " [21.690001]\n",
      " [21.02    ]\n",
      " [20.57    ]\n",
      " [23.27    ]\n",
      " [22.639999]\n",
      " [22.58    ]\n",
      " [21.98    ]\n",
      " [22.6     ]\n",
      " [23.6     ]\n",
      " [24.      ]\n",
      " [24.809999]\n",
      " [24.709999]\n",
      " [25.32    ]\n",
      " [26.57    ]\n",
      " [25.440001]\n",
      " [24.      ]\n",
      " [23.25    ]\n",
      " [23.790001]\n",
      " [24.15    ]\n",
      " [25.07    ]]\n"
     ]
    }
   ],
   "source": [
    "# Set x_forecast equal to the last 30 rows of the original data set from Adj. Close column\n",
    "x_forecast = np.array(df.drop(['Prediction'],1))[-forecast_out:]\n",
    "print(x_forecast)"
   ]
  },
  {
   "cell_type": "code",
   "execution_count": 50,
   "metadata": {},
   "outputs": [
    {
     "name": "stdout",
     "output_type": "stream",
     "text": [
      "25.38561513491146\n",
      "24.015800020346266\n",
      "23.142712571357798\n"
     ]
    }
   ],
   "source": [
    "# Print linear regression model predictions for the next '30' days\n",
    "lr_prediction = lr.predict(x_forecast)\n",
    "print(lr_prediction[-1])\n",
    "# Print support vector regressor model predictions for the next '30' days\n",
    "svm_prediction = svr_rbf.predict(x_forecast)\n",
    "print(svm_prediction[-1])\n",
    "\n",
    "rfr_prediction = rfr.predict(x_forecast)\n",
    "print(rfr_prediction[-1])"
   ]
  },
  {
   "cell_type": "code",
   "execution_count": null,
   "metadata": {},
   "outputs": [],
   "source": []
  }
 ],
 "metadata": {
  "kernelspec": {
   "display_name": "Python 3",
   "language": "python",
   "name": "python3"
  },
  "language_info": {
   "codemirror_mode": {
    "name": "ipython",
    "version": 3
   },
   "file_extension": ".py",
   "mimetype": "text/x-python",
   "name": "python",
   "nbconvert_exporter": "python",
   "pygments_lexer": "ipython3",
   "version": "3.8.3"
  }
 },
 "nbformat": 4,
 "nbformat_minor": 4
}
