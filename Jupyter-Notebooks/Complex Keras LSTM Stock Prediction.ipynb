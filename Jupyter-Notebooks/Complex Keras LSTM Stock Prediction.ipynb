{
 "cells": [
  {
   "cell_type": "code",
   "execution_count": 367,
   "metadata": {},
   "outputs": [],
   "source": [
    "import matplotlib.pyplot as plt"
   ]
  },
  {
   "cell_type": "code",
   "execution_count": 368,
   "metadata": {},
   "outputs": [],
   "source": [
    "import requests"
   ]
  },
  {
   "cell_type": "code",
   "execution_count": 369,
   "metadata": {},
   "outputs": [],
   "source": [
    "# from urllib2 import Request, urlopen\n",
    "import json\n",
    "\n",
    "import pandas as pd \n",
    "from pandas import DataFrame\n",
    "from pandas.io.json import json_normalize\n",
    "from pandas_datareader import data\n",
    "\n",
    "# path1 = '42.974049,-81.205203|42.974298,-81.195755'\n",
    "# request=Request('http://maps.googleapis.com/maps/api/elevation/json?locations='+path1+'&sensor=false')\n",
    "# response = urlopen(request)\n",
    "# elevations = response.read()\n",
    "# data = json.loads(elevations)\n",
    "# df = pd.json_normalize(data['results'])\n"
   ]
  },
  {
   "cell_type": "code",
   "execution_count": 370,
   "metadata": {},
   "outputs": [],
   "source": [
    "def get_stock_data(ticker, start_date, end_date):\n",
    "    api_key = '50dbca4a8576228510cb129fe07db8e9a178bb9b'\n",
    "    base_url = (f'https://api.tiingo.com/tiingo/daily/{ticker}/prices?')\n",
    "    payload = {\n",
    "        'token': api_key, \n",
    "        'startDate': start_date,\n",
    "        'endDate': end_date\n",
    "    }\n",
    "#     data_response = requests.get(base_url, params=payload)\n",
    "#     json_data = data_response.json()\n",
    "#     df = json_normalize(response)\n",
    "#     elevations = response.read()\n",
    "#     data = json.loads(str(response))\n",
    "#     df = pd.json_normalize(data)\n",
    "#     df = pd.json_normalize(json_data)\n",
    "#     df = df[['date', 'close']]\n",
    "#     df.reset_index(level=0, inplace=True)\n",
    "\n",
    "    response = requests.get(base_url, params=payload)\n",
    "    \n",
    "    \n",
    "  #  df = pd.DataFrame.from_dict(response, orient=\"index\")\n",
    "    \n",
    "    \n",
    "#     dates = []\n",
    "#     closes = []\n",
    "    \n",
    "#     for json_object in response:\n",
    "#         date = json_object['date']\n",
    "#         close = json_object['close']\n",
    "        \n",
    "#         dates.append(date)\n",
    "#         closes.append(close)\n",
    "\n",
    "#     df = json_normalize(dates)\n",
    "#     df = pd.DataFrame(closes).transpose()\n",
    "    return response\n",
    "    \n",
    "# panel_data = data.DataReader('INPX', 'google', start_date, end_date)"
   ]
  },
  {
   "cell_type": "code",
   "execution_count": 371,
   "metadata": {},
   "outputs": [],
   "source": [
    "# panel_data = data.DataReader('INPX', 'google', start_date, end_date)"
   ]
  },
  {
   "cell_type": "code",
   "execution_count": 372,
   "metadata": {
    "scrolled": true
   },
   "outputs": [
    {
     "name": "stdout",
     "output_type": "stream",
     "text": [
      "[{'date': '2020-07-02T00:00:00.000Z', 'close': 69.41, 'high': 70.8, 'low': 49.02, 'open': 50.06, 'volume': 16697700, 'adjClose': 69.41, 'adjHigh': 70.8, 'adjLow': 49.02, 'adjOpen': 50.06, 'adjVolume': 16697700, 'divCash': 0.0, 'splitFactor': 1.0}, {'date': '2020-07-06T00:00:00.000Z', 'close': 81.19, 'high': 96.51, 'low': 73.11, 'open': 73.39, 'volume': 13445700, 'adjClose': 81.19, 'adjHigh': 96.51, 'adjLow': 73.11, 'adjOpen': 73.394, 'adjVolume': 13445700, 'divCash': 0.0, 'splitFactor': 1.0}, {'date': '2020-07-07T00:00:00.000Z', 'close': 78.79, 'high': 89.38, 'low': 75.0, 'open': 83.8, 'volume': 4599600, 'adjClose': 78.79, 'adjHigh': 89.38, 'adjLow': 75.0, 'adjOpen': 83.8, 'adjVolume': 4599600, 'divCash': 0.0, 'splitFactor': 1.0}, {'date': '2020-07-08T00:00:00.000Z', 'close': 68.51, 'high': 79.39, 'low': 68.06, 'open': 79.0, 'volume': 3489400, 'adjClose': 68.51, 'adjHigh': 79.39, 'adjLow': 68.06, 'adjOpen': 79.0, 'adjVolume': 3489400, 'divCash': 0.0, 'splitFactor': 1.0}, {'date': '2020-07-09T00:00:00.000Z', 'close': 77.01, 'high': 79.91, 'low': 69.03, 'open': 73.97, 'volume': 4165200, 'adjClose': 77.01, 'adjHigh': 79.91, 'adjLow': 69.03, 'adjOpen': 73.97, 'adjVolume': 4165200, 'divCash': 0.0, 'splitFactor': 1.0}, {'date': '2020-07-10T00:00:00.000Z', 'close': 84.66, 'high': 89.5, 'low': 78.0, 'open': 78.01, 'volume': 3723100, 'adjClose': 84.66, 'adjHigh': 89.5, 'adjLow': 78.0, 'adjOpen': 78.01, 'adjVolume': 3723100, 'divCash': 0.0, 'splitFactor': 1.0}, {'date': '2020-07-13T00:00:00.000Z', 'close': 78.5, 'high': 95.5, 'low': 77.91, 'open': 89.0, 'volume': 2646800, 'adjClose': 78.5, 'adjHigh': 95.5, 'adjLow': 77.91, 'adjOpen': 89.0, 'adjVolume': 2646800, 'divCash': 0.0, 'splitFactor': 1.0}, {'date': '2020-07-14T00:00:00.000Z', 'close': 76.14, 'high': 82.86, 'low': 70.85, 'open': 80.42, 'volume': 2085600, 'adjClose': 76.14, 'adjHigh': 82.86, 'adjLow': 70.85, 'adjOpen': 80.42, 'adjVolume': 2085600, 'divCash': 0.0, 'splitFactor': 1.0}, {'date': '2020-07-15T00:00:00.000Z', 'close': 74.17, 'high': 81.0, 'low': 72.5, 'open': 80.85, 'volume': 1352000, 'adjClose': 74.17, 'adjHigh': 81.0, 'adjLow': 72.5, 'adjOpen': 80.85, 'adjVolume': 1352000, 'divCash': 0.0, 'splitFactor': 1.0}, {'date': '2020-07-16T00:00:00.000Z', 'close': 79.29, 'high': 80.75, 'low': 72.03, 'open': 72.25, 'volume': 1448200, 'adjClose': 79.29, 'adjHigh': 80.75, 'adjLow': 72.03, 'adjOpen': 72.25, 'adjVolume': 1448200, 'divCash': 0.0, 'splitFactor': 1.0}, {'date': '2020-07-17T00:00:00.000Z', 'close': 85.89, 'high': 88.0, 'low': 76.14, 'open': 78.0, 'volume': 2047300, 'adjClose': 85.89, 'adjHigh': 88.0, 'adjLow': 76.14, 'adjOpen': 78.0, 'adjVolume': 2047300, 'divCash': 0.0, 'splitFactor': 1.0}, {'date': '2020-07-20T00:00:00.000Z', 'close': 84.24, 'high': 87.0, 'low': 82.0, 'open': 86.34, 'volume': 952012, 'adjClose': 84.24, 'adjHigh': 87.0, 'adjLow': 82.0, 'adjOpen': 86.34, 'adjVolume': 952012, 'divCash': 0.0, 'splitFactor': 1.0}, {'date': '2020-07-21T00:00:00.000Z', 'close': 80.85, 'high': 85.2, 'low': 80.545, 'open': 84.68, 'volume': 510426, 'adjClose': 80.85, 'adjHigh': 85.2, 'adjLow': 80.545, 'adjOpen': 84.68, 'adjVolume': 510426, 'divCash': 0.0, 'splitFactor': 1.0}, {'date': '2020-07-22T00:00:00.000Z', 'close': 78.5, 'high': 81.9, 'low': 77.0, 'open': 80.17, 'volume': 626259, 'adjClose': 78.5, 'adjHigh': 81.9, 'adjLow': 77.0, 'adjOpen': 80.17, 'adjVolume': 626259, 'divCash': 0.0, 'splitFactor': 1.0}, {'date': '2020-07-23T00:00:00.000Z', 'close': 82.16, 'high': 86.8899, 'low': 78.61, 'open': 78.95, 'volume': 1664554, 'adjClose': 82.16, 'adjHigh': 86.8899, 'adjLow': 78.61, 'adjOpen': 78.95, 'adjVolume': 1664554, 'divCash': 0.0, 'splitFactor': 1.0}, {'date': '2020-07-24T00:00:00.000Z', 'close': 77.97, 'high': 82.755, 'low': 75.5, 'open': 78.8, 'volume': 1167532, 'adjClose': 77.97, 'adjHigh': 82.755, 'adjLow': 75.5, 'adjOpen': 78.8, 'adjVolume': 1167532, 'divCash': 0.0, 'splitFactor': 1.0}, {'date': '2020-07-27T00:00:00.000Z', 'close': 73.0, 'high': 75.8996, 'low': 71.05, 'open': 74.94, 'volume': 2084060, 'adjClose': 73.0, 'adjHigh': 75.8996, 'adjLow': 71.05, 'adjOpen': 74.94, 'adjVolume': 2084060, 'divCash': 0.0, 'splitFactor': 1.0}, {'date': '2020-07-28T00:00:00.000Z', 'close': 66.43, 'high': 73.5, 'low': 66.39, 'open': 72.42, 'volume': 1492708, 'adjClose': 66.43, 'adjHigh': 73.5, 'adjLow': 66.39, 'adjOpen': 72.42, 'adjVolume': 1492708, 'divCash': 0.0, 'splitFactor': 1.0}, {'date': '2020-07-29T00:00:00.000Z', 'close': 69.05, 'high': 70.5, 'low': 66.81, 'open': 68.16, 'volume': 975693, 'adjClose': 69.05, 'adjHigh': 70.5, 'adjLow': 66.81, 'adjOpen': 68.16, 'adjVolume': 975693, 'divCash': 0.0, 'splitFactor': 1.0}, {'date': '2020-07-30T00:00:00.000Z', 'close': 65.1, 'high': 68.5399, 'low': 65.0, 'open': 67.81, 'volume': 852695, 'adjClose': 65.1, 'adjHigh': 68.5399, 'adjLow': 65.0, 'adjOpen': 67.81, 'adjVolume': 852695, 'divCash': 0.0, 'splitFactor': 1.0}, {'date': '2020-07-31T00:00:00.000Z', 'close': 58.18, 'high': 67.47, 'low': 57.52, 'open': 67.15, 'volume': 1884678, 'adjClose': 58.18, 'adjHigh': 67.47, 'adjLow': 57.52, 'adjOpen': 67.15, 'adjVolume': 1884678, 'divCash': 0.0, 'splitFactor': 1.0}, {'date': '2020-08-03T00:00:00.000Z', 'close': 56.86, 'high': 61.18, 'low': 56.7, 'open': 59.71, 'volume': 1615313, 'adjClose': 56.86, 'adjHigh': 61.18, 'adjLow': 56.7, 'adjOpen': 59.71, 'adjVolume': 1615313, 'divCash': 0.0, 'splitFactor': 1.0}, {'date': '2020-08-04T00:00:00.000Z', 'close': 61.14, 'high': 62.39, 'low': 57.0, 'open': 57.0, 'volume': 1495653, 'adjClose': 61.14, 'adjHigh': 62.39, 'adjLow': 57.0, 'adjOpen': 57.0, 'adjVolume': 1495653, 'divCash': 0.0, 'splitFactor': 1.0}, {'date': '2020-08-05T00:00:00.000Z', 'close': 64.48, 'high': 64.95, 'low': 59.27, 'open': 61.77, 'volume': 1136577, 'adjClose': 64.48, 'adjHigh': 64.95, 'adjLow': 59.27, 'adjOpen': 61.77, 'adjVolume': 1136577, 'divCash': 0.0, 'splitFactor': 1.0}, {'date': '2020-08-06T00:00:00.000Z', 'close': 68.7, 'high': 69.88, 'low': 64.6, 'open': 65.68, 'volume': 1154199, 'adjClose': 68.7, 'adjHigh': 69.88, 'adjLow': 64.6, 'adjOpen': 65.68, 'adjVolume': 1154199, 'divCash': 0.0, 'splitFactor': 1.0}, {'date': '2020-08-07T00:00:00.000Z', 'close': 66.84, 'high': 69.024, 'low': 65.57, 'open': 68.57, 'volume': 656975, 'adjClose': 66.84, 'adjHigh': 69.024, 'adjLow': 65.57, 'adjOpen': 68.57, 'adjVolume': 656975, 'divCash': 0.0, 'splitFactor': 1.0}, {'date': '2020-08-10T00:00:00.000Z', 'close': 67.41, 'high': 68.76, 'low': 63.59, 'open': 67.91, 'volume': 890944, 'adjClose': 67.41, 'adjHigh': 68.76, 'adjLow': 63.59, 'adjOpen': 67.91, 'adjVolume': 890944, 'divCash': 0.0, 'splitFactor': 1.0}, {'date': '2020-08-11T00:00:00.000Z', 'close': 62.75, 'high': 67.54, 'low': 62.75, 'open': 67.41, 'volume': 992531, 'adjClose': 62.75, 'adjHigh': 67.54, 'adjLow': 62.75, 'adjOpen': 67.41, 'adjVolume': 992531, 'divCash': 0.0, 'splitFactor': 1.0}, {'date': '2020-08-12T00:00:00.000Z', 'close': 60.67, 'high': 63.5, 'low': 57.1, 'open': 58.0, 'volume': 1888687, 'adjClose': 60.67, 'adjHigh': 63.5, 'adjLow': 57.1, 'adjOpen': 58.0, 'adjVolume': 1888687, 'divCash': 0.0, 'splitFactor': 1.0}, {'date': '2020-08-13T00:00:00.000Z', 'close': 59.26, 'high': 62.47, 'low': 58.25, 'open': 60.55, 'volume': 1007366, 'adjClose': 59.26, 'adjHigh': 62.47, 'adjLow': 58.25, 'adjOpen': 60.55, 'adjVolume': 1007366, 'divCash': 0.0, 'splitFactor': 1.0}, {'date': '2020-08-14T00:00:00.000Z', 'close': 63.22, 'high': 63.82, 'low': 59.47, 'open': 59.47, 'volume': 1062991, 'adjClose': 63.22, 'adjHigh': 63.82, 'adjLow': 59.47, 'adjOpen': 59.47, 'adjVolume': 1062991, 'divCash': 0.0, 'splitFactor': 1.0}, {'date': '2020-08-17T00:00:00.000Z', 'close': 61.48, 'high': 63.28, 'low': 60.27, 'open': 63.0, 'volume': 685098, 'adjClose': 61.48, 'adjHigh': 63.28, 'adjLow': 60.27, 'adjOpen': 63.0, 'adjVolume': 685098, 'divCash': 0.0, 'splitFactor': 1.0}, {'date': '2020-08-18T00:00:00.000Z', 'close': 61.79, 'high': 62.88, 'low': 60.5, 'open': 61.4, 'volume': 484043, 'adjClose': 61.79, 'adjHigh': 62.88, 'adjLow': 60.5, 'adjOpen': 61.4, 'adjVolume': 484043, 'divCash': 0.0, 'splitFactor': 1.0}, {'date': '2020-08-19T00:00:00.000Z', 'close': 61.7, 'high': 62.33, 'low': 60.8, 'open': 62.0, 'volume': 357611, 'adjClose': 61.7, 'adjHigh': 62.33, 'adjLow': 60.8, 'adjOpen': 62.0, 'adjVolume': 357611, 'divCash': 0.0, 'splitFactor': 1.0}, {'date': '2020-08-20T00:00:00.000Z', 'close': 59.86, 'high': 61.7, 'low': 59.66, 'open': 61.06, 'volume': 519684, 'adjClose': 59.86, 'adjHigh': 61.7, 'adjLow': 59.66, 'adjOpen': 61.06, 'adjVolume': 519684, 'divCash': 0.0, 'splitFactor': 1.0}, {'date': '2020-08-21T00:00:00.000Z', 'close': 60.2, 'high': 60.65, 'low': 59.52, 'open': 60.0, 'volume': 423901, 'adjClose': 60.2, 'adjHigh': 60.65, 'adjLow': 59.52, 'adjOpen': 60.0, 'adjVolume': 423901, 'divCash': 0.0, 'splitFactor': 1.0}, {'date': '2020-08-24T00:00:00.000Z', 'close': 66.0, 'high': 66.36, 'low': 60.65, 'open': 60.65, 'volume': 1713100, 'adjClose': 66.0, 'adjHigh': 66.36, 'adjLow': 60.65, 'adjOpen': 60.65, 'adjVolume': 1713100, 'divCash': 0.0, 'splitFactor': 1.0}, {'date': '2020-08-25T00:00:00.000Z', 'close': 61.01, 'high': 66.0, 'low': 60.18, 'open': 65.72, 'volume': 1644472, 'adjClose': 61.01, 'adjHigh': 66.0, 'adjLow': 60.18, 'adjOpen': 65.72, 'adjVolume': 1644472, 'divCash': 0.0, 'splitFactor': 1.0}, {'date': '2020-08-26T00:00:00.000Z', 'close': 61.13, 'high': 62.98, 'low': 60.21, 'open': 61.45, 'volume': 1165848, 'adjClose': 61.13, 'adjHigh': 62.98, 'adjLow': 60.21, 'adjOpen': 61.45, 'adjVolume': 1165848, 'divCash': 0.0, 'splitFactor': 1.0}, {'date': '2020-08-27T00:00:00.000Z', 'close': 58.39, 'high': 62.66, 'low': 58.1896, 'open': 62.2, 'volume': 1294445, 'adjClose': 58.39, 'adjHigh': 62.66, 'adjLow': 58.1896, 'adjOpen': 62.2, 'adjVolume': 1294445, 'divCash': 0.0, 'splitFactor': 1.0}, {'date': '2020-08-28T00:00:00.000Z', 'close': 58.18, 'high': 61.69, 'low': 57.88, 'open': 59.4, 'volume': 1181260, 'adjClose': 58.18, 'adjHigh': 61.69, 'adjLow': 57.88, 'adjOpen': 59.4, 'adjVolume': 1181260, 'divCash': 0.0, 'splitFactor': 1.0}, {'date': '2020-08-31T00:00:00.000Z', 'close': 58.7, 'high': 59.2, 'low': 57.29, 'open': 58.25, 'volume': 866352, 'adjClose': 58.7, 'adjHigh': 59.2, 'adjLow': 57.29, 'adjOpen': 58.25, 'adjVolume': 866352, 'divCash': 0.0, 'splitFactor': 1.0}, {'date': '2020-09-01T00:00:00.000Z', 'close': 56.19, 'high': 59.21, 'low': 55.5, 'open': 59.07, 'volume': 1305450, 'adjClose': 56.19, 'adjHigh': 59.21, 'adjLow': 55.5, 'adjOpen': 59.07, 'adjVolume': 1305450, 'divCash': 0.0, 'splitFactor': 1.0}, {'date': '2020-09-02T00:00:00.000Z', 'close': 54.7, 'high': 57.25, 'low': 52.725, 'open': 56.39, 'volume': 1905843, 'adjClose': 54.7, 'adjHigh': 57.25, 'adjLow': 52.725, 'adjOpen': 56.39, 'adjVolume': 1905843, 'divCash': 0.0, 'splitFactor': 1.0}, {'date': '2020-09-03T00:00:00.000Z', 'close': 50.83, 'high': 54.2, 'low': 50.0, 'open': 54.2, 'volume': 1656196, 'adjClose': 50.83, 'adjHigh': 54.2, 'adjLow': 50.0, 'adjOpen': 54.2, 'adjVolume': 1656196, 'divCash': 0.0, 'splitFactor': 1.0}, {'date': '2020-09-04T00:00:00.000Z', 'close': 47.27, 'high': 51.96, 'low': 44.1101, 'open': 50.73, 'volume': 2906902, 'adjClose': 47.27, 'adjHigh': 51.96, 'adjLow': 44.1101, 'adjOpen': 50.73, 'adjVolume': 2906902, 'divCash': 0.0, 'splitFactor': 1.0}, {'date': '2020-09-08T00:00:00.000Z', 'close': 47.18, 'high': 49.34, 'low': 44.905, 'open': 46.38, 'volume': 1112545, 'adjClose': 47.18, 'adjHigh': 49.34, 'adjLow': 44.905, 'adjOpen': 46.38, 'adjVolume': 1112545, 'divCash': 0.0, 'splitFactor': 1.0}, {'date': '2020-09-09T00:00:00.000Z', 'close': 50.18, 'high': 51.29, 'low': 48.25, 'open': 48.49, 'volume': 1095611, 'adjClose': 50.18, 'adjHigh': 51.29, 'adjLow': 48.25, 'adjOpen': 48.49, 'adjVolume': 1095611, 'divCash': 0.0, 'splitFactor': 1.0}, {'date': '2020-09-10T00:00:00.000Z', 'close': 52.4, 'high': 54.75, 'low': 50.9, 'open': 51.5, 'volume': 962964, 'adjClose': 52.4, 'adjHigh': 54.75, 'adjLow': 50.9, 'adjOpen': 51.5, 'adjVolume': 962964, 'divCash': 0.0, 'splitFactor': 1.0}, {'date': '2020-09-11T00:00:00.000Z', 'close': 50.12, 'high': 52.865, 'low': 49.9, 'open': 52.69, 'volume': 703959, 'adjClose': 50.12, 'adjHigh': 52.865, 'adjLow': 49.9, 'adjOpen': 52.69, 'adjVolume': 703959, 'divCash': 0.0, 'splitFactor': 1.0}, {'date': '2020-09-14T00:00:00.000Z', 'close': 48.71, 'high': 51.255, 'low': 47.395, 'open': 50.9, 'volume': 1124966, 'adjClose': 48.71, 'adjHigh': 51.255, 'adjLow': 47.395, 'adjOpen': 50.9, 'adjVolume': 1124966, 'divCash': 0.0, 'splitFactor': 1.0}, {'date': '2020-09-15T00:00:00.000Z', 'close': 47.15, 'high': 49.67, 'low': 46.745, 'open': 49.5, 'volume': 890566, 'adjClose': 47.15, 'adjHigh': 49.67, 'adjLow': 46.745, 'adjOpen': 49.5, 'adjVolume': 890566, 'divCash': 0.0, 'splitFactor': 1.0}, {'date': '2020-09-16T00:00:00.000Z', 'close': 48.65, 'high': 49.49, 'low': 47.25, 'open': 47.31, 'volume': 923681, 'adjClose': 48.65, 'adjHigh': 49.49, 'adjLow': 47.25, 'adjOpen': 47.31, 'adjVolume': 923681, 'divCash': 0.0, 'splitFactor': 1.0}, {'date': '2020-09-17T00:00:00.000Z', 'close': 51.88, 'high': 52.07, 'low': 47.19, 'open': 47.2, 'volume': 1174865, 'adjClose': 51.88, 'adjHigh': 52.07, 'adjLow': 47.19, 'adjOpen': 47.2, 'adjVolume': 1174865, 'divCash': 0.0, 'splitFactor': 1.0}, {'date': '2020-09-18T00:00:00.000Z', 'close': 55.24, 'high': 56.4095, 'low': 51.2, 'open': 51.91, 'volume': 2948172, 'adjClose': 55.24, 'adjHigh': 56.4095, 'adjLow': 51.2, 'adjOpen': 51.91, 'adjVolume': 2948172, 'divCash': 0.0, 'splitFactor': 1.0}, {'date': '2020-09-21T00:00:00.000Z', 'close': 52.93, 'high': 54.5, 'low': 50.36, 'open': 53.31, 'volume': 1410172, 'adjClose': 52.93, 'adjHigh': 54.5, 'adjLow': 50.36, 'adjOpen': 53.31, 'adjVolume': 1410172, 'divCash': 0.0, 'splitFactor': 1.0}, {'date': '2020-09-22T00:00:00.000Z', 'close': 54.07, 'high': 54.3, 'low': 50.7, 'open': 52.43, 'volume': 588608, 'adjClose': 54.07, 'adjHigh': 54.3, 'adjLow': 50.7, 'adjOpen': 52.43, 'adjVolume': 588608, 'divCash': 0.0, 'splitFactor': 1.0}, {'date': '2020-09-23T00:00:00.000Z', 'close': 49.87, 'high': 56.99, 'low': 49.55, 'open': 54.3, 'volume': 997184, 'adjClose': 49.87, 'adjHigh': 56.99, 'adjLow': 49.55, 'adjOpen': 54.3, 'adjVolume': 997184, 'divCash': 0.0, 'splitFactor': 1.0}, {'date': '2020-09-24T00:00:00.000Z', 'close': 47.98, 'high': 50.81, 'low': 47.31, 'open': 48.8, 'volume': 841353, 'adjClose': 47.98, 'adjHigh': 50.81, 'adjLow': 47.31, 'adjOpen': 48.8, 'adjVolume': 841353, 'divCash': 0.0, 'splitFactor': 1.0}, {'date': '2020-09-25T00:00:00.000Z', 'close': 50.93, 'high': 51.03, 'low': 48.0, 'open': 48.0, 'volume': 482583, 'adjClose': 50.93, 'adjHigh': 51.03, 'adjLow': 48.0, 'adjOpen': 48.0, 'adjVolume': 482583, 'divCash': 0.0, 'splitFactor': 1.0}, {'date': '2020-09-28T00:00:00.000Z', 'close': 51.25, 'high': 52.3, 'low': 50.2, 'open': 52.0, 'volume': 418424, 'adjClose': 51.25, 'adjHigh': 52.3, 'adjLow': 50.2, 'adjOpen': 52.0, 'adjVolume': 418424, 'divCash': 0.0, 'splitFactor': 1.0}, {'date': '2020-09-29T00:00:00.000Z', 'close': 49.61, 'high': 50.94, 'low': 48.56, 'open': 50.5, 'volume': 742508, 'adjClose': 49.61, 'adjHigh': 50.94, 'adjLow': 48.56, 'adjOpen': 50.5, 'adjVolume': 742508, 'divCash': 0.0, 'splitFactor': 1.0}, {'date': '2020-09-30T00:00:00.000Z', 'close': 49.72, 'high': 51.53, 'low': 49.3, 'open': 49.3, 'volume': 614582, 'adjClose': 49.72, 'adjHigh': 51.53, 'adjLow': 49.3, 'adjOpen': 49.3, 'adjVolume': 614582, 'divCash': 0.0, 'splitFactor': 1.0}, {'date': '2020-10-01T00:00:00.000Z', 'close': 51.46, 'high': 52.23, 'low': 48.4, 'open': 50.26, 'volume': 904797, 'adjClose': 51.46, 'adjHigh': 52.23, 'adjLow': 48.4, 'adjOpen': 50.26, 'adjVolume': 904797, 'divCash': 0.0, 'splitFactor': 1.0}, {'date': '2020-10-02T00:00:00.000Z', 'close': 51.58, 'high': 53.41, 'low': 49.24, 'open': 49.5, 'volume': 1098412, 'adjClose': 51.58, 'adjHigh': 53.41, 'adjLow': 49.24, 'adjOpen': 49.5, 'adjVolume': 1098412, 'divCash': 0.0, 'splitFactor': 1.0}, {'date': '2020-10-05T00:00:00.000Z', 'close': 54.0, 'high': 54.75, 'low': 52.76, 'open': 53.02, 'volume': 590799, 'adjClose': 54.0, 'adjHigh': 54.75, 'adjLow': 52.76, 'adjOpen': 53.02, 'adjVolume': 590799, 'divCash': 0.0, 'splitFactor': 1.0}, {'date': '2020-10-06T00:00:00.000Z', 'close': 52.44, 'high': 55.39, 'low': 51.7, 'open': 54.76, 'volume': 552875, 'adjClose': 52.44, 'adjHigh': 55.39, 'adjLow': 51.7, 'adjOpen': 54.76, 'adjVolume': 552875, 'divCash': 0.0, 'splitFactor': 1.0}, {'date': '2020-10-07T00:00:00.000Z', 'close': 53.6, 'high': 54.9, 'low': 53.13, 'open': 53.13, 'volume': 423266, 'adjClose': 53.6, 'adjHigh': 54.9, 'adjLow': 53.13, 'adjOpen': 53.13, 'adjVolume': 423266, 'divCash': 0.0, 'splitFactor': 1.0}, {'date': '2020-10-08T00:00:00.000Z', 'close': 60.1, 'high': 60.12, 'low': 54.51, 'open': 54.7, 'volume': 1547282, 'adjClose': 60.1, 'adjHigh': 60.12, 'adjLow': 54.51, 'adjOpen': 54.7, 'adjVolume': 1547282, 'divCash': 0.0, 'splitFactor': 1.0}, {'date': '2020-10-09T00:00:00.000Z', 'close': 67.81, 'high': 68.1897, 'low': 58.55, 'open': 60.11, 'volume': 2353911, 'adjClose': 67.81, 'adjHigh': 68.1897, 'adjLow': 58.55, 'adjOpen': 60.11, 'adjVolume': 2353911, 'divCash': 0.0, 'splitFactor': 1.0}, {'date': '2020-10-12T00:00:00.000Z', 'close': 66.17, 'high': 68.99, 'low': 63.01, 'open': 67.81, 'volume': 1408063, 'adjClose': 66.17, 'adjHigh': 68.99, 'adjLow': 63.01, 'adjOpen': 67.81, 'adjVolume': 1408063, 'divCash': 0.0, 'splitFactor': 1.0}, {'date': '2020-10-13T00:00:00.000Z', 'close': 66.73, 'high': 68.74, 'low': 64.0, 'open': 65.02, 'volume': 756434, 'adjClose': 66.73, 'adjHigh': 68.74, 'adjLow': 64.0, 'adjOpen': 65.02, 'adjVolume': 756434, 'divCash': 0.0, 'splitFactor': 1.0}, {'date': '2020-10-14T00:00:00.000Z', 'close': 68.0, 'high': 72.55, 'low': 65.67, 'open': 67.0, 'volume': 1498450, 'adjClose': 68.0, 'adjHigh': 72.55, 'adjLow': 65.67, 'adjOpen': 67.0, 'adjVolume': 1498450, 'divCash': 0.0, 'splitFactor': 1.0}, {'date': '2020-10-15T00:00:00.000Z', 'close': 62.41, 'high': 65.62, 'low': 61.24, 'open': 64.02, 'volume': 1849758, 'adjClose': 62.41, 'adjHigh': 65.62, 'adjLow': 61.24, 'adjOpen': 64.02, 'adjVolume': 1849758, 'divCash': 0.0, 'splitFactor': 1.0}, {'date': '2020-10-16T00:00:00.000Z', 'close': 58.99, 'high': 63.64, 'low': 58.72, 'open': 63.31, 'volume': 1119713, 'adjClose': 58.99, 'adjHigh': 63.64, 'adjLow': 58.72, 'adjOpen': 63.31, 'adjVolume': 1119713, 'divCash': 0.0, 'splitFactor': 1.0}, {'date': '2020-10-19T00:00:00.000Z', 'close': 58.95, 'high': 60.96, 'low': 58.5101, 'open': 59.34, 'volume': 636701, 'adjClose': 58.95, 'adjHigh': 60.96, 'adjLow': 58.5101, 'adjOpen': 59.34, 'adjVolume': 636701, 'divCash': 0.0, 'splitFactor': 1.0}, {'date': '2020-10-20T00:00:00.000Z', 'close': 58.58, 'high': 60.735, 'low': 58.5, 'open': 59.93, 'volume': 486369, 'adjClose': 58.58, 'adjHigh': 60.735, 'adjLow': 58.5, 'adjOpen': 59.93, 'adjVolume': 486369, 'divCash': 0.0, 'splitFactor': 1.0}, {'date': '2020-10-21T00:00:00.000Z', 'close': 57.98, 'high': 59.59, 'low': 56.76, 'open': 59.06, 'volume': 604114, 'adjClose': 57.98, 'adjHigh': 59.59, 'adjLow': 56.76, 'adjOpen': 59.06, 'adjVolume': 604114, 'divCash': 0.0, 'splitFactor': 1.0}, {'date': '2020-10-22T00:00:00.000Z', 'close': 52.53, 'high': 58.6399, 'low': 52.3215, 'open': 57.93, 'volume': 1420127, 'adjClose': 52.53, 'adjHigh': 58.6399, 'adjLow': 52.3215, 'adjOpen': 57.93, 'adjVolume': 1420127, 'divCash': 0.0, 'splitFactor': 1.0}, {'date': '2020-10-23T00:00:00.000Z', 'close': 51.09, 'high': 53.87, 'low': 50.0, 'open': 53.77, 'volume': 1417613, 'adjClose': 51.09, 'adjHigh': 53.87, 'adjLow': 50.0, 'adjOpen': 53.77, 'adjVolume': 1417613, 'divCash': 0.0, 'splitFactor': 1.0}, {'date': '2020-10-26T00:00:00.000Z', 'close': 51.19, 'high': 52.28, 'low': 48.94, 'open': 50.55, 'volume': 1125808, 'adjClose': 51.19, 'adjHigh': 52.28, 'adjLow': 48.94, 'adjOpen': 50.55, 'adjVolume': 1125808, 'divCash': 0.0, 'splitFactor': 1.0}, {'date': '2020-10-27T00:00:00.000Z', 'close': 50.73, 'high': 51.89, 'low': 49.8, 'open': 51.64, 'volume': 448077, 'adjClose': 50.73, 'adjHigh': 51.89, 'adjLow': 49.8, 'adjOpen': 51.64, 'adjVolume': 448077, 'divCash': 0.0, 'splitFactor': 1.0}, {'date': '2020-10-28T00:00:00.000Z', 'close': 49.13, 'high': 50.2, 'low': 48.0, 'open': 48.9, 'volume': 893300, 'adjClose': 49.13, 'adjHigh': 50.2, 'adjLow': 48.0, 'adjOpen': 48.9, 'adjVolume': 893300, 'divCash': 0.0, 'splitFactor': 1.0}, {'date': '2020-10-29T00:00:00.000Z', 'close': 46.9, 'high': 49.9163, 'low': 46.601, 'open': 49.54, 'volume': 1109322, 'adjClose': 46.9, 'adjHigh': 49.9163, 'adjLow': 46.601, 'adjOpen': 49.54, 'adjVolume': 1109322, 'divCash': 0.0, 'splitFactor': 1.0}, {'date': '2020-10-30T00:00:00.000Z', 'close': 50.29, 'high': 51.1479, 'low': 47.09, 'open': 47.69, 'volume': 986586, 'adjClose': 50.29, 'adjHigh': 51.1479, 'adjLow': 47.09, 'adjOpen': 47.69, 'adjVolume': 986586, 'divCash': 0.0, 'splitFactor': 1.0}, {'date': '2020-11-02T00:00:00.000Z', 'close': 52.96, 'high': 54.02, 'low': 51.01, 'open': 52.49, 'volume': 908837, 'adjClose': 52.96, 'adjHigh': 54.02, 'adjLow': 51.01, 'adjOpen': 52.49, 'adjVolume': 908837, 'divCash': 0.0, 'splitFactor': 1.0}, {'date': '2020-11-03T00:00:00.000Z', 'close': 58.4, 'high': 59.28, 'low': 53.49, 'open': 53.49, 'volume': 1063510, 'adjClose': 58.4, 'adjHigh': 59.28, 'adjLow': 53.49, 'adjOpen': 53.49, 'adjVolume': 1063510, 'divCash': 0.0, 'splitFactor': 1.0}]\n"
     ]
    }
   ],
   "source": [
    "data_response = get_stock_data('LMND', '2020-06-01', '2020-11-03')\n",
    "# print(data_response.url)\n",
    "print(data_response.json())"
   ]
  },
  {
   "cell_type": "code",
   "execution_count": 373,
   "metadata": {},
   "outputs": [],
   "source": [
    "# dates = []\n",
    "# closes = []\n",
    "    \n",
    "# for json_object in data_response:\n",
    "#     date = json_object['date']\n",
    "#     df = json_normalize(date)\n",
    "\n",
    "# #     close = json_object['close']\n",
    "\n",
    "# dates"
   ]
  },
  {
   "cell_type": "code",
   "execution_count": 374,
   "metadata": {},
   "outputs": [],
   "source": [
    "def create_datasets(ticker, start_date, end_date):\n",
    "    json_data = data_response.json()\n",
    "    \n",
    "    dates = []\n",
    "    highs = []\n",
    "    lows = []\n",
    "    opens = []\n",
    "    closes = []\n",
    "    vols = []\n",
    "    \n",
    "    for json_object in json_data:\n",
    "        date = json_object['date']\n",
    "        high = json_object['high']\n",
    "        low = json_object['low']\n",
    "        opened = json_object['open']\n",
    "        close = json_object['close']\n",
    "        vol = json_object['volume']\n",
    "        \n",
    "        dates.append(date)\n",
    "        highs.append(high)\n",
    "        lows.append(low)\n",
    "        opens.append(opened)\n",
    "        closes.append(close)\n",
    "        vols.append(vol)\n",
    "    \n",
    "    \n",
    "    df = pd.DataFrame(list(zip(dates, closes)), columns=['Dates', 'Closes']) \n",
    "    \n",
    "    return df"
   ]
  },
  {
   "cell_type": "markdown",
   "metadata": {},
   "source": [
    "## Create DataFrame"
   ]
  },
  {
   "cell_type": "code",
   "execution_count": 375,
   "metadata": {},
   "outputs": [
    {
     "data": {
      "text/html": [
       "<div>\n",
       "<style scoped>\n",
       "    .dataframe tbody tr th:only-of-type {\n",
       "        vertical-align: middle;\n",
       "    }\n",
       "\n",
       "    .dataframe tbody tr th {\n",
       "        vertical-align: top;\n",
       "    }\n",
       "\n",
       "    .dataframe thead th {\n",
       "        text-align: right;\n",
       "    }\n",
       "</style>\n",
       "<table border=\"1\" class=\"dataframe\">\n",
       "  <thead>\n",
       "    <tr style=\"text-align: right;\">\n",
       "      <th></th>\n",
       "      <th>Dates</th>\n",
       "      <th>Closes</th>\n",
       "    </tr>\n",
       "  </thead>\n",
       "  <tbody>\n",
       "    <tr>\n",
       "      <th>82</th>\n",
       "      <td>2020-10-28T00:00:00.000Z</td>\n",
       "      <td>49.13</td>\n",
       "    </tr>\n",
       "    <tr>\n",
       "      <th>83</th>\n",
       "      <td>2020-10-29T00:00:00.000Z</td>\n",
       "      <td>46.90</td>\n",
       "    </tr>\n",
       "    <tr>\n",
       "      <th>84</th>\n",
       "      <td>2020-10-30T00:00:00.000Z</td>\n",
       "      <td>50.29</td>\n",
       "    </tr>\n",
       "    <tr>\n",
       "      <th>85</th>\n",
       "      <td>2020-11-02T00:00:00.000Z</td>\n",
       "      <td>52.96</td>\n",
       "    </tr>\n",
       "    <tr>\n",
       "      <th>86</th>\n",
       "      <td>2020-11-03T00:00:00.000Z</td>\n",
       "      <td>58.40</td>\n",
       "    </tr>\n",
       "  </tbody>\n",
       "</table>\n",
       "</div>"
      ],
      "text/plain": [
       "                       Dates  Closes\n",
       "82  2020-10-28T00:00:00.000Z   49.13\n",
       "83  2020-10-29T00:00:00.000Z   46.90\n",
       "84  2020-10-30T00:00:00.000Z   50.29\n",
       "85  2020-11-02T00:00:00.000Z   52.96\n",
       "86  2020-11-03T00:00:00.000Z   58.40"
      ]
     },
     "execution_count": 375,
     "metadata": {},
     "output_type": "execute_result"
    }
   ],
   "source": [
    "api_df = create_datasets('LMND', '2020-06-01', '2020-11-03')\n",
    "#x_test, y_test = create_datasets('LMND', '2020-06-01', '2020-10-31')\n",
    "\n",
    "api_df.tail()"
   ]
  },
  {
   "cell_type": "code",
   "execution_count": 376,
   "metadata": {},
   "outputs": [
    {
     "data": {
      "image/png": "[encoded data removed]",
      "text/plain": [
       "<Figure size 432x288 with 1 Axes>"
      ]
     },
     "metadata": {
      "needs_background": "light"
     },
     "output_type": "display_data"
    }
   ],
   "source": [
    "plt.plot(api_df['Dates'],api_df['Closes'])\n",
    "plt.show()"
   ]
  },
  {
   "cell_type": "markdown",
   "metadata": {},
   "source": [
    "## Start Model Building W/ CSV"
   ]
  },
  {
   "cell_type": "code",
   "execution_count": 377,
   "metadata": {},
   "outputs": [
    {
     "data": {
      "text/html": [
       "<div>\n",
       "<style scoped>\n",
       "    .dataframe tbody tr th:only-of-type {\n",
       "        vertical-align: middle;\n",
       "    }\n",
       "\n",
       "    .dataframe tbody tr th {\n",
       "        vertical-align: top;\n",
       "    }\n",
       "\n",
       "    .dataframe thead th {\n",
       "        text-align: right;\n",
       "    }\n",
       "</style>\n",
       "<table border=\"1\" class=\"dataframe\">\n",
       "  <thead>\n",
       "    <tr style=\"text-align: right;\">\n",
       "      <th></th>\n",
       "      <th>Dates</th>\n",
       "      <th>Closes</th>\n",
       "    </tr>\n",
       "  </thead>\n",
       "  <tbody>\n",
       "    <tr>\n",
       "      <th>0</th>\n",
       "      <td>2020-07-02T00:00:00.000Z</td>\n",
       "      <td>69.41</td>\n",
       "    </tr>\n",
       "    <tr>\n",
       "      <th>1</th>\n",
       "      <td>2020-07-06T00:00:00.000Z</td>\n",
       "      <td>81.19</td>\n",
       "    </tr>\n",
       "    <tr>\n",
       "      <th>2</th>\n",
       "      <td>2020-07-07T00:00:00.000Z</td>\n",
       "      <td>78.79</td>\n",
       "    </tr>\n",
       "    <tr>\n",
       "      <th>3</th>\n",
       "      <td>2020-07-08T00:00:00.000Z</td>\n",
       "      <td>68.51</td>\n",
       "    </tr>\n",
       "    <tr>\n",
       "      <th>4</th>\n",
       "      <td>2020-07-09T00:00:00.000Z</td>\n",
       "      <td>77.01</td>\n",
       "    </tr>\n",
       "    <tr>\n",
       "      <th>...</th>\n",
       "      <td>...</td>\n",
       "      <td>...</td>\n",
       "    </tr>\n",
       "    <tr>\n",
       "      <th>82</th>\n",
       "      <td>2020-10-28T00:00:00.000Z</td>\n",
       "      <td>49.13</td>\n",
       "    </tr>\n",
       "    <tr>\n",
       "      <th>83</th>\n",
       "      <td>2020-10-29T00:00:00.000Z</td>\n",
       "      <td>46.90</td>\n",
       "    </tr>\n",
       "    <tr>\n",
       "      <th>84</th>\n",
       "      <td>2020-10-30T00:00:00.000Z</td>\n",
       "      <td>50.29</td>\n",
       "    </tr>\n",
       "    <tr>\n",
       "      <th>85</th>\n",
       "      <td>2020-11-02T00:00:00.000Z</td>\n",
       "      <td>52.96</td>\n",
       "    </tr>\n",
       "    <tr>\n",
       "      <th>86</th>\n",
       "      <td>2020-11-03T00:00:00.000Z</td>\n",
       "      <td>58.40</td>\n",
       "    </tr>\n",
       "  </tbody>\n",
       "</table>\n",
       "<p>87 rows × 2 columns</p>\n",
       "</div>"
      ],
      "text/plain": [
       "                       Dates  Closes\n",
       "0   2020-07-02T00:00:00.000Z   69.41\n",
       "1   2020-07-06T00:00:00.000Z   81.19\n",
       "2   2020-07-07T00:00:00.000Z   78.79\n",
       "3   2020-07-08T00:00:00.000Z   68.51\n",
       "4   2020-07-09T00:00:00.000Z   77.01\n",
       "..                       ...     ...\n",
       "82  2020-10-28T00:00:00.000Z   49.13\n",
       "83  2020-10-29T00:00:00.000Z   46.90\n",
       "84  2020-10-30T00:00:00.000Z   50.29\n",
       "85  2020-11-02T00:00:00.000Z   52.96\n",
       "86  2020-11-03T00:00:00.000Z   58.40\n",
       "\n",
       "[87 rows x 2 columns]"
      ]
     },
     "execution_count": 377,
     "metadata": {},
     "output_type": "execute_result"
    }
   ],
   "source": [
    "# pd.to_datetime(api_df['Dates'])\n",
    "# api_df['Dates'] = api_df['Dates'].astype(str)\n",
    "api_df"
   ]
  },
  {
   "cell_type": "code",
   "execution_count": 378,
   "metadata": {
    "scrolled": true
   },
   "outputs": [
    {
     "data": {
      "text/plain": [
       "Index(['Dates', 'Closes'], dtype='object')"
      ]
     },
     "execution_count": 378,
     "metadata": {},
     "output_type": "execute_result"
    }
   ],
   "source": [
    "# df = pd.read_csv('Data/CAKE.csv', header=0, usecols=['Date', 'Close'], parse_dates=True, index_col='Date')\n",
    "# df.head()\n",
    "api_df.columns"
   ]
  },
  {
   "cell_type": "code",
   "execution_count": 379,
   "metadata": {},
   "outputs": [],
   "source": [
    "# from datetime import datetime\n",
    "# api_df['Dates'] = datetime.fromisoformat(api_df['Dates'][14][:-1])\n",
    "# # api_df[:-5]\n",
    "# api_df['Dates']\n",
    "# df['New_Sample'] = df.Sample.apply(lambda x: x[:1])"
   ]
  },
  {
   "cell_type": "code",
   "execution_count": 380,
   "metadata": {},
   "outputs": [
    {
     "data": {
      "text/plain": [
       "0     2020-07-02\n",
       "1     2020-07-02\n",
       "2     2020-07-02\n",
       "3     2020-07-02\n",
       "4     2020-07-02\n",
       "         ...    \n",
       "82    2020-07-02\n",
       "83    2020-07-02\n",
       "84    2020-07-02\n",
       "85    2020-07-02\n",
       "86    2020-07-02\n",
       "Name: Dates, Length: 87, dtype: object"
      ]
     },
     "execution_count": 380,
     "metadata": {},
     "output_type": "execute_result"
    }
   ],
   "source": [
    "# df.tail()\n",
    "api_df['Dates'] = api_df['Dates'][0][:-14]\n",
    "# api_df[:-5]\n",
    "api_df['Dates']"
   ]
  },
  {
   "cell_type": "markdown",
   "metadata": {},
   "source": [
    "## Perform Data Preprocessing"
   ]
  },
  {
   "cell_type": "code",
   "execution_count": 381,
   "metadata": {
    "scrolled": true
   },
   "outputs": [],
   "source": [
    "# api_df['Dates'] = api_df['Dates'].astype(float)\n",
    "#df['DataFrame Column'] = df['DataFrame Column'].astype(float)\n",
    "\n",
    "#This will turn all of the string value into category values\n",
    "for label, content in api_df.items():\n",
    "    if pd.api.types.is_string_dtype(content):\n",
    "        api_df[label] = content.astype(\"category\").cat.as_ordered()"
   ]
  },
  {
   "cell_type": "code",
   "execution_count": 382,
   "metadata": {},
   "outputs": [
    {
     "data": {
      "text/plain": [
       "0     2020-07-02\n",
       "1     2020-07-02\n",
       "2     2020-07-02\n",
       "3     2020-07-02\n",
       "4     2020-07-02\n",
       "         ...    \n",
       "82    2020-07-02\n",
       "83    2020-07-02\n",
       "84    2020-07-02\n",
       "85    2020-07-02\n",
       "86    2020-07-02\n",
       "Name: Dates, Length: 87, dtype: category\n",
       "Categories (1, object): ['2020-07-02']"
      ]
     },
     "execution_count": 382,
     "metadata": {},
     "output_type": "execute_result"
    }
   ],
   "source": [
    "api_df['Dates']"
   ]
  },
  {
   "cell_type": "markdown",
   "metadata": {},
   "source": [
    "# Convert String into Datetime Object"
   ]
  },
  {
   "cell_type": "code",
   "execution_count": 383,
   "metadata": {},
   "outputs": [
    {
     "data": {
      "text/plain": [
       "0    2020-07-02\n",
       "1    2020-07-02\n",
       "2    2020-07-02\n",
       "3    2020-07-02\n",
       "4    2020-07-02\n",
       "        ...    \n",
       "82   2020-07-02\n",
       "83   2020-07-02\n",
       "84   2020-07-02\n",
       "85   2020-07-02\n",
       "86   2020-07-02\n",
       "Name: Dates, Length: 87, dtype: category\n",
       "Categories (1, datetime64[ns]): [2020-07-02]"
      ]
     },
     "execution_count": 383,
     "metadata": {},
     "output_type": "execute_result"
    }
   ],
   "source": [
    "api_df['Dates'] = pd.to_datetime(api_df['Dates'])\n",
    "\n",
    "api_df['Dates']"
   ]
  },
  {
   "cell_type": "markdown",
   "metadata": {},
   "source": [
    "## Scale Data"
   ]
  },
  {
   "cell_type": "code",
   "execution_count": 395,
   "metadata": {},
   "outputs": [],
   "source": [
    "from sklearn.preprocessing import MinMaxScaler \n",
    "\n",
    "scaler = MinMaxScaler()\n",
    "scaled_data = scaler.fit_transform(api_df)\n"
   ]
  },
  {
   "cell_type": "code",
   "execution_count": 396,
   "metadata": {
    "scrolled": true
   },
   "outputs": [
    {
     "data": {
      "text/plain": [
       "array([[0.57732752],\n",
       "       [0.87945627],\n",
       "       [0.81790203],\n",
       "       [0.55424468],\n",
       "       [0.77224929],\n",
       "       [0.96845345],\n",
       "       [0.81046422],\n",
       "       [0.74993588],\n",
       "       [0.69941011],\n",
       "       [0.83072583],\n",
       "       [1.        ],\n",
       "       [0.95768146],\n",
       "       [0.87073609],\n",
       "       [0.81046422],\n",
       "       [0.90433444],\n",
       "       [0.79687099],\n",
       "       [0.66940241],\n",
       "       [0.50089767],\n",
       "       [0.56809438],\n",
       "       [0.46678636],\n",
       "       [0.28930495],\n",
       "       [0.25545012],\n",
       "       [0.36522185],\n",
       "       [0.45088484],\n",
       "       [0.55911772],\n",
       "       [0.51141318],\n",
       "       [0.52603232],\n",
       "       [0.40651449],\n",
       "       [0.35316748],\n",
       "       [0.31700436],\n",
       "       [0.41856886],\n",
       "       [0.37394204],\n",
       "       [0.38189279],\n",
       "       [0.37958451],\n",
       "       [0.33239292],\n",
       "       [0.34111311],\n",
       "       [0.4898692 ],\n",
       "       [0.36188766],\n",
       "       [0.36496538],\n",
       "       [0.29469095],\n",
       "       [0.28930495],\n",
       "       [0.3026417 ],\n",
       "       [0.23826622],\n",
       "       [0.2000513 ],\n",
       "       [0.10079508],\n",
       "       [0.00948961],\n",
       "       [0.00718133],\n",
       "       [0.08412413],\n",
       "       [0.14106181],\n",
       "       [0.08258528],\n",
       "       [0.04642216],\n",
       "       [0.0064119 ],\n",
       "       [0.0448833 ],\n",
       "       [0.12772506],\n",
       "       [0.213901  ],\n",
       "       [0.15465504],\n",
       "       [0.18389331],\n",
       "       [0.07617338],\n",
       "       [0.02769941],\n",
       "       [0.10335984],\n",
       "       [0.11156707],\n",
       "       [0.069505  ],\n",
       "       [0.07232624],\n",
       "       [0.11695306],\n",
       "       [0.12003078],\n",
       "       [0.18209797],\n",
       "       [0.14208771],\n",
       "       [0.17183893],\n",
       "       [0.33854835],\n",
       "       [0.53629136],\n",
       "       [0.49422929],\n",
       "       [0.50859195],\n",
       "       [0.5411644 ],\n",
       "       [0.39779431],\n",
       "       [0.31007951],\n",
       "       [0.3090536 ],\n",
       "       [0.29956399],\n",
       "       [0.28417543],\n",
       "       [0.144396  ],\n",
       "       [0.10746345],\n",
       "       [0.11002821],\n",
       "       [0.09823032],\n",
       "       [0.05719415],\n",
       "       [0.        ],\n",
       "       [0.08694537],\n",
       "       [0.15542447],\n",
       "       [0.29494742]])"
      ]
     },
     "execution_count": 396,
     "metadata": {},
     "output_type": "execute_result"
    }
   ],
   "source": [
    "scaled_data"
   ]
  },
  {
   "cell_type": "markdown",
   "metadata": {},
   "source": [
    "## Test Train Split"
   ]
  },
  {
   "cell_type": "code",
   "execution_count": null,
   "metadata": {},
   "outputs": [],
   "source": []
  },
  {
   "cell_type": "code",
   "execution_count": 397,
   "metadata": {},
   "outputs": [],
   "source": [
    "train_length = int(len(scaled_data) * .7)\n",
    "test_length = len(scaled_data) - train_length\n",
    "train_data = scaled_data[0:train_length, :]\n",
    "test_data = scaled_data[train_length: len(scaled_data), :]"
   ]
  },
  {
   "cell_type": "code",
   "execution_count": 398,
   "metadata": {},
   "outputs": [],
   "source": [
    "# turn data into np arrays\n",
    "import numpy as np "
   ]
  },
  {
   "cell_type": "code",
   "execution_count": 399,
   "metadata": {},
   "outputs": [],
   "source": [
    "def create_dataset(dataset, timestep):\n",
    "    data_x, data_y = [], []\n",
    "    \n",
    "    for i in range(len(dataset)-timestep-1):\n",
    "        data_x.append(dataset[i:(i+timestep),0])\n",
    "        data_y.append(dataset[i+timestep,0])\n",
    "        \n",
    "    return np.array(data_x), np.array(data_y)\n",
    "        "
   ]
  },
  {
   "cell_type": "code",
   "execution_count": 400,
   "metadata": {},
   "outputs": [
    {
     "name": "stdout",
     "output_type": "stream",
     "text": [
      "[[0.57732752]\n",
      " [0.87945627]\n",
      " [0.81790203]\n",
      " [0.55424468]\n",
      " [0.77224929]\n",
      " [0.96845345]\n",
      " [0.81046422]\n",
      " [0.74993588]\n",
      " [0.69941011]\n",
      " [0.83072583]]\n"
     ]
    }
   ],
   "source": [
    "timestep = 1 \n",
    "train_x, train_y = create_dataset(train_data, timestep)\n",
    "test_x, test_y = create_dataset(test_data, timestep)\n",
    "\n",
    "print(train_x[:10])"
   ]
  },
  {
   "cell_type": "code",
   "execution_count": 401,
   "metadata": {},
   "outputs": [
    {
     "name": "stdout",
     "output_type": "stream",
     "text": [
      "(58, 1)\n"
     ]
    }
   ],
   "source": [
    "print(train_x.shape)"
   ]
  },
  {
   "cell_type": "code",
   "execution_count": 402,
   "metadata": {},
   "outputs": [
    {
     "name": "stdout",
     "output_type": "stream",
     "text": [
      "[[[0.57732752]]\n",
      "\n",
      " [[0.87945627]]\n",
      "\n",
      " [[0.81790203]]\n",
      "\n",
      " [[0.55424468]]\n",
      "\n",
      " [[0.77224929]]\n",
      "\n",
      " [[0.96845345]]\n",
      "\n",
      " [[0.81046422]]\n",
      "\n",
      " [[0.74993588]]\n",
      "\n",
      " [[0.69941011]]\n",
      "\n",
      " [[0.83072583]]\n",
      "\n",
      " [[1.        ]]\n",
      "\n",
      " [[0.95768146]]\n",
      "\n",
      " [[0.87073609]]\n",
      "\n",
      " [[0.81046422]]\n",
      "\n",
      " [[0.90433444]]\n",
      "\n",
      " [[0.79687099]]\n",
      "\n",
      " [[0.66940241]]\n",
      "\n",
      " [[0.50089767]]\n",
      "\n",
      " [[0.56809438]]\n",
      "\n",
      " [[0.46678636]]\n",
      "\n",
      " [[0.28930495]]\n",
      "\n",
      " [[0.25545012]]\n",
      "\n",
      " [[0.36522185]]\n",
      "\n",
      " [[0.45088484]]\n",
      "\n",
      " [[0.55911772]]\n",
      "\n",
      " [[0.51141318]]\n",
      "\n",
      " [[0.52603232]]\n",
      "\n",
      " [[0.40651449]]\n",
      "\n",
      " [[0.35316748]]\n",
      "\n",
      " [[0.31700436]]\n",
      "\n",
      " [[0.41856886]]\n",
      "\n",
      " [[0.37394204]]\n",
      "\n",
      " [[0.38189279]]\n",
      "\n",
      " [[0.37958451]]\n",
      "\n",
      " [[0.33239292]]\n",
      "\n",
      " [[0.34111311]]\n",
      "\n",
      " [[0.4898692 ]]\n",
      "\n",
      " [[0.36188766]]\n",
      "\n",
      " [[0.36496538]]\n",
      "\n",
      " [[0.29469095]]\n",
      "\n",
      " [[0.28930495]]\n",
      "\n",
      " [[0.3026417 ]]\n",
      "\n",
      " [[0.23826622]]\n",
      "\n",
      " [[0.2000513 ]]\n",
      "\n",
      " [[0.10079508]]\n",
      "\n",
      " [[0.00948961]]\n",
      "\n",
      " [[0.00718133]]\n",
      "\n",
      " [[0.08412413]]\n",
      "\n",
      " [[0.14106181]]\n",
      "\n",
      " [[0.08258528]]\n",
      "\n",
      " [[0.04642216]]\n",
      "\n",
      " [[0.0064119 ]]\n",
      "\n",
      " [[0.0448833 ]]\n",
      "\n",
      " [[0.12772506]]\n",
      "\n",
      " [[0.213901  ]]\n",
      "\n",
      " [[0.15465504]]\n",
      "\n",
      " [[0.18389331]]\n",
      "\n",
      " [[0.07617338]]]\n"
     ]
    }
   ],
   "source": [
    "train_x = np.reshape(train_x, (train_x.shape[0], 1, train_x.shape[1]))\n",
    "test_x = np.reshape(test_x, (test_x.shape[0], 1, test_x.shape[1]))\n",
    "print(train_x)"
   ]
  },
  {
   "cell_type": "markdown",
   "metadata": {},
   "source": [
    "## Build Our Model"
   ]
  },
  {
   "cell_type": "code",
   "execution_count": 403,
   "metadata": {},
   "outputs": [],
   "source": [
    "from keras.models import Sequential \n",
    "from keras.layers import LSTM, Dense "
   ]
  },
  {
   "cell_type": "code",
   "execution_count": 404,
   "metadata": {},
   "outputs": [
    {
     "name": "stdout",
     "output_type": "stream",
     "text": [
      "Model: \"sequential_2\"\n",
      "_________________________________________________________________\n",
      "Layer (type)                 Output Shape              Param #   \n",
      "=================================================================\n",
      "lstm_2 (LSTM)                (None, 256)               264192    \n",
      "_________________________________________________________________\n",
      "dense_2 (Dense)              (None, 1)                 257       \n",
      "=================================================================\n",
      "Total params: 264,449\n",
      "Trainable params: 264,449\n",
      "Non-trainable params: 0\n",
      "_________________________________________________________________\n",
      "None\n"
     ]
    }
   ],
   "source": [
    "model = Sequential()\n",
    "\n",
    "# add our layers \n",
    "\n",
    "# add an lstm layer\n",
    "model.add(LSTM(256, input_shape=(1,1)))\n",
    "model.add(Dense(1, activation='relu'))\n",
    "\n",
    "# set our loss and optimize \n",
    "model.compile(loss='mean_squared_error', optimizer='adam', metrics=['accuracy'])\n",
    "print(model.summary())\n"
   ]
  },
  {
   "cell_type": "markdown",
   "metadata": {},
   "source": [
    "# Train & Fit Model"
   ]
  },
  {
   "cell_type": "code",
   "execution_count": 405,
   "metadata": {},
   "outputs": [
    {
     "name": "stdout",
     "output_type": "stream",
     "text": [
      "58/58 [==============================] - 0s 4ms/step - loss: 0.1239 - accuracy: 0.0000e+00\n",
      "Keras model loss = 0.04319775477051735\n",
      "Keras model accuracy = 0.017241379246115685\n"
     ]
    }
   ],
   "source": [
    "model.fit(train_x, train_y, epochs=1, batch_size=1, verbose=1)\n",
    "score = model.evaluate(train_x, train_y, verbose=0)\n",
    "print('Keras model loss =', score[0])\n",
    "print('Keras model accuracy =', score[1])"
   ]
  },
  {
   "cell_type": "markdown",
   "metadata": {},
   "source": [
    "## Evaluating Model"
   ]
  },
  {
   "cell_type": "code",
   "execution_count": 406,
   "metadata": {},
   "outputs": [
    {
     "data": {
      "text/plain": [
       "array([[0.4471217 ],\n",
       "       [0.5427542 ],\n",
       "       [0.5231578 ],\n",
       "       [0.4398742 ],\n",
       "       [0.50866014],\n",
       "       [0.57118386],\n",
       "       [0.5207936 ],\n",
       "       [0.5015858 ],\n",
       "       [0.4855947 ],\n",
       "       [0.52723575],\n",
       "       [0.5812881 ],\n",
       "       [0.56773686],\n",
       "       [0.5399745 ],\n",
       "       [0.5207936 ],\n",
       "       [0.55068994],\n",
       "       [0.5164753 ],\n",
       "       [0.47611615],\n",
       "       [0.42315808],\n",
       "       [0.44422165],\n",
       "       [0.4124942 ],\n",
       "       [0.3573317 ],\n",
       "       [0.34687224],\n",
       "       [0.3808603 ],\n",
       "       [0.40752974],\n",
       "       [0.4414035 ],\n",
       "       [0.4264493 ],\n",
       "       [0.43102816],\n",
       "       [0.39370018],\n",
       "       [0.37711748],\n",
       "       [0.36590463],\n",
       "       [0.39745393],\n",
       "       [0.38356942],\n",
       "       [0.38604054],\n",
       "       [0.3853229 ],\n",
       "       [0.37067333],\n",
       "       [0.3733773 ],\n",
       "       [0.41970828],\n",
       "       [0.3798248 ],\n",
       "       [0.38078055],\n",
       "       [0.35899767],\n",
       "       [0.3573317 ],\n",
       "       [0.36145768],\n",
       "       [0.34157112],\n",
       "       [0.3298014 ],\n",
       "       [0.29935747],\n",
       "       [0.27151608],\n",
       "       [0.27081427],\n",
       "       [0.29426226],\n",
       "       [0.311686  ],\n",
       "       [0.29379207],\n",
       "       [0.2827586 ],\n",
       "       [0.2705804 ],\n",
       "       [0.28228962],\n",
       "       [0.30759934],\n",
       "       [0.33406386],\n",
       "       [0.3158547 ],\n",
       "       [0.324833  ],\n",
       "       [0.29183403]], dtype=float32)"
      ]
     },
     "execution_count": 406,
     "metadata": {},
     "output_type": "execute_result"
    }
   ],
   "source": [
    "train_preds = model.predict(train_x)\n",
    "test_preds = model.predict(test_x)\n",
    "\n",
    "train_preds"
   ]
  },
  {
   "cell_type": "code",
   "execution_count": 407,
   "metadata": {},
   "outputs": [
    {
     "name": "stdout",
     "output_type": "stream",
     "text": [
      "[[64.333275]\n",
      " [68.06198 ]\n",
      " [67.29792 ]\n",
      " [64.05069 ]\n",
      " [66.73266 ]\n",
      " [69.17046 ]\n",
      " [67.20574 ]\n",
      " [66.45683 ]\n",
      " [65.833336]\n",
      " [67.456924]\n",
      " [69.56442 ]\n",
      " [69.03606 ]\n",
      " [67.953606]\n",
      " [67.20574 ]\n",
      " [68.3714  ]\n",
      " [67.03737 ]\n",
      " [65.46377 ]\n",
      " [63.398933]\n",
      " [64.2202  ]\n",
      " [62.983147]\n",
      " [60.832363]\n",
      " [60.424545]\n",
      " [61.749744]\n",
      " [62.78958 ]\n",
      " [64.11032 ]\n",
      " [63.527256]\n",
      " [63.705788]\n",
      " [62.25037 ]\n",
      " [61.60381 ]\n",
      " [61.166622]\n",
      " [62.39673 ]\n",
      " [61.855373]\n",
      " [61.95172 ]\n",
      " [61.92374 ]\n",
      " [61.35255 ]\n",
      " [61.45798 ]\n",
      " [63.264423]\n",
      " [61.709366]\n",
      " [61.746635]\n",
      " [60.89732 ]\n",
      " [60.832363]\n",
      " [60.993237]\n",
      " [60.217857]\n",
      " [59.758957]\n",
      " [58.57195 ]\n",
      " [57.486412]\n",
      " [57.45905 ]\n",
      " [58.373287]\n",
      " [59.05264 ]\n",
      " [58.354954]\n",
      " [57.924755]\n",
      " [57.44993 ]\n",
      " [57.90647 ]\n",
      " [58.893295]\n",
      " [59.92515 ]\n",
      " [59.21517 ]\n",
      " [59.56524 ]\n",
      " [58.278606]]\n"
     ]
    }
   ],
   "source": [
    "train_preds = scaler.inverse_transform(train_preds)\n",
    "train_y = scaler.inverse_transform([train_y])\n",
    "\n",
    "test_preds = scaler.inverse_transform(test_preds)\n",
    "test_y = scaler.inverse_transform([test_y])\n",
    "\n",
    "print(train_preds)"
   ]
  },
  {
   "cell_type": "code",
   "execution_count": 408,
   "metadata": {},
   "outputs": [],
   "source": [
    "train_predict_plot = np.empty_like(scaled_data)\n",
    "# create an empty array\n",
    "train_predict_plot[:,:] = np.nan\n",
    "train_predict_plot[1:len(train_preds)+1, :] = train_preds "
   ]
  },
  {
   "cell_type": "code",
   "execution_count": 409,
   "metadata": {},
   "outputs": [],
   "source": [
    "test_predict_plot = np.empty_like(scaled_data)\n",
    "# create an empty array\n",
    "test_predict_plot[:,:] = np.nan\n",
    "test_predict_plot[len(train_preds)+2+1:len(scaled_data)-1, :] = test_preds "
   ]
  },
  {
   "cell_type": "code",
   "execution_count": 410,
   "metadata": {},
   "outputs": [
    {
     "data": {
      "image/png": "[encoded data removed]",
      "text/plain": [
       "<Figure size 432x288 with 1 Axes>"
      ]
     },
     "metadata": {
      "needs_background": "light"
     },
     "output_type": "display_data"
    }
   ],
   "source": [
    "# blue\n",
    "plt.plot(scaler.inverse_transform(scaled_data), label='')\n",
    "# orange\n",
    "plt.plot(train_predict_plot)\n",
    "# green\n",
    "plt.plot(test_predict_plot)\n",
    "plt.show()"
   ]
  },
  {
   "cell_type": "code",
   "execution_count": null,
   "metadata": {},
   "outputs": [],
   "source": []
  }
 ],
 "metadata": {
  "kernelspec": {
   "display_name": "Python 3",
   "language": "python",
   "name": "python3"
  },
  "language_info": {
   "codemirror_mode": {
    "name": "ipython",
    "version": 3
   },
   "file_extension": ".py",
   "mimetype": "text/x-python",
   "name": "python",
   "nbconvert_exporter": "python",
   "pygments_lexer": "ipython3",
   "version": "3.7.9"
  }
 },
 "nbformat": 4,
 "nbformat_minor": 4
}
