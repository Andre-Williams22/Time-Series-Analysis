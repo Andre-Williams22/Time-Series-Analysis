{
 "cells": [
  {
   "cell_type": "markdown",
   "metadata": {},
   "source": [
    "## Grab Data Via API"
   ]
  },
  {
   "cell_type": "code",
   "execution_count": 1,
   "metadata": {},
   "outputs": [],
   "source": [
    "import requests"
   ]
  },
  {
   "cell_type": "code",
   "execution_count": 2,
   "metadata": {},
   "outputs": [],
   "source": [
    "def get_stock_data(ticker, start_date, end_date):\n",
    "    base_url = f'https://api.tiingo.com/tiingo/daily/{ticker}/prices?'\n",
    "    api_key = '50dbca4a8576228510cb129fe07db8e9a178bb9b'\n",
    "    payload = {\n",
    "        'token': api_key, \n",
    "        'startDate': start_date,\n",
    "        'endDate': end_date\n",
    "    }\n",
    "    response = requests.get(base_url, params=payload)\n",
    "    return response"
   ]
  },
  {
   "cell_type": "code",
   "execution_count": 3,
   "metadata": {},
   "outputs": [
    {
     "name": "stdout",
     "output_type": "stream",
     "text": [
      "https://api.tiingo.com/tiingo/daily/LMND/prices?token=50dbca4a8576228510cb129fe07db8e9a178bb9b&startDate=2020-06-01&endDate=2020-10-31\n",
      "[{'date': '2020-07-02T00:00:00.000Z', 'close': 69.41, 'high': 70.8, 'low': 49.02, 'open': 50.06, 'volume': 16697700, 'adjClose': 69.41, 'adjHigh': 70.8, 'adjLow': 49.02, 'adjOpen': 50.06, 'adjVolume': 16697700, 'divCash': 0.0, 'splitFactor': 1.0}, {'date': '2020-07-06T00:00:00.000Z', 'close': 81.19, 'high': 96.51, 'low': 73.11, 'open': 73.39, 'volume': 13445700, 'adjClose': 81.19, 'adjHigh': 96.51, 'adjLow': 73.11, 'adjOpen': 73.394, 'adjVolume': 13445700, 'divCash': 0.0, 'splitFactor': 1.0}, {'date': '2020-07-07T00:00:00.000Z', 'close': 78.79, 'high': 89.38, 'low': 75.0, 'open': 83.8, 'volume': 4599600, 'adjClose': 78.79, 'adjHigh': 89.38, 'adjLow': 75.0, 'adjOpen': 83.8, 'adjVolume': 4599600, 'divCash': 0.0, 'splitFactor': 1.0}, {'date': '2020-07-08T00:00:00.000Z', 'close': 68.51, 'high': 79.39, 'low': 68.06, 'open': 79.0, 'volume': 3489400, 'adjClose': 68.51, 'adjHigh': 79.39, 'adjLow': 68.06, 'adjOpen': 79.0, 'adjVolume': 3489400, 'divCash': 0.0, 'splitFactor': 1.0}, {'date': '2020-07-09T00:00:00.000Z', 'close': 77.01, 'high': 79.91, 'low': 69.03, 'open': 73.97, 'volume': 4165200, 'adjClose': 77.01, 'adjHigh': 79.91, 'adjLow': 69.03, 'adjOpen': 73.97, 'adjVolume': 4165200, 'divCash': 0.0, 'splitFactor': 1.0}, {'date': '2020-07-10T00:00:00.000Z', 'close': 84.66, 'high': 89.5, 'low': 78.0, 'open': 78.01, 'volume': 3723100, 'adjClose': 84.66, 'adjHigh': 89.5, 'adjLow': 78.0, 'adjOpen': 78.01, 'adjVolume': 3723100, 'divCash': 0.0, 'splitFactor': 1.0}, {'date': '2020-07-13T00:00:00.000Z', 'close': 78.5, 'high': 95.5, 'low': 77.91, 'open': 89.0, 'volume': 2646800, 'adjClose': 78.5, 'adjHigh': 95.5, 'adjLow': 77.91, 'adjOpen': 89.0, 'adjVolume': 2646800, 'divCash': 0.0, 'splitFactor': 1.0}, {'date': '2020-07-14T00:00:00.000Z', 'close': 76.14, 'high': 82.86, 'low': 70.85, 'open': 80.42, 'volume': 2085600, 'adjClose': 76.14, 'adjHigh': 82.86, 'adjLow': 70.85, 'adjOpen': 80.42, 'adjVolume': 2085600, 'divCash': 0.0, 'splitFactor': 1.0}, {'date': '2020-07-15T00:00:00.000Z', 'close': 74.17, 'high': 81.0, 'low': 72.5, 'open': 80.85, 'volume': 1352000, 'adjClose': 74.17, 'adjHigh': 81.0, 'adjLow': 72.5, 'adjOpen': 80.85, 'adjVolume': 1352000, 'divCash': 0.0, 'splitFactor': 1.0}, {'date': '2020-07-16T00:00:00.000Z', 'close': 79.29, 'high': 80.75, 'low': 72.03, 'open': 72.25, 'volume': 1448200, 'adjClose': 79.29, 'adjHigh': 80.75, 'adjLow': 72.03, 'adjOpen': 72.25, 'adjVolume': 1448200, 'divCash': 0.0, 'splitFactor': 1.0}, {'date': '2020-07-17T00:00:00.000Z', 'close': 85.89, 'high': 88.0, 'low': 76.14, 'open': 78.0, 'volume': 2047300, 'adjClose': 85.89, 'adjHigh': 88.0, 'adjLow': 76.14, 'adjOpen': 78.0, 'adjVolume': 2047300, 'divCash': 0.0, 'splitFactor': 1.0}, {'date': '2020-07-20T00:00:00.000Z', 'close': 84.24, 'high': 87.0, 'low': 82.0, 'open': 86.34, 'volume': 952012, 'adjClose': 84.24, 'adjHigh': 87.0, 'adjLow': 82.0, 'adjOpen': 86.34, 'adjVolume': 952012, 'divCash': 0.0, 'splitFactor': 1.0}, {'date': '2020-07-21T00:00:00.000Z', 'close': 80.85, 'high': 85.2, 'low': 80.545, 'open': 84.68, 'volume': 510426, 'adjClose': 80.85, 'adjHigh': 85.2, 'adjLow': 80.545, 'adjOpen': 84.68, 'adjVolume': 510426, 'divCash': 0.0, 'splitFactor': 1.0}, {'date': '2020-07-22T00:00:00.000Z', 'close': 78.5, 'high': 81.9, 'low': 77.0, 'open': 80.17, 'volume': 626259, 'adjClose': 78.5, 'adjHigh': 81.9, 'adjLow': 77.0, 'adjOpen': 80.17, 'adjVolume': 626259, 'divCash': 0.0, 'splitFactor': 1.0}, {'date': '2020-07-23T00:00:00.000Z', 'close': 82.16, 'high': 86.8899, 'low': 78.61, 'open': 78.95, 'volume': 1664554, 'adjClose': 82.16, 'adjHigh': 86.8899, 'adjLow': 78.61, 'adjOpen': 78.95, 'adjVolume': 1664554, 'divCash': 0.0, 'splitFactor': 1.0}, {'date': '2020-07-24T00:00:00.000Z', 'close': 77.97, 'high': 82.755, 'low': 75.5, 'open': 78.8, 'volume': 1167532, 'adjClose': 77.97, 'adjHigh': 82.755, 'adjLow': 75.5, 'adjOpen': 78.8, 'adjVolume': 1167532, 'divCash': 0.0, 'splitFactor': 1.0}, {'date': '2020-07-27T00:00:00.000Z', 'close': 73.0, 'high': 75.8996, 'low': 71.05, 'open': 74.94, 'volume': 2084060, 'adjClose': 73.0, 'adjHigh': 75.8996, 'adjLow': 71.05, 'adjOpen': 74.94, 'adjVolume': 2084060, 'divCash': 0.0, 'splitFactor': 1.0}, {'date': '2020-07-28T00:00:00.000Z', 'close': 66.43, 'high': 73.5, 'low': 66.39, 'open': 72.42, 'volume': 1492708, 'adjClose': 66.43, 'adjHigh': 73.5, 'adjLow': 66.39, 'adjOpen': 72.42, 'adjVolume': 1492708, 'divCash': 0.0, 'splitFactor': 1.0}, {'date': '2020-07-29T00:00:00.000Z', 'close': 69.05, 'high': 70.5, 'low': 66.81, 'open': 68.16, 'volume': 975693, 'adjClose': 69.05, 'adjHigh': 70.5, 'adjLow': 66.81, 'adjOpen': 68.16, 'adjVolume': 975693, 'divCash': 0.0, 'splitFactor': 1.0}, {'date': '2020-07-30T00:00:00.000Z', 'close': 65.1, 'high': 68.5399, 'low': 65.0, 'open': 67.81, 'volume': 852695, 'adjClose': 65.1, 'adjHigh': 68.5399, 'adjLow': 65.0, 'adjOpen': 67.81, 'adjVolume': 852695, 'divCash': 0.0, 'splitFactor': 1.0}, {'date': '2020-07-31T00:00:00.000Z', 'close': 58.18, 'high': 67.47, 'low': 57.52, 'open': 67.15, 'volume': 1884678, 'adjClose': 58.18, 'adjHigh': 67.47, 'adjLow': 57.52, 'adjOpen': 67.15, 'adjVolume': 1884678, 'divCash': 0.0, 'splitFactor': 1.0}, {'date': '2020-08-03T00:00:00.000Z', 'close': 56.86, 'high': 61.18, 'low': 56.7, 'open': 59.71, 'volume': 1615313, 'adjClose': 56.86, 'adjHigh': 61.18, 'adjLow': 56.7, 'adjOpen': 59.71, 'adjVolume': 1615313, 'divCash': 0.0, 'splitFactor': 1.0}, {'date': '2020-08-04T00:00:00.000Z', 'close': 61.14, 'high': 62.39, 'low': 57.0, 'open': 57.0, 'volume': 1495653, 'adjClose': 61.14, 'adjHigh': 62.39, 'adjLow': 57.0, 'adjOpen': 57.0, 'adjVolume': 1495653, 'divCash': 0.0, 'splitFactor': 1.0}, {'date': '2020-08-05T00:00:00.000Z', 'close': 64.48, 'high': 64.95, 'low': 59.27, 'open': 61.77, 'volume': 1136577, 'adjClose': 64.48, 'adjHigh': 64.95, 'adjLow': 59.27, 'adjOpen': 61.77, 'adjVolume': 1136577, 'divCash': 0.0, 'splitFactor': 1.0}, {'date': '2020-08-06T00:00:00.000Z', 'close': 68.7, 'high': 69.88, 'low': 64.6, 'open': 65.68, 'volume': 1154199, 'adjClose': 68.7, 'adjHigh': 69.88, 'adjLow': 64.6, 'adjOpen': 65.68, 'adjVolume': 1154199, 'divCash': 0.0, 'splitFactor': 1.0}, {'date': '2020-08-07T00:00:00.000Z', 'close': 66.84, 'high': 69.024, 'low': 65.57, 'open': 68.57, 'volume': 656975, 'adjClose': 66.84, 'adjHigh': 69.024, 'adjLow': 65.57, 'adjOpen': 68.57, 'adjVolume': 656975, 'divCash': 0.0, 'splitFactor': 1.0}, {'date': '2020-08-10T00:00:00.000Z', 'close': 67.41, 'high': 68.76, 'low': 63.59, 'open': 67.91, 'volume': 890944, 'adjClose': 67.41, 'adjHigh': 68.76, 'adjLow': 63.59, 'adjOpen': 67.91, 'adjVolume': 890944, 'divCash': 0.0, 'splitFactor': 1.0}, {'date': '2020-08-11T00:00:00.000Z', 'close': 62.75, 'high': 67.54, 'low': 62.75, 'open': 67.41, 'volume': 992531, 'adjClose': 62.75, 'adjHigh': 67.54, 'adjLow': 62.75, 'adjOpen': 67.41, 'adjVolume': 992531, 'divCash': 0.0, 'splitFactor': 1.0}, {'date': '2020-08-12T00:00:00.000Z', 'close': 60.67, 'high': 63.5, 'low': 57.1, 'open': 58.0, 'volume': 1888687, 'adjClose': 60.67, 'adjHigh': 63.5, 'adjLow': 57.1, 'adjOpen': 58.0, 'adjVolume': 1888687, 'divCash': 0.0, 'splitFactor': 1.0}, {'date': '2020-08-13T00:00:00.000Z', 'close': 59.26, 'high': 62.47, 'low': 58.25, 'open': 60.55, 'volume': 1007366, 'adjClose': 59.26, 'adjHigh': 62.47, 'adjLow': 58.25, 'adjOpen': 60.55, 'adjVolume': 1007366, 'divCash': 0.0, 'splitFactor': 1.0}, {'date': '2020-08-14T00:00:00.000Z', 'close': 63.22, 'high': 63.82, 'low': 59.47, 'open': 59.47, 'volume': 1062991, 'adjClose': 63.22, 'adjHigh': 63.82, 'adjLow': 59.47, 'adjOpen': 59.47, 'adjVolume': 1062991, 'divCash': 0.0, 'splitFactor': 1.0}, {'date': '2020-08-17T00:00:00.000Z', 'close': 61.48, 'high': 63.28, 'low': 60.27, 'open': 63.0, 'volume': 685098, 'adjClose': 61.48, 'adjHigh': 63.28, 'adjLow': 60.27, 'adjOpen': 63.0, 'adjVolume': 685098, 'divCash': 0.0, 'splitFactor': 1.0}, {'date': '2020-08-18T00:00:00.000Z', 'close': 61.79, 'high': 62.88, 'low': 60.5, 'open': 61.4, 'volume': 484043, 'adjClose': 61.79, 'adjHigh': 62.88, 'adjLow': 60.5, 'adjOpen': 61.4, 'adjVolume': 484043, 'divCash': 0.0, 'splitFactor': 1.0}, {'date': '2020-08-19T00:00:00.000Z', 'close': 61.7, 'high': 62.33, 'low': 60.8, 'open': 62.0, 'volume': 357611, 'adjClose': 61.7, 'adjHigh': 62.33, 'adjLow': 60.8, 'adjOpen': 62.0, 'adjVolume': 357611, 'divCash': 0.0, 'splitFactor': 1.0}, {'date': '2020-08-20T00:00:00.000Z', 'close': 59.86, 'high': 61.7, 'low': 59.66, 'open': 61.06, 'volume': 519684, 'adjClose': 59.86, 'adjHigh': 61.7, 'adjLow': 59.66, 'adjOpen': 61.06, 'adjVolume': 519684, 'divCash': 0.0, 'splitFactor': 1.0}, {'date': '2020-08-21T00:00:00.000Z', 'close': 60.2, 'high': 60.65, 'low': 59.52, 'open': 60.0, 'volume': 423901, 'adjClose': 60.2, 'adjHigh': 60.65, 'adjLow': 59.52, 'adjOpen': 60.0, 'adjVolume': 423901, 'divCash': 0.0, 'splitFactor': 1.0}, {'date': '2020-08-24T00:00:00.000Z', 'close': 66.0, 'high': 66.36, 'low': 60.65, 'open': 60.65, 'volume': 1713100, 'adjClose': 66.0, 'adjHigh': 66.36, 'adjLow': 60.65, 'adjOpen': 60.65, 'adjVolume': 1713100, 'divCash': 0.0, 'splitFactor': 1.0}, {'date': '2020-08-25T00:00:00.000Z', 'close': 61.01, 'high': 66.0, 'low': 60.18, 'open': 65.72, 'volume': 1644472, 'adjClose': 61.01, 'adjHigh': 66.0, 'adjLow': 60.18, 'adjOpen': 65.72, 'adjVolume': 1644472, 'divCash': 0.0, 'splitFactor': 1.0}, {'date': '2020-08-26T00:00:00.000Z', 'close': 61.13, 'high': 62.98, 'low': 60.21, 'open': 61.45, 'volume': 1165848, 'adjClose': 61.13, 'adjHigh': 62.98, 'adjLow': 60.21, 'adjOpen': 61.45, 'adjVolume': 1165848, 'divCash': 0.0, 'splitFactor': 1.0}, {'date': '2020-08-27T00:00:00.000Z', 'close': 58.39, 'high': 62.66, 'low': 58.1896, 'open': 62.2, 'volume': 1294445, 'adjClose': 58.39, 'adjHigh': 62.66, 'adjLow': 58.1896, 'adjOpen': 62.2, 'adjVolume': 1294445, 'divCash': 0.0, 'splitFactor': 1.0}, {'date': '2020-08-28T00:00:00.000Z', 'close': 58.18, 'high': 61.69, 'low': 57.88, 'open': 59.4, 'volume': 1181260, 'adjClose': 58.18, 'adjHigh': 61.69, 'adjLow': 57.88, 'adjOpen': 59.4, 'adjVolume': 1181260, 'divCash': 0.0, 'splitFactor': 1.0}, {'date': '2020-08-31T00:00:00.000Z', 'close': 58.7, 'high': 59.2, 'low': 57.29, 'open': 58.25, 'volume': 866352, 'adjClose': 58.7, 'adjHigh': 59.2, 'adjLow': 57.29, 'adjOpen': 58.25, 'adjVolume': 866352, 'divCash': 0.0, 'splitFactor': 1.0}, {'date': '2020-09-01T00:00:00.000Z', 'close': 56.19, 'high': 59.21, 'low': 55.5, 'open': 59.07, 'volume': 1305450, 'adjClose': 56.19, 'adjHigh': 59.21, 'adjLow': 55.5, 'adjOpen': 59.07, 'adjVolume': 1305450, 'divCash': 0.0, 'splitFactor': 1.0}, {'date': '2020-09-02T00:00:00.000Z', 'close': 54.7, 'high': 57.25, 'low': 52.725, 'open': 56.39, 'volume': 1905843, 'adjClose': 54.7, 'adjHigh': 57.25, 'adjLow': 52.725, 'adjOpen': 56.39, 'adjVolume': 1905843, 'divCash': 0.0, 'splitFactor': 1.0}, {'date': '2020-09-03T00:00:00.000Z', 'close': 50.83, 'high': 54.2, 'low': 50.0, 'open': 54.2, 'volume': 1656196, 'adjClose': 50.83, 'adjHigh': 54.2, 'adjLow': 50.0, 'adjOpen': 54.2, 'adjVolume': 1656196, 'divCash': 0.0, 'splitFactor': 1.0}, {'date': '2020-09-04T00:00:00.000Z', 'close': 47.27, 'high': 51.96, 'low': 44.1101, 'open': 50.73, 'volume': 2906902, 'adjClose': 47.27, 'adjHigh': 51.96, 'adjLow': 44.1101, 'adjOpen': 50.73, 'adjVolume': 2906902, 'divCash': 0.0, 'splitFactor': 1.0}, {'date': '2020-09-08T00:00:00.000Z', 'close': 47.18, 'high': 49.34, 'low': 44.905, 'open': 46.38, 'volume': 1112545, 'adjClose': 47.18, 'adjHigh': 49.34, 'adjLow': 44.905, 'adjOpen': 46.38, 'adjVolume': 1112545, 'divCash': 0.0, 'splitFactor': 1.0}, {'date': '2020-09-09T00:00:00.000Z', 'close': 50.18, 'high': 51.29, 'low': 48.25, 'open': 48.49, 'volume': 1095611, 'adjClose': 50.18, 'adjHigh': 51.29, 'adjLow': 48.25, 'adjOpen': 48.49, 'adjVolume': 1095611, 'divCash': 0.0, 'splitFactor': 1.0}, {'date': '2020-09-10T00:00:00.000Z', 'close': 52.4, 'high': 54.75, 'low': 50.9, 'open': 51.5, 'volume': 962964, 'adjClose': 52.4, 'adjHigh': 54.75, 'adjLow': 50.9, 'adjOpen': 51.5, 'adjVolume': 962964, 'divCash': 0.0, 'splitFactor': 1.0}, {'date': '2020-09-11T00:00:00.000Z', 'close': 50.12, 'high': 52.865, 'low': 49.9, 'open': 52.69, 'volume': 703959, 'adjClose': 50.12, 'adjHigh': 52.865, 'adjLow': 49.9, 'adjOpen': 52.69, 'adjVolume': 703959, 'divCash': 0.0, 'splitFactor': 1.0}, {'date': '2020-09-14T00:00:00.000Z', 'close': 48.71, 'high': 51.255, 'low': 47.395, 'open': 50.9, 'volume': 1124966, 'adjClose': 48.71, 'adjHigh': 51.255, 'adjLow': 47.395, 'adjOpen': 50.9, 'adjVolume': 1124966, 'divCash': 0.0, 'splitFactor': 1.0}, {'date': '2020-09-15T00:00:00.000Z', 'close': 47.15, 'high': 49.67, 'low': 46.745, 'open': 49.5, 'volume': 890566, 'adjClose': 47.15, 'adjHigh': 49.67, 'adjLow': 46.745, 'adjOpen': 49.5, 'adjVolume': 890566, 'divCash': 0.0, 'splitFactor': 1.0}, {'date': '2020-09-16T00:00:00.000Z', 'close': 48.65, 'high': 49.49, 'low': 47.25, 'open': 47.31, 'volume': 923681, 'adjClose': 48.65, 'adjHigh': 49.49, 'adjLow': 47.25, 'adjOpen': 47.31, 'adjVolume': 923681, 'divCash': 0.0, 'splitFactor': 1.0}, {'date': '2020-09-17T00:00:00.000Z', 'close': 51.88, 'high': 52.07, 'low': 47.19, 'open': 47.2, 'volume': 1174865, 'adjClose': 51.88, 'adjHigh': 52.07, 'adjLow': 47.19, 'adjOpen': 47.2, 'adjVolume': 1174865, 'divCash': 0.0, 'splitFactor': 1.0}, {'date': '2020-09-18T00:00:00.000Z', 'close': 55.24, 'high': 56.4095, 'low': 51.2, 'open': 51.91, 'volume': 2948172, 'adjClose': 55.24, 'adjHigh': 56.4095, 'adjLow': 51.2, 'adjOpen': 51.91, 'adjVolume': 2948172, 'divCash': 0.0, 'splitFactor': 1.0}, {'date': '2020-09-21T00:00:00.000Z', 'close': 52.93, 'high': 54.5, 'low': 50.36, 'open': 53.31, 'volume': 1410172, 'adjClose': 52.93, 'adjHigh': 54.5, 'adjLow': 50.36, 'adjOpen': 53.31, 'adjVolume': 1410172, 'divCash': 0.0, 'splitFactor': 1.0}, {'date': '2020-09-22T00:00:00.000Z', 'close': 54.07, 'high': 54.3, 'low': 50.7, 'open': 52.43, 'volume': 588608, 'adjClose': 54.07, 'adjHigh': 54.3, 'adjLow': 50.7, 'adjOpen': 52.43, 'adjVolume': 588608, 'divCash': 0.0, 'splitFactor': 1.0}, {'date': '2020-09-23T00:00:00.000Z', 'close': 49.87, 'high': 56.99, 'low': 49.55, 'open': 54.3, 'volume': 997184, 'adjClose': 49.87, 'adjHigh': 56.99, 'adjLow': 49.55, 'adjOpen': 54.3, 'adjVolume': 997184, 'divCash': 0.0, 'splitFactor': 1.0}, {'date': '2020-09-24T00:00:00.000Z', 'close': 47.98, 'high': 50.81, 'low': 47.31, 'open': 48.8, 'volume': 841353, 'adjClose': 47.98, 'adjHigh': 50.81, 'adjLow': 47.31, 'adjOpen': 48.8, 'adjVolume': 841353, 'divCash': 0.0, 'splitFactor': 1.0}, {'date': '2020-09-25T00:00:00.000Z', 'close': 50.93, 'high': 51.03, 'low': 48.0, 'open': 48.0, 'volume': 482583, 'adjClose': 50.93, 'adjHigh': 51.03, 'adjLow': 48.0, 'adjOpen': 48.0, 'adjVolume': 482583, 'divCash': 0.0, 'splitFactor': 1.0}, {'date': '2020-09-28T00:00:00.000Z', 'close': 51.25, 'high': 52.3, 'low': 50.2, 'open': 52.0, 'volume': 418424, 'adjClose': 51.25, 'adjHigh': 52.3, 'adjLow': 50.2, 'adjOpen': 52.0, 'adjVolume': 418424, 'divCash': 0.0, 'splitFactor': 1.0}, {'date': '2020-09-29T00:00:00.000Z', 'close': 49.61, 'high': 50.94, 'low': 48.56, 'open': 50.5, 'volume': 742508, 'adjClose': 49.61, 'adjHigh': 50.94, 'adjLow': 48.56, 'adjOpen': 50.5, 'adjVolume': 742508, 'divCash': 0.0, 'splitFactor': 1.0}, {'date': '2020-09-30T00:00:00.000Z', 'close': 49.72, 'high': 51.53, 'low': 49.3, 'open': 49.3, 'volume': 614582, 'adjClose': 49.72, 'adjHigh': 51.53, 'adjLow': 49.3, 'adjOpen': 49.3, 'adjVolume': 614582, 'divCash': 0.0, 'splitFactor': 1.0}, {'date': '2020-10-01T00:00:00.000Z', 'close': 51.46, 'high': 52.23, 'low': 48.4, 'open': 50.26, 'volume': 904797, 'adjClose': 51.46, 'adjHigh': 52.23, 'adjLow': 48.4, 'adjOpen': 50.26, 'adjVolume': 904797, 'divCash': 0.0, 'splitFactor': 1.0}, {'date': '2020-10-02T00:00:00.000Z', 'close': 51.58, 'high': 53.41, 'low': 49.24, 'open': 49.5, 'volume': 1098412, 'adjClose': 51.58, 'adjHigh': 53.41, 'adjLow': 49.24, 'adjOpen': 49.5, 'adjVolume': 1098412, 'divCash': 0.0, 'splitFactor': 1.0}, {'date': '2020-10-05T00:00:00.000Z', 'close': 54.0, 'high': 54.75, 'low': 52.76, 'open': 53.02, 'volume': 590799, 'adjClose': 54.0, 'adjHigh': 54.75, 'adjLow': 52.76, 'adjOpen': 53.02, 'adjVolume': 590799, 'divCash': 0.0, 'splitFactor': 1.0}, {'date': '2020-10-06T00:00:00.000Z', 'close': 52.44, 'high': 55.39, 'low': 51.7, 'open': 54.76, 'volume': 552875, 'adjClose': 52.44, 'adjHigh': 55.39, 'adjLow': 51.7, 'adjOpen': 54.76, 'adjVolume': 552875, 'divCash': 0.0, 'splitFactor': 1.0}, {'date': '2020-10-07T00:00:00.000Z', 'close': 53.6, 'high': 54.9, 'low': 53.13, 'open': 53.13, 'volume': 423266, 'adjClose': 53.6, 'adjHigh': 54.9, 'adjLow': 53.13, 'adjOpen': 53.13, 'adjVolume': 423266, 'divCash': 0.0, 'splitFactor': 1.0}, {'date': '2020-10-08T00:00:00.000Z', 'close': 60.1, 'high': 60.12, 'low': 54.51, 'open': 54.7, 'volume': 1547282, 'adjClose': 60.1, 'adjHigh': 60.12, 'adjLow': 54.51, 'adjOpen': 54.7, 'adjVolume': 1547282, 'divCash': 0.0, 'splitFactor': 1.0}, {'date': '2020-10-09T00:00:00.000Z', 'close': 67.81, 'high': 68.1897, 'low': 58.55, 'open': 60.11, 'volume': 2353911, 'adjClose': 67.81, 'adjHigh': 68.1897, 'adjLow': 58.55, 'adjOpen': 60.11, 'adjVolume': 2353911, 'divCash': 0.0, 'splitFactor': 1.0}, {'date': '2020-10-12T00:00:00.000Z', 'close': 66.17, 'high': 68.99, 'low': 63.01, 'open': 67.81, 'volume': 1408063, 'adjClose': 66.17, 'adjHigh': 68.99, 'adjLow': 63.01, 'adjOpen': 67.81, 'adjVolume': 1408063, 'divCash': 0.0, 'splitFactor': 1.0}, {'date': '2020-10-13T00:00:00.000Z', 'close': 66.73, 'high': 68.74, 'low': 64.0, 'open': 65.02, 'volume': 756434, 'adjClose': 66.73, 'adjHigh': 68.74, 'adjLow': 64.0, 'adjOpen': 65.02, 'adjVolume': 756434, 'divCash': 0.0, 'splitFactor': 1.0}, {'date': '2020-10-14T00:00:00.000Z', 'close': 68.0, 'high': 72.55, 'low': 65.67, 'open': 67.0, 'volume': 1498450, 'adjClose': 68.0, 'adjHigh': 72.55, 'adjLow': 65.67, 'adjOpen': 67.0, 'adjVolume': 1498450, 'divCash': 0.0, 'splitFactor': 1.0}, {'date': '2020-10-15T00:00:00.000Z', 'close': 62.41, 'high': 65.62, 'low': 61.24, 'open': 64.02, 'volume': 1849758, 'adjClose': 62.41, 'adjHigh': 65.62, 'adjLow': 61.24, 'adjOpen': 64.02, 'adjVolume': 1849758, 'divCash': 0.0, 'splitFactor': 1.0}, {'date': '2020-10-16T00:00:00.000Z', 'close': 58.99, 'high': 63.64, 'low': 58.72, 'open': 63.31, 'volume': 1119713, 'adjClose': 58.99, 'adjHigh': 63.64, 'adjLow': 58.72, 'adjOpen': 63.31, 'adjVolume': 1119713, 'divCash': 0.0, 'splitFactor': 1.0}, {'date': '2020-10-19T00:00:00.000Z', 'close': 58.95, 'high': 60.96, 'low': 58.5101, 'open': 59.34, 'volume': 636701, 'adjClose': 58.95, 'adjHigh': 60.96, 'adjLow': 58.5101, 'adjOpen': 59.34, 'adjVolume': 636701, 'divCash': 0.0, 'splitFactor': 1.0}, {'date': '2020-10-20T00:00:00.000Z', 'close': 58.58, 'high': 60.735, 'low': 58.5, 'open': 59.93, 'volume': 486369, 'adjClose': 58.58, 'adjHigh': 60.735, 'adjLow': 58.5, 'adjOpen': 59.93, 'adjVolume': 486369, 'divCash': 0.0, 'splitFactor': 1.0}, {'date': '2020-10-21T00:00:00.000Z', 'close': 57.98, 'high': 59.59, 'low': 56.76, 'open': 59.06, 'volume': 604114, 'adjClose': 57.98, 'adjHigh': 59.59, 'adjLow': 56.76, 'adjOpen': 59.06, 'adjVolume': 604114, 'divCash': 0.0, 'splitFactor': 1.0}, {'date': '2020-10-22T00:00:00.000Z', 'close': 52.53, 'high': 58.6399, 'low': 52.3215, 'open': 57.93, 'volume': 1420127, 'adjClose': 52.53, 'adjHigh': 58.6399, 'adjLow': 52.3215, 'adjOpen': 57.93, 'adjVolume': 1420127, 'divCash': 0.0, 'splitFactor': 1.0}, {'date': '2020-10-23T00:00:00.000Z', 'close': 51.09, 'high': 53.87, 'low': 50.0, 'open': 53.77, 'volume': 1417613, 'adjClose': 51.09, 'adjHigh': 53.87, 'adjLow': 50.0, 'adjOpen': 53.77, 'adjVolume': 1417613, 'divCash': 0.0, 'splitFactor': 1.0}, {'date': '2020-10-26T00:00:00.000Z', 'close': 51.19, 'high': 52.28, 'low': 48.94, 'open': 50.55, 'volume': 1125808, 'adjClose': 51.19, 'adjHigh': 52.28, 'adjLow': 48.94, 'adjOpen': 50.55, 'adjVolume': 1125808, 'divCash': 0.0, 'splitFactor': 1.0}, {'date': '2020-10-27T00:00:00.000Z', 'close': 50.73, 'high': 51.89, 'low': 49.8, 'open': 51.64, 'volume': 448077, 'adjClose': 50.73, 'adjHigh': 51.89, 'adjLow': 49.8, 'adjOpen': 51.64, 'adjVolume': 448077, 'divCash': 0.0, 'splitFactor': 1.0}, {'date': '2020-10-28T00:00:00.000Z', 'close': 49.13, 'high': 50.2, 'low': 48.0, 'open': 48.9, 'volume': 893300, 'adjClose': 49.13, 'adjHigh': 50.2, 'adjLow': 48.0, 'adjOpen': 48.9, 'adjVolume': 893300, 'divCash': 0.0, 'splitFactor': 1.0}, {'date': '2020-10-29T00:00:00.000Z', 'close': 46.9, 'high': 49.9163, 'low': 46.601, 'open': 49.54, 'volume': 1109322, 'adjClose': 46.9, 'adjHigh': 49.9163, 'adjLow': 46.601, 'adjOpen': 49.54, 'adjVolume': 1109322, 'divCash': 0.0, 'splitFactor': 1.0}, {'date': '2020-10-30T00:00:00.000Z', 'close': 50.29, 'high': 51.1479, 'low': 47.09, 'open': 47.69, 'volume': 986586, 'adjClose': 50.29, 'adjHigh': 51.1479, 'adjLow': 47.09, 'adjOpen': 47.69, 'adjVolume': 986586, 'divCash': 0.0, 'splitFactor': 1.0}]\n"
     ]
    }
   ],
   "source": [
    "data_response = get_stock_data('LMND', '2020-06-01', '2020-10-31')\n",
    "print(data_response.url)\n",
    "print(data_response.json())"
   ]
  },
  {
   "cell_type": "code",
   "execution_count": 5,
   "metadata": {},
   "outputs": [],
   "source": [
    "def parse_data(data_response):\n",
    "    json_data = data_response.json()\n",
    "    \n",
    "    dates = []\n",
    "    highs = []\n",
    "    lows = []\n",
    "    opens = []\n",
    "    closes = []\n",
    "    vols = []\n",
    "    \n",
    "    for json_object in json_data:\n",
    "        date = json_object['date']\n",
    "        high = json_object['high']\n",
    "        low = json_object['low']\n",
    "        opened = json_object['open']\n",
    "        close = json_object['close']\n",
    "        vol = json_object['volume']\n",
    "        \n",
    "        dates.append(date)\n",
    "        highs.append(high)\n",
    "        lows.append(low)\n",
    "        opens.append(opened)\n",
    "        closes.append(close)\n",
    "        vols.append(vol)\n",
    "        \n",
    "    return dates, highs, lows, opens, closes, vols\n",
    "        "
   ]
  },
  {
   "cell_type": "code",
   "execution_count": 8,
   "metadata": {},
   "outputs": [
    {
     "data": {
      "text/plain": [
       "['2020-07-02T00:00:00.000Z',\n",
       " '2020-07-06T00:00:00.000Z',\n",
       " '2020-07-07T00:00:00.000Z',\n",
       " '2020-07-08T00:00:00.000Z',\n",
       " '2020-07-09T00:00:00.000Z',\n",
       " '2020-07-10T00:00:00.000Z',\n",
       " '2020-07-13T00:00:00.000Z',\n",
       " '2020-07-14T00:00:00.000Z',\n",
       " '2020-07-15T00:00:00.000Z',\n",
       " '2020-07-16T00:00:00.000Z']"
      ]
     },
     "execution_count": 8,
     "metadata": {},
     "output_type": "execute_result"
    }
   ],
   "source": [
    "dates, highs, lows, opens, closes, vols = parse_data(data_response)\n",
    "\n",
    "dates[:10]"
   ]
  },
  {
   "cell_type": "markdown",
   "metadata": {},
   "source": [
    "## Perform EDA on data (OneHotEncoding)"
   ]
  },
  {
   "cell_type": "code",
   "execution_count": 14,
   "metadata": {},
   "outputs": [],
   "source": [
    "def calculate_price_difference(opens, closes):\n",
    "    price_differences = []\n",
    "    \n",
    "    for i in range(0, len(opens)-1):\n",
    "        if opens[i+1] >= closes[i]:\n",
    "            price_differences.append([1, 0])\n",
    "        else:\n",
    "            price_differences.append([0, 1])\n",
    "    \n",
    "    return price_differences"
   ]
  },
  {
   "cell_type": "code",
   "execution_count": 19,
   "metadata": {},
   "outputs": [
    {
     "data": {
      "image/png": "[encoded data removed]",
      "text/plain": [
       "<Figure size 432x288 with 1 Axes>"
      ]
     },
     "metadata": {
      "needs_background": "light"
     },
     "output_type": "display_data"
    }
   ],
   "source": [
    "# visualize data\n",
    "import matplotlib.pyplot as plt \n",
    "\n",
    "price_differences = calculate_price_difference(opens, closes)\n",
    "\n",
    "differences = []\n",
    "for difference in price_differences:\n",
    "    differences.append(difference[0])\n",
    "    \n",
    "plt.plot(dates[1:], opens[1:])\n",
    "plt.plot(dates[1:], closes[:-1])\n",
    "plt.show()"
   ]
  },
  {
   "cell_type": "code",
   "execution_count": 20,
   "metadata": {},
   "outputs": [
    {
     "data": {
      "image/png": "[encoded data removed]",
      "text/plain": [
       "<Figure size 432x288 with 1 Axes>"
      ]
     },
     "metadata": {
      "needs_background": "light"
     },
     "output_type": "display_data"
    }
   ],
   "source": [
    "plt.plot(dates[1:], differences)\n",
    "plt.show()"
   ]
  },
  {
   "cell_type": "code",
   "execution_count": 52,
   "metadata": {},
   "outputs": [],
   "source": [
    "def create_datasets(ticker, start_date, end_date):\n",
    "    data_response = get_stock_data('LMND', '2020-06-01', '2020-10-31')\n",
    "    dates, highs, lows, opens, closes, vols = parse_data(data_response)\n",
    "    \n",
    "    \n",
    "    labels = calculate_price_difference(opens, closes)\n",
    "    \n",
    "    inputs = []\n",
    "    for i in range(len(labels)):\n",
    "        inputs.append([closes[i], opens[i], highs[i], lows[i], vols[i]/1000])\n",
    "        \n",
    "    return inputs, labels\n",
    "    \n",
    "    "
   ]
  },
  {
   "cell_type": "code",
   "execution_count": 54,
   "metadata": {},
   "outputs": [],
   "source": [
    "x_train, y_train = create_datasets('LMND', '2020-06-01', '2020-08-31')\n",
    "x_test, y_test = create_datasets('LMND', '2020-06-01', '2020-10-31')"
   ]
  },
  {
   "cell_type": "code",
   "execution_count": 56,
   "metadata": {},
   "outputs": [
    {
     "data": {
      "text/plain": [
       "([[69.41, 50.06, 70.8, 49.02, 16697.7],\n",
       "  [81.19, 73.39, 96.51, 73.11, 13445.7],\n",
       "  [78.79, 83.8, 89.38, 75.0, 4599.6],\n",
       "  [68.51, 79.0, 79.39, 68.06, 3489.4],\n",
       "  [77.01, 73.97, 79.91, 69.03, 4165.2],\n",
       "  [84.66, 78.01, 89.5, 78.0, 3723.1],\n",
       "  [78.5, 89.0, 95.5, 77.91, 2646.8],\n",
       "  [76.14, 80.42, 82.86, 70.85, 2085.6],\n",
       "  [74.17, 80.85, 81.0, 72.5, 1352.0],\n",
       "  [79.29, 72.25, 80.75, 72.03, 1448.2],\n",
       "  [85.89, 78.0, 88.0, 76.14, 2047.3],\n",
       "  [84.24, 86.34, 87.0, 82.0, 952.012],\n",
       "  [80.85, 84.68, 85.2, 80.545, 510.426],\n",
       "  [78.5, 80.17, 81.9, 77.0, 626.259],\n",
       "  [82.16, 78.95, 86.8899, 78.61, 1664.554],\n",
       "  [77.97, 78.8, 82.755, 75.5, 1167.532],\n",
       "  [73.0, 74.94, 75.8996, 71.05, 2084.06],\n",
       "  [66.43, 72.42, 73.5, 66.39, 1492.708],\n",
       "  [69.05, 68.16, 70.5, 66.81, 975.693],\n",
       "  [65.1, 67.81, 68.5399, 65.0, 852.695],\n",
       "  [58.18, 67.15, 67.47, 57.52, 1884.678],\n",
       "  [56.86, 59.71, 61.18, 56.7, 1615.313],\n",
       "  [61.14, 57.0, 62.39, 57.0, 1495.653],\n",
       "  [64.48, 61.77, 64.95, 59.27, 1136.577],\n",
       "  [68.7, 65.68, 69.88, 64.6, 1154.199],\n",
       "  [66.84, 68.57, 69.024, 65.57, 656.975],\n",
       "  [67.41, 67.91, 68.76, 63.59, 890.944],\n",
       "  [62.75, 67.41, 67.54, 62.75, 992.531],\n",
       "  [60.67, 58.0, 63.5, 57.1, 1888.687],\n",
       "  [59.26, 60.55, 62.47, 58.25, 1007.366],\n",
       "  [63.22, 59.47, 63.82, 59.47, 1062.991],\n",
       "  [61.48, 63.0, 63.28, 60.27, 685.098],\n",
       "  [61.79, 61.4, 62.88, 60.5, 484.043],\n",
       "  [61.7, 62.0, 62.33, 60.8, 357.611],\n",
       "  [59.86, 61.06, 61.7, 59.66, 519.684],\n",
       "  [60.2, 60.0, 60.65, 59.52, 423.901],\n",
       "  [66.0, 60.65, 66.36, 60.65, 1713.1],\n",
       "  [61.01, 65.72, 66.0, 60.18, 1644.472],\n",
       "  [61.13, 61.45, 62.98, 60.21, 1165.848],\n",
       "  [58.39, 62.2, 62.66, 58.1896, 1294.445],\n",
       "  [58.18, 59.4, 61.69, 57.88, 1181.26],\n",
       "  [58.7, 58.25, 59.2, 57.29, 866.352],\n",
       "  [56.19, 59.07, 59.21, 55.5, 1305.45],\n",
       "  [54.7, 56.39, 57.25, 52.725, 1905.843],\n",
       "  [50.83, 54.2, 54.2, 50.0, 1656.196],\n",
       "  [47.27, 50.73, 51.96, 44.1101, 2906.902],\n",
       "  [47.18, 46.38, 49.34, 44.905, 1112.545],\n",
       "  [50.18, 48.49, 51.29, 48.25, 1095.611],\n",
       "  [52.4, 51.5, 54.75, 50.9, 962.964],\n",
       "  [50.12, 52.69, 52.865, 49.9, 703.959],\n",
       "  [48.71, 50.9, 51.255, 47.395, 1124.966],\n",
       "  [47.15, 49.5, 49.67, 46.745, 890.566],\n",
       "  [48.65, 47.31, 49.49, 47.25, 923.681],\n",
       "  [51.88, 47.2, 52.07, 47.19, 1174.865],\n",
       "  [55.24, 51.91, 56.4095, 51.2, 2948.172],\n",
       "  [52.93, 53.31, 54.5, 50.36, 1410.172],\n",
       "  [54.07, 52.43, 54.3, 50.7, 588.608],\n",
       "  [49.87, 54.3, 56.99, 49.55, 997.184],\n",
       "  [47.98, 48.8, 50.81, 47.31, 841.353],\n",
       "  [50.93, 48.0, 51.03, 48.0, 482.583],\n",
       "  [51.25, 52.0, 52.3, 50.2, 418.424],\n",
       "  [49.61, 50.5, 50.94, 48.56, 742.508],\n",
       "  [49.72, 49.3, 51.53, 49.3, 614.582],\n",
       "  [51.46, 50.26, 52.23, 48.4, 904.797],\n",
       "  [51.58, 49.5, 53.41, 49.24, 1098.412],\n",
       "  [54.0, 53.02, 54.75, 52.76, 590.799],\n",
       "  [52.44, 54.76, 55.39, 51.7, 552.875],\n",
       "  [53.6, 53.13, 54.9, 53.13, 423.266],\n",
       "  [60.1, 54.7, 60.12, 54.51, 1547.282],\n",
       "  [67.81, 60.11, 68.1897, 58.55, 2353.911],\n",
       "  [66.17, 67.81, 68.99, 63.01, 1408.063],\n",
       "  [66.73, 65.02, 68.74, 64.0, 756.434],\n",
       "  [68.0, 67.0, 72.55, 65.67, 1498.45],\n",
       "  [62.41, 64.02, 65.62, 61.24, 1849.758],\n",
       "  [58.99, 63.31, 63.64, 58.72, 1119.713],\n",
       "  [58.95, 59.34, 60.96, 58.5101, 636.701],\n",
       "  [58.58, 59.93, 60.735, 58.5, 486.369],\n",
       "  [57.98, 59.06, 59.59, 56.76, 604.114],\n",
       "  [52.53, 57.93, 58.6399, 52.3215, 1420.127],\n",
       "  [51.09, 53.77, 53.87, 50.0, 1417.613],\n",
       "  [51.19, 50.55, 52.28, 48.94, 1125.808],\n",
       "  [50.73, 51.64, 51.89, 49.8, 448.077],\n",
       "  [49.13, 48.9, 50.2, 48.0, 893.3],\n",
       "  [46.9, 49.54, 49.9163, 46.601, 1109.322]],\n",
       " [[1, 0],\n",
       "  [1, 0],\n",
       "  [1, 0],\n",
       "  [1, 0],\n",
       "  [1, 0],\n",
       "  [1, 0],\n",
       "  [1, 0],\n",
       "  [1, 0],\n",
       "  [0, 1],\n",
       "  [0, 1],\n",
       "  [1, 0],\n",
       "  [1, 0],\n",
       "  [0, 1],\n",
       "  [1, 0],\n",
       "  [0, 1],\n",
       "  [0, 1],\n",
       "  [0, 1],\n",
       "  [1, 0],\n",
       "  [0, 1],\n",
       "  [1, 0],\n",
       "  [1, 0],\n",
       "  [1, 0],\n",
       "  [1, 0],\n",
       "  [1, 0],\n",
       "  [0, 1],\n",
       "  [1, 0],\n",
       "  [1, 0],\n",
       "  [0, 1],\n",
       "  [0, 1],\n",
       "  [1, 0],\n",
       "  [0, 1],\n",
       "  [0, 1],\n",
       "  [1, 0],\n",
       "  [0, 1],\n",
       "  [1, 0],\n",
       "  [1, 0],\n",
       "  [0, 1],\n",
       "  [1, 0],\n",
       "  [1, 0],\n",
       "  [1, 0],\n",
       "  [1, 0],\n",
       "  [1, 0],\n",
       "  [1, 0],\n",
       "  [0, 1],\n",
       "  [0, 1],\n",
       "  [0, 1],\n",
       "  [1, 0],\n",
       "  [1, 0],\n",
       "  [1, 0],\n",
       "  [1, 0],\n",
       "  [1, 0],\n",
       "  [1, 0],\n",
       "  [0, 1],\n",
       "  [1, 0],\n",
       "  [0, 1],\n",
       "  [0, 1],\n",
       "  [1, 0],\n",
       "  [0, 1],\n",
       "  [1, 0],\n",
       "  [1, 0],\n",
       "  [0, 1],\n",
       "  [0, 1],\n",
       "  [1, 0],\n",
       "  [0, 1],\n",
       "  [1, 0],\n",
       "  [1, 0],\n",
       "  [1, 0],\n",
       "  [1, 0],\n",
       "  [1, 0],\n",
       "  [1, 0],\n",
       "  [0, 1],\n",
       "  [1, 0],\n",
       "  [0, 1],\n",
       "  [1, 0],\n",
       "  [1, 0],\n",
       "  [1, 0],\n",
       "  [1, 0],\n",
       "  [0, 1],\n",
       "  [1, 0],\n",
       "  [0, 1],\n",
       "  [1, 0],\n",
       "  [0, 1],\n",
       "  [1, 0],\n",
       "  [1, 0]])"
      ]
     },
     "execution_count": 56,
     "metadata": {},
     "output_type": "execute_result"
    }
   ],
   "source": [
    "x_train, y_train"
   ]
  },
  {
   "cell_type": "code",
   "execution_count": 27,
   "metadata": {},
   "outputs": [
    {
     "name": "stdout",
     "output_type": "stream",
     "text": [
      "WARNING:tensorflow:From /opt/anaconda3/envs/stock-analysis-tensorflow/lib/python3.7/site-packages/tensorflow/python/compat/v2_compat.py:96: disable_resource_variables (from tensorflow.python.ops.variable_scope) is deprecated and will be removed in a future version.\n",
      "Instructions for updating:\n",
      "non-resource variables are not supported in the long term\n"
     ]
    }
   ],
   "source": [
    "# y = mx + b \n",
    "import tensorflow.compat.v1 as tf\n",
    "tf.disable_v2_behavior()"
   ]
  },
  {
   "cell_type": "code",
   "execution_count": 28,
   "metadata": {},
   "outputs": [],
   "source": [
    "x_input = tf.placeholder(dtype=tf.float32, shape=[None, 5])\n",
    "y_input = tf.placeholder(dtype=tf.float32, shape=[None, 2])\n",
    "\n",
    "m = tf.Variable(initial_value=tf.ones(shape=[5, 2])) \n",
    "b = tf.Variable(initial_value=tf.ones(shape=[2]))\n",
    "y_output = tf.add(tf.matmul(x_input, m), b)\n"
   ]
  },
  {
   "cell_type": "code",
   "execution_count": 47,
   "metadata": {},
   "outputs": [],
   "source": [
    "loss = tf.reduce_sum(tf.reduce_mean\n",
    "                     (tf.nn.softmax_cross_entropy_with_logits_v2(\n",
    "                         labels=y_input, logits=y_output)))\n",
    "\n",
    "# optimizer = tf.train.AdamOptimizer(0.01)#.minize(loss)\n",
    "optimizer = tf.train.GradientDescentOptimizer(0.0001)\n",
    "train_step = optimizer.minimize(loss)"
   ]
  },
  {
   "cell_type": "code",
   "execution_count": 48,
   "metadata": {},
   "outputs": [],
   "source": [
    "def measure_accuracy(actual, expected):\n",
    "    num_correct = 0\n",
    "    for i in range(len(actual)):\n",
    "        actual_value = actual[i]\n",
    "        expected_value = expected[i]\n",
    "        if actual_value[0] >= actual_value[1] and expected_value[0] >= expected_value[1]:\n",
    "            num_correct += 1 \n",
    "        elif actual_value[0] <= actual_value[1] and expected_value[0] <= expected_value[1]:\n",
    "            num_correct += 1 \n",
    "            \n",
    "    # calculate average\n",
    "    return (num_correct / len(actual)) * 100\n",
    "            "
   ]
  },
  {
   "cell_type": "code",
   "execution_count": 49,
   "metadata": {},
   "outputs": [],
   "source": [
    "session = tf.Session()\n",
    "session.run(tf.global_variables_initializer())\n"
   ]
  },
  {
   "cell_type": "code",
   "execution_count": 50,
   "metadata": {},
   "outputs": [
    {
     "name": "stdout",
     "output_type": "stream",
     "text": [
      "65.47619047619048\n"
     ]
    }
   ],
   "source": [
    "for _ in range(30000):\n",
    "    session.run(train_step, feed_dict={x_input: x_train, y_input:y_train})\n",
    "    \n",
    "print(measure_accuracy(session.run(y_output, feed_dict={x_input: x_test}), y_test))"
   ]
  },
  {
   "cell_type": "code",
   "execution_count": 51,
   "metadata": {},
   "outputs": [
    {
     "name": "stdout",
     "output_type": "stream",
     "text": [
      "[[18140.861   15726.581  ]\n",
      " [14729.034   12805.869  ]\n",
      " [ 5236.1514   4616.601  ]\n",
      " [ 4015.82     3553.0808 ]\n",
      " [ 4744.239    4185.842  ]\n",
      " [ 4297.1094   3809.4905 ]\n",
      " [ 3153.2432   2822.7793 ]\n",
      " [ 2521.9229   2270.714  ]\n",
      " [ 1733.2231   1589.0865 ]\n",
      " [ 1831.3407   1674.9226 ]\n",
      " [ 2495.8074   2255.7683 ]\n",
      " [ 1331.645    1253.0096 ]\n",
      " [  850.3479    834.74963]\n",
      " [  962.00073   927.296  ]\n",
      " [ 2084.449    1898.9872 ]\n",
      " [ 1540.6687   1425.8083 ]\n",
      " [ 2506.2961   2252.5024 ]\n",
      " [ 1857.3025   1686.7946 ]\n",
      " [ 1297.734    1204.159  ]\n",
      " [ 1158.7823   1081.0372 ]\n",
      " [ 2252.4363   2018.5648 ]\n",
      " [ 1948.3988   1752.2722 ]\n",
      " [ 1821.9657   1645.6075 ]\n",
      " [ 1448.2288   1327.2548 ]\n",
      " [ 1483.9508   1363.5444 ]\n",
      " [  951.72504   903.8626 ]\n",
      " [ 1200.4812   1118.2587 ]\n",
      " [ 1303.5989   1203.8221 ]\n",
      " [ 2245.6416   2011.2787 ]\n",
      " [ 1301.111    1196.1355 ]\n",
      " [ 1365.2136   1254.155  ]\n",
      " [  961.9248    905.9495 ]\n",
      " [  744.6345    718.31244]\n",
      " [  609.1981    601.4693 ]\n",
      " [  779.1888    746.44214]\n",
      " [  674.47327   655.82117]\n",
      " [ 2069.8682   1864.747  ]\n",
      " [ 1996.5486   1799.3436 ]\n",
      " [ 1475.914    1348.6956 ]\n",
      " [ 1610.3472   1462.7297 ]\n",
      " [ 1484.7739   1353.412  ]\n",
      " [ 1143.0771   1058.0349 ]\n",
      " [ 1611.609    1460.535  ]\n",
      " [ 2247.8586   2006.9574 ]\n",
      " [ 1969.3112   1762.6691 ]\n",
      " [ 3298.0322   2904.4055 ]\n",
      " [ 1365.8588   1236.2496 ]\n",
      " [ 1357.081    1231.9766 ]\n",
      " [ 1225.1068   1121.4025 ]\n",
      " [  943.7493    876.93225]\n",
      " [ 1388.9403   1258.9121 ]\n",
      " [ 1132.6683   1036.1139 ]\n",
      " [ 1167.5574   1066.7086 ]\n",
      " [ 1441.8776   1305.9087 ]\n",
      " [ 3360.5938   2965.7397 ]\n",
      " [ 1706.5532   1537.2449 ]\n",
      " [  824.75775   777.13135]\n",
      " [ 1263.427    1153.8234 ]\n",
      " [ 1081.4142    992.6367 ]\n",
      " [  698.5948    664.21985]\n",
      " [  637.1715    612.9362 ]\n",
      " [  979.5109    906.32043]\n",
      " [  842.39453   788.12933]\n",
      " [ 1155.9344   1059.8726 ]\n",
      " [ 1365.0762   1240.6212 ]\n",
      " [  830.07837   782.25037]\n",
      " [  789.4354    746.5841 ]\n",
      " [  650.5452    627.2624 ]\n",
      " [ 1869.8094   1684.7974 ]\n",
      " [ 2758.2617   2459.649  ]\n",
      " [ 1754.2301   1595.1039 ]\n",
      " [ 1053.1815    990.2464 ]\n",
      " [ 1857.8187   1686.721  ]\n",
      " [ 2217.018    1990.1019 ]\n",
      " [ 1425.7343   1304.4081 ]\n",
      " [  900.6421    849.9238 ]\n",
      " [  739.331     710.61725]\n",
      " [  861.65265   815.0168 ]\n",
      " [ 1727.2173   1557.1252 ]\n",
      " [ 1712.6626   1541.2734 ]\n",
      " [ 1393.8456   1265.0903 ]\n",
      " [  667.48926   638.52954]\n",
      " [ 1138.2391   1042.3397 ]\n",
      " [ 1367.4442   1238.5232 ]] [[1, 0], [1, 0], [1, 0], [1, 0], [1, 0], [1, 0], [1, 0], [1, 0], [0, 1], [0, 1], [1, 0], [1, 0], [0, 1], [1, 0], [0, 1], [0, 1], [0, 1], [1, 0], [0, 1], [1, 0], [1, 0], [1, 0], [1, 0], [1, 0], [0, 1], [1, 0], [1, 0], [0, 1], [0, 1], [1, 0], [0, 1], [0, 1], [1, 0], [0, 1], [1, 0], [1, 0], [0, 1], [1, 0], [1, 0], [1, 0], [1, 0], [1, 0], [1, 0], [0, 1], [0, 1], [0, 1], [1, 0], [1, 0], [1, 0], [1, 0], [1, 0], [1, 0], [0, 1], [1, 0], [0, 1], [0, 1], [1, 0], [0, 1], [1, 0], [1, 0], [0, 1], [0, 1], [1, 0], [0, 1], [1, 0], [1, 0], [1, 0], [1, 0], [1, 0], [1, 0], [0, 1], [1, 0], [0, 1], [1, 0], [1, 0], [1, 0], [1, 0], [0, 1], [1, 0], [0, 1], [1, 0], [0, 1], [1, 0], [1, 0]]\n"
     ]
    }
   ],
   "source": [
    "print(session.run(y_output, feed_dict={x_input: x_test}), y_test)"
   ]
  },
  {
   "cell_type": "code",
   "execution_count": null,
   "metadata": {},
   "outputs": [],
   "source": []
  }
 ],
 "metadata": {
  "kernelspec": {
   "display_name": "Python 3",
   "language": "python",
   "name": "python3"
  },
  "language_info": {
   "codemirror_mode": {
    "name": "ipython",
    "version": 3
   },
   "file_extension": ".py",
   "mimetype": "text/x-python",
   "name": "python",
   "nbconvert_exporter": "python",
   "pygments_lexer": "ipython3",
   "version": "3.7.9"
  }
 },
 "nbformat": 4,
 "nbformat_minor": 4
}
