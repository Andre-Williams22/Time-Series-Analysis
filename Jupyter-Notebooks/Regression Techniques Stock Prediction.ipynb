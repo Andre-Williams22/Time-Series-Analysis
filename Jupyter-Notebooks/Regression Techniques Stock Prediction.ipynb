{
 "cells": [
  {
   "cell_type": "code",
   "execution_count": 1,
   "metadata": {},
   "outputs": [],
   "source": [
    "import numpy as np \n",
    "import pandas as pd \n",
    "from sklearn.linear_model import LinearRegression\n",
    "from sklearn.model_selection import train_test_split\n",
    "import matplotlib.pyplot as plt \n",
    "import requests\n"
   ]
  },
  {
   "cell_type": "markdown",
   "metadata": {},
   "source": [
    "# Load Realtime API Stock Data"
   ]
  },
  {
   "cell_type": "code",
   "execution_count": 2,
   "metadata": {},
   "outputs": [],
   "source": [
    "def get_stock_data(ticker, start_date, end_date):\n",
    "    api_key = '50dbca4a8576228510cb129fe07db8e9a178bb9b'\n",
    "    base_url = (f'https://api.tiingo.com/tiingo/daily/{ticker}/prices?')\n",
    "    payload = {\n",
    "        'token': api_key, \n",
    "        'startDate': start_date,\n",
    "        'endDate': end_date\n",
    "    }\n",
    "#     data_response = requests.get(base_url, params=payload)\n",
    "#     json_data = data_response.json()\n",
    "#     df = json_normalize(response)\n",
    "#     elevations = response.read()\n",
    "#     data = json.loads(str(response))\n",
    "#     df = pd.json_normalize(data)\n",
    "#     df = pd.json_normalize(json_data)\n",
    "#     df = df[['date', 'close']]\n",
    "#     df.reset_index(level=0, inplace=True)\n",
    "\n",
    "    response = requests.get(base_url, params=payload)\n",
    "    \n",
    "    \n",
    "  #  df = pd.DataFrame.from_dict(response, orient=\"index\")\n",
    "    \n",
    "    \n",
    "#     dates = []\n",
    "#     closes = []\n",
    "    \n",
    "#     for json_object in response:\n",
    "#         date = json_object['date']\n",
    "#         close = json_object['close']\n",
    "        \n",
    "#         dates.append(date)\n",
    "#         closes.append(close)\n",
    "\n",
    "#     df = json_normalize(dates)\n",
    "#     df = pd.DataFrame(closes).transpose()\n",
    "    return response\n",
    "    \n",
    "# panel_data = data.DataReader('INPX', 'google', start_date, end_date)"
   ]
  },
  {
   "cell_type": "code",
   "execution_count": 16,
   "metadata": {},
   "outputs": [
    {
     "name": "stdout",
     "output_type": "stream",
     "text": [
      "[{'date': '2020-06-01T00:00:00.000Z', 'close': 4.26, 'high': 4.33, 'low': 3.96, 'open': 4.0, 'volume': 68951059, 'adjClose': 4.26, 'adjHigh': 4.33, 'adjLow': 3.96, 'adjOpen': 4.0, 'adjVolume': 68951059, 'divCash': 0.0, 'splitFactor': 1.0}, {'date': '2020-06-02T00:00:00.000Z', 'close': 4.7, 'high': 4.73, 'low': 4.35, 'open': 4.36, 'volume': 81717678, 'adjClose': 4.7, 'adjHigh': 4.73, 'adjLow': 4.35, 'adjOpen': 4.36, 'adjVolume': 81717678, 'divCash': 0.0, 'splitFactor': 1.0}, {'date': '2020-06-03T00:00:00.000Z', 'close': 5.6, 'high': 5.7, 'low': 4.98, 'open': 5.0, 'volume': 198303797, 'adjClose': 5.6, 'adjHigh': 5.7, 'adjLow': 4.98, 'adjOpen': 5.0, 'adjVolume': 198303797, 'divCash': 0.0, 'splitFactor': 1.0}, {'date': '2020-06-04T00:00:00.000Z', 'close': 5.97, 'high': 6.2, 'low': 5.61, 'open': 6.01, 'volume': 172617852, 'adjClose': 5.97, 'adjHigh': 6.2, 'adjLow': 5.61, 'adjOpen': 6.01, 'adjVolume': 172617852, 'divCash': 0.0, 'splitFactor': 1.0}, {'date': '2020-06-05T00:00:00.000Z', 'close': 5.59, 'high': 6.075, 'low': 5.52, 'open': 6.03, 'volume': 90517235, 'adjClose': 5.59, 'adjHigh': 6.075, 'adjLow': 5.52, 'adjOpen': 6.03, 'adjVolume': 90517235, 'divCash': 0.0, 'splitFactor': 1.0}, {'date': '2020-06-08T00:00:00.000Z', 'close': 5.97, 'high': 6.08, 'low': 5.68, 'open': 5.81, 'volume': 85523884, 'adjClose': 5.97, 'adjHigh': 6.08, 'adjLow': 5.68, 'adjOpen': 5.81, 'adjVolume': 85523884, 'divCash': 0.0, 'splitFactor': 1.0}, {'date': '2020-06-09T00:00:00.000Z', 'close': 6.68, 'high': 6.83, 'low': 5.76, 'open': 5.84, 'volume': 135060628, 'adjClose': 6.68, 'adjHigh': 6.83, 'adjLow': 5.76, 'adjOpen': 5.84, 'adjVolume': 135060628, 'divCash': 0.0, 'splitFactor': 1.0}, {'date': '2020-06-10T00:00:00.000Z', 'close': 6.3, 'high': 6.95, 'low': 6.16, 'open': 6.72, 'volume': 99921419, 'adjClose': 6.3, 'adjHigh': 6.95, 'adjLow': 6.16, 'adjOpen': 6.72, 'adjVolume': 99921419, 'divCash': 0.0, 'splitFactor': 1.0}, {'date': '2020-06-11T00:00:00.000Z', 'close': 5.91, 'high': 6.09, 'low': 5.66, 'open': 5.79, 'volume': 126114178, 'adjClose': 5.91, 'adjHigh': 6.09, 'adjLow': 5.66, 'adjOpen': 5.79, 'adjVolume': 126114178, 'divCash': 0.0, 'splitFactor': 1.0}, {'date': '2020-06-12T00:00:00.000Z', 'close': 6.1, 'high': 6.32, 'low': 5.92, 'open': 6.2, 'volume': 59687107, 'adjClose': 6.1, 'adjHigh': 6.32, 'adjLow': 5.92, 'adjOpen': 6.2, 'adjVolume': 59687107, 'divCash': 0.0, 'splitFactor': 1.0}, {'date': '2020-06-15T00:00:00.000Z', 'close': 6.83, 'high': 6.99, 'low': 5.92, 'open': 5.97, 'volume': 113172449, 'adjClose': 6.83, 'adjHigh': 6.99, 'adjLow': 5.92, 'adjOpen': 5.97, 'adjVolume': 113172449, 'divCash': 0.0, 'splitFactor': 1.0}, {'date': '2020-06-16T00:00:00.000Z', 'close': 6.99, 'high': 7.44, 'low': 6.53, 'open': 7.43, 'volume': 130245602, 'adjClose': 6.99, 'adjHigh': 7.44, 'adjLow': 6.53, 'adjOpen': 7.43, 'adjVolume': 130245602, 'divCash': 0.0, 'splitFactor': 1.0}, {'date': '2020-06-17T00:00:00.000Z', 'close': 6.84, 'high': 6.98, 'low': 6.58, 'open': 6.93, 'volume': 58838533, 'adjClose': 6.84, 'adjHigh': 6.98, 'adjLow': 6.58, 'adjOpen': 6.93, 'adjVolume': 58838533, 'divCash': 0.0, 'splitFactor': 1.0}, {'date': '2020-06-18T00:00:00.000Z', 'close': 7.18, 'high': 7.36, 'low': 6.78, 'open': 6.8, 'volume': 78503216, 'adjClose': 7.18, 'adjHigh': 7.36, 'adjLow': 6.78, 'adjOpen': 6.8, 'adjVolume': 78503216, 'divCash': 0.0, 'splitFactor': 1.0}, {'date': '2020-06-19T00:00:00.000Z', 'close': 7.34, 'high': 7.63, 'low': 7.23, 'open': 7.36, 'volume': 84037079, 'adjClose': 7.34, 'adjHigh': 7.63, 'adjLow': 7.23, 'adjOpen': 7.36, 'adjVolume': 84037079, 'divCash': 0.0, 'splitFactor': 1.0}, {'date': '2020-06-22T00:00:00.000Z', 'close': 7.43, 'high': 7.9, 'low': 7.38, 'open': 7.86, 'volume': 112647898, 'adjClose': 7.43, 'adjHigh': 7.9, 'adjLow': 7.38, 'adjOpen': 7.86, 'adjVolume': 112647898, 'divCash': 0.0, 'splitFactor': 1.0}, {'date': '2020-06-23T00:00:00.000Z', 'close': 7.23, 'high': 7.685, 'low': 7.19, 'open': 7.55, 'volume': 79627842, 'adjClose': 7.23, 'adjHigh': 7.685, 'adjLow': 7.19, 'adjOpen': 7.55, 'adjVolume': 79627842, 'divCash': 0.0, 'splitFactor': 1.0}, {'date': '2020-06-24T00:00:00.000Z', 'close': 6.86, 'high': 7.08, 'low': 6.5, 'open': 6.93, 'volume': 103575859, 'adjClose': 6.86, 'adjHigh': 7.08, 'adjLow': 6.5, 'adjOpen': 6.93, 'adjVolume': 103575859, 'divCash': 0.0, 'splitFactor': 1.0}, {'date': '2020-06-25T00:00:00.000Z', 'close': 7.08, 'high': 7.145, 'low': 6.6, 'open': 6.66, 'volume': 46442109, 'adjClose': 7.08, 'adjHigh': 7.145, 'adjLow': 6.6, 'adjOpen': 6.66, 'adjVolume': 46442109, 'divCash': 0.0, 'splitFactor': 1.0}, {'date': '2020-06-26T00:00:00.000Z', 'close': 6.9, 'high': 7.18, 'low': 6.8, 'open': 7.03, 'volume': 33453587, 'adjClose': 6.9, 'adjHigh': 7.18, 'adjLow': 6.8, 'adjOpen': 7.03, 'adjVolume': 33453587, 'divCash': 0.0, 'splitFactor': 1.0}, {'date': '2020-06-29T00:00:00.000Z', 'close': 7.23, 'high': 7.25, 'low': 6.71, 'open': 6.98, 'volume': 45876100, 'adjClose': 7.23, 'adjHigh': 7.25, 'adjLow': 6.71, 'adjOpen': 6.98, 'adjVolume': 45876100, 'divCash': 0.0, 'splitFactor': 1.0}, {'date': '2020-06-30T00:00:00.000Z', 'close': 7.72, 'high': 7.75, 'low': 7.12, 'open': 7.21, 'volume': 84229500, 'adjClose': 7.72, 'adjHigh': 7.75, 'adjLow': 7.12, 'adjOpen': 7.21, 'adjVolume': 84229500, 'divCash': 0.0, 'splitFactor': 1.0}, {'date': '2020-07-01T00:00:00.000Z', 'close': 7.91, 'high': 7.99, 'low': 7.67, 'open': 7.79, 'volume': 64427000, 'adjClose': 7.91, 'adjHigh': 7.99, 'adjLow': 7.67, 'adjOpen': 7.79, 'adjVolume': 64427000, 'divCash': 0.0, 'splitFactor': 1.0}, {'date': '2020-07-02T00:00:00.000Z', 'close': 9.38, 'high': 9.4, 'low': 8.7, 'open': 9.05, 'volume': 219628700, 'adjClose': 9.38, 'adjHigh': 9.4, 'adjLow': 8.7, 'adjOpen': 9.05, 'adjVolume': 219628700, 'divCash': 0.0, 'splitFactor': 1.0}, {'date': '2020-07-06T00:00:00.000Z', 'close': 11.51, 'high': 12.3, 'low': 10.93, 'open': 11.05, 'volume': 325679000, 'adjClose': 11.51, 'adjHigh': 12.3, 'adjLow': 10.93, 'adjOpen': 11.05, 'adjVolume': 325679000, 'divCash': 0.0, 'splitFactor': 1.0}, {'date': '2020-07-07T00:00:00.000Z', 'close': 13.22, 'high': 13.77, 'low': 10.7, 'open': 11.26, 'volume': 442681000, 'adjClose': 13.22, 'adjHigh': 13.77, 'adjLow': 10.7, 'adjOpen': 11.26, 'adjVolume': 442681000, 'divCash': 0.0, 'splitFactor': 1.0}, {'date': '2020-07-08T00:00:00.000Z', 'close': 12.88, 'high': 15.28, 'low': 12.0, 'open': 14.1, 'volume': 568960800, 'adjClose': 12.88, 'adjHigh': 15.28, 'adjLow': 12.0, 'adjOpen': 14.1, 'adjVolume': 568960800, 'divCash': 0.0, 'splitFactor': 1.0}, {'date': '2020-07-09T00:00:00.000Z', 'close': 14.57, 'high': 14.63, 'low': 13.07, 'open': 13.5, 'volume': 314527300, 'adjClose': 14.57, 'adjHigh': 14.63, 'adjLow': 13.07, 'adjOpen': 13.5, 'adjVolume': 314527300, 'divCash': 0.0, 'splitFactor': 1.0}, {'date': '2020-07-10T00:00:00.000Z', 'close': 14.98, 'high': 15.73, 'low': 14.2, 'open': 15.61, 'volume': 317735400, 'adjClose': 14.98, 'adjHigh': 15.73, 'adjLow': 14.2, 'adjOpen': 15.61, 'adjVolume': 317735400, 'divCash': 0.0, 'splitFactor': 1.0}, {'date': '2020-07-13T00:00:00.000Z', 'close': 13.84, 'high': 16.44, 'low': 13.61, 'open': 15.26, 'volume': 310058200, 'adjClose': 13.84, 'adjHigh': 16.44, 'adjLow': 13.61, 'adjOpen': 15.26, 'adjVolume': 310058200, 'divCash': 0.0, 'splitFactor': 1.0}, {'date': '2020-07-14T00:00:00.000Z', 'close': 14.09, 'high': 14.13, 'low': 12.42, 'open': 13.25, 'volume': 195253600, 'adjClose': 14.09, 'adjHigh': 14.13, 'adjLow': 12.42, 'adjOpen': 13.25, 'adjVolume': 195253600, 'divCash': 0.0, 'splitFactor': 1.0}, {'date': '2020-07-15T00:00:00.000Z', 'close': 13.52, 'high': 13.95, 'low': 12.85, 'open': 13.82, 'volume': 114166800, 'adjClose': 13.52, 'adjHigh': 13.95, 'adjLow': 12.85, 'adjOpen': 13.82, 'adjVolume': 114166800, 'divCash': 0.0, 'splitFactor': 1.0}, {'date': '2020-07-16T00:00:00.000Z', 'close': 12.94, 'high': 13.16, 'low': 12.45, 'open': 12.46, 'volume': 134084800, 'adjClose': 12.94, 'adjHigh': 13.16, 'adjLow': 12.45, 'adjOpen': 12.46, 'adjVolume': 134084800, 'divCash': 0.0, 'splitFactor': 1.0}, {'date': '2020-07-17T00:00:00.000Z', 'close': 11.09, 'high': 12.07, 'low': 10.46, 'open': 11.86, 'volume': 289514200, 'adjClose': 11.09, 'adjHigh': 12.07, 'adjLow': 10.46, 'adjOpen': 11.86, 'adjVolume': 289514200, 'divCash': 0.0, 'splitFactor': 1.0}, {'date': '2020-07-20T00:00:00.000Z', 'close': 12.82, 'high': 12.84, 'low': 11.38, 'open': 11.42, 'volume': 154596601, 'adjClose': 12.82, 'adjHigh': 12.84, 'adjLow': 11.38, 'adjOpen': 11.42, 'adjVolume': 154596601, 'divCash': 0.0, 'splitFactor': 1.0}, {'date': '2020-07-21T00:00:00.000Z', 'close': 12.88, 'high': 13.58, 'low': 12.62, 'open': 13.45, 'volume': 128042801, 'adjClose': 12.88, 'adjHigh': 13.58, 'adjLow': 12.62, 'adjOpen': 13.45, 'adjVolume': 128042801, 'divCash': 0.0, 'splitFactor': 1.0}, {'date': '2020-07-22T00:00:00.000Z', 'close': 12.38, 'high': 12.83, 'low': 11.81, 'open': 12.38, 'volume': 112260489, 'adjClose': 12.38, 'adjHigh': 12.83, 'adjLow': 11.81, 'adjOpen': 12.38, 'adjVolume': 112260489, 'divCash': 0.0, 'splitFactor': 1.0}, {'date': '2020-07-23T00:00:00.000Z', 'close': 12.15, 'high': 12.63, 'low': 11.85, 'open': 12.59, 'volume': 95206301, 'adjClose': 12.15, 'adjHigh': 12.63, 'adjLow': 11.85, 'adjOpen': 12.59, 'adjVolume': 95206301, 'divCash': 0.0, 'splitFactor': 1.0}, {'date': '2020-07-24T00:00:00.000Z', 'close': 11.82, 'high': 11.9, 'low': 10.91, 'open': 11.38, 'volume': 93425298, 'adjClose': 11.82, 'adjHigh': 11.9, 'adjLow': 10.91, 'adjOpen': 11.38, 'adjVolume': 93425298, 'divCash': 0.0, 'splitFactor': 1.0}, {'date': '2020-07-27T00:00:00.000Z', 'close': 11.69, 'high': 12.09, 'low': 11.27, 'open': 12.03, 'volume': 64068520, 'adjClose': 11.69, 'adjHigh': 12.09, 'adjLow': 11.27, 'adjOpen': 12.03, 'adjVolume': 64068520, 'divCash': 0.0, 'splitFactor': 1.0}, {'date': '2020-07-28T00:00:00.000Z', 'close': 12.27, 'high': 12.64, 'low': 11.38, 'open': 11.48, 'volume': 90075812, 'adjClose': 12.27, 'adjHigh': 12.64, 'adjLow': 11.38, 'adjOpen': 11.48, 'adjVolume': 90075812, 'divCash': 0.0, 'splitFactor': 1.0}, {'date': '2020-07-29T00:00:00.000Z', 'close': 12.7, 'high': 13.0, 'low': 12.431, 'open': 12.65, 'volume': 69552555, 'adjClose': 12.7, 'adjHigh': 13.0, 'adjLow': 12.431, 'adjOpen': 12.65, 'adjVolume': 69552555, 'divCash': 0.0, 'splitFactor': 1.0}, {'date': '2020-07-30T00:00:00.000Z', 'close': 12.2, 'high': 12.95, 'low': 12.07, 'open': 12.62, 'volume': 64952913, 'adjClose': 12.2, 'adjHigh': 12.95, 'adjLow': 12.07, 'adjOpen': 12.62, 'adjVolume': 64952913, 'divCash': 0.0, 'splitFactor': 1.0}, {'date': '2020-07-31T00:00:00.000Z', 'close': 11.94, 'high': 12.59, 'low': 11.73, 'open': 12.41, 'volume': 61813807, 'adjClose': 11.94, 'adjHigh': 12.59, 'adjLow': 11.73, 'adjOpen': 12.41, 'adjVolume': 61813807, 'divCash': 0.0, 'splitFactor': 1.0}, {'date': '2020-08-03T00:00:00.000Z', 'close': 13.6, 'high': 13.67, 'low': 12.46, 'open': 12.53, 'volume': 122925296, 'adjClose': 13.6, 'adjHigh': 13.67, 'adjLow': 12.46, 'adjOpen': 12.53, 'adjVolume': 122925296, 'divCash': 0.0, 'splitFactor': 1.0}, {'date': '2020-08-04T00:00:00.000Z', 'close': 13.64, 'high': 14.53, 'low': 13.22, 'open': 14.46, 'volume': 125731370, 'adjClose': 13.64, 'adjHigh': 14.53, 'adjLow': 13.22, 'adjOpen': 14.46, 'adjVolume': 125731370, 'divCash': 0.0, 'splitFactor': 1.0}, {'date': '2020-08-05T00:00:00.000Z', 'close': 13.92, 'high': 14.075, 'low': 13.3739, 'open': 13.41, 'volume': 60375033, 'adjClose': 13.92, 'adjHigh': 14.075, 'adjLow': 13.3739, 'adjOpen': 13.41, 'adjVolume': 60375033, 'divCash': 0.0, 'splitFactor': 1.0}, {'date': '2020-08-06T00:00:00.000Z', 'close': 13.84, 'high': 14.31, 'low': 13.52, 'open': 14.1, 'volume': 49787709, 'adjClose': 13.84, 'adjHigh': 14.31, 'adjLow': 13.52, 'adjOpen': 14.1, 'adjVolume': 49787709, 'divCash': 0.0, 'splitFactor': 1.0}, {'date': '2020-08-07T00:00:00.000Z', 'close': 13.42, 'high': 13.73, 'low': 13.2, 'open': 13.54, 'volume': 57745964, 'adjClose': 13.42, 'adjHigh': 13.73, 'adjLow': 13.2, 'adjOpen': 13.54, 'adjVolume': 57745964, 'divCash': 0.0, 'splitFactor': 1.0}, {'date': '2020-08-10T00:00:00.000Z', 'close': 14.21, 'high': 14.42, 'low': 13.68, 'open': 13.94, 'volume': 84267291, 'adjClose': 14.21, 'adjHigh': 14.42, 'adjLow': 13.68, 'adjOpen': 13.94, 'adjVolume': 84267291, 'divCash': 0.0, 'splitFactor': 1.0}, {'date': '2020-08-11T00:00:00.000Z', 'close': 12.99, 'high': 15.45, 'low': 12.94, 'open': 15.3, 'volume': 181311514, 'adjClose': 12.99, 'adjHigh': 15.45, 'adjLow': 12.94, 'adjOpen': 15.3, 'adjVolume': 181311514, 'divCash': 0.0, 'splitFactor': 1.0}, {'date': '2020-08-12T00:00:00.000Z', 'close': 13.36, 'high': 13.45, 'low': 12.67, 'open': 13.37, 'volume': 77471427, 'adjClose': 13.36, 'adjHigh': 13.45, 'adjLow': 12.67, 'adjOpen': 13.37, 'adjVolume': 77471427, 'divCash': 0.0, 'splitFactor': 1.0}, {'date': '2020-08-13T00:00:00.000Z', 'close': 13.36, 'high': 13.64, 'low': 13.17, 'open': 13.45, 'volume': 50093545, 'adjClose': 13.36, 'adjHigh': 13.64, 'adjLow': 13.17, 'adjOpen': 13.45, 'adjVolume': 50093545, 'divCash': 0.0, 'splitFactor': 1.0}, {'date': '2020-08-14T00:00:00.000Z', 'close': 13.1, 'high': 13.18, 'low': 12.54, 'open': 13.18, 'volume': 63250748, 'adjClose': 13.1, 'adjHigh': 13.18, 'adjLow': 12.54, 'adjOpen': 13.18, 'adjVolume': 63250748, 'divCash': 0.0, 'splitFactor': 1.0}, {'date': '2020-08-17T00:00:00.000Z', 'close': 14.05, 'high': 14.05, 'low': 13.06, 'open': 13.07, 'volume': 77497916, 'adjClose': 14.05, 'adjHigh': 14.05, 'adjLow': 13.06, 'adjOpen': 13.07, 'adjVolume': 77497916, 'divCash': 0.0, 'splitFactor': 1.0}, {'date': '2020-08-18T00:00:00.000Z', 'close': 14.3, 'high': 14.69, 'low': 13.871, 'open': 14.23, 'volume': 69962360, 'adjClose': 14.3, 'adjHigh': 14.69, 'adjLow': 13.871, 'adjOpen': 14.23, 'adjVolume': 69962360, 'divCash': 0.0, 'splitFactor': 1.0}, {'date': '2020-08-19T00:00:00.000Z', 'close': 14.06, 'high': 14.41, 'low': 13.85, 'open': 14.29, 'volume': 41966837, 'adjClose': 14.06, 'adjHigh': 14.41, 'adjLow': 13.85, 'adjOpen': 14.29, 'adjVolume': 41966837, 'divCash': 0.0, 'splitFactor': 1.0}, {'date': '2020-08-20T00:00:00.000Z', 'close': 13.78, 'high': 14.05, 'low': 13.53, 'open': 13.85, 'volume': 50072785, 'adjClose': 13.78, 'adjHigh': 14.05, 'adjLow': 13.53, 'adjOpen': 13.85, 'adjVolume': 50072785, 'divCash': 0.0, 'splitFactor': 1.0}, {'date': '2020-08-21T00:00:00.000Z', 'close': 14.12, 'high': 14.58, 'low': 13.62, 'open': 13.64, 'volume': 70189908, 'adjClose': 14.12, 'adjHigh': 14.58, 'adjLow': 13.62, 'adjOpen': 13.64, 'adjVolume': 70189908, 'divCash': 0.0, 'splitFactor': 1.0}, {'date': '2020-08-24T00:00:00.000Z', 'close': 14.97, 'high': 14.98, 'low': 14.31, 'open': 14.63, 'volume': 98697703, 'adjClose': 14.97, 'adjHigh': 14.98, 'adjLow': 14.31, 'adjOpen': 14.63, 'adjVolume': 98697703, 'divCash': 0.0, 'splitFactor': 1.0}, {'date': '2020-08-25T00:00:00.000Z', 'close': 17.84, 'high': 17.87, 'low': 15.06, 'open': 15.08, 'volume': 299047816, 'adjClose': 17.84, 'adjHigh': 17.87, 'adjLow': 15.06, 'adjOpen': 15.08, 'adjVolume': 299047816, 'divCash': 0.0, 'splitFactor': 1.0}, {'date': '2020-08-26T00:00:00.000Z', 'close': 20.44, 'high': 20.97, 'low': 18.56, 'open': 19.01, 'volume': 364104643, 'adjClose': 20.44, 'adjHigh': 20.97, 'adjLow': 18.56, 'adjOpen': 19.01, 'adjVolume': 364104643, 'divCash': 0.0, 'splitFactor': 1.0}, {'date': '2020-08-27T00:00:00.000Z', 'close': 19.88, 'high': 20.47, 'low': 18.76, 'open': 19.99, 'volume': 199850277, 'adjClose': 19.88, 'adjHigh': 20.47, 'adjLow': 18.76, 'adjOpen': 19.99, 'adjVolume': 199850277, 'divCash': 0.0, 'splitFactor': 1.0}, {'date': '2020-08-28T00:00:00.000Z', 'close': 18.5, 'high': 19.44, 'low': 18.11, 'open': 18.87, 'volume': 155242283, 'adjClose': 18.5, 'adjHigh': 19.44, 'adjLow': 18.11, 'adjOpen': 18.87, 'adjVolume': 155242283, 'divCash': 0.0, 'splitFactor': 1.0}, {'date': '2020-08-31T00:00:00.000Z', 'close': 19.03, 'high': 19.83, 'low': 16.82, 'open': 17.19, 'volume': 226610901, 'adjClose': 19.03, 'adjHigh': 19.83, 'adjLow': 16.82, 'adjOpen': 17.19, 'adjVolume': 226610901, 'divCash': 0.0, 'splitFactor': 1.0}, {'date': '2020-09-01T00:00:00.000Z', 'close': 20.12, 'high': 20.38, 'low': 18.75, 'open': 19.45, 'volume': 137644836, 'adjClose': 20.12, 'adjHigh': 20.38, 'adjLow': 18.75, 'adjOpen': 19.45, 'adjVolume': 137644836, 'divCash': 0.0, 'splitFactor': 1.0}, {'date': '2020-09-02T00:00:00.000Z', 'close': 19.9, 'high': 21.05, 'low': 18.5, 'open': 20.92, 'volume': 153460601, 'adjClose': 19.9, 'adjHigh': 21.05, 'adjLow': 18.5, 'adjOpen': 20.92, 'adjVolume': 153460601, 'divCash': 0.0, 'splitFactor': 1.0}, {'date': '2020-09-03T00:00:00.000Z', 'close': 18.7, 'high': 19.84, 'low': 18.3526, 'open': 19.09, 'volume': 128358422, 'adjClose': 18.7, 'adjHigh': 19.84, 'adjLow': 18.3526, 'adjOpen': 19.09, 'adjVolume': 128358422, 'divCash': 0.0, 'splitFactor': 1.0}, {'date': '2020-09-04T00:00:00.000Z', 'close': 17.98, 'high': 19.18, 'low': 15.61, 'open': 18.54, 'volume': 163329780, 'adjClose': 17.98, 'adjHigh': 19.18, 'adjLow': 15.61, 'adjOpen': 18.54, 'adjVolume': 163329780, 'divCash': 0.0, 'splitFactor': 1.0}, {'date': '2020-09-08T00:00:00.000Z', 'close': 17.03, 'high': 17.86, 'low': 16.51, 'open': 17.17, 'volume': 89624571, 'adjClose': 17.03, 'adjHigh': 17.86, 'adjLow': 16.51, 'adjOpen': 17.17, 'adjVolume': 89624571, 'divCash': 0.0, 'splitFactor': 1.0}, {'date': '2020-09-09T00:00:00.000Z', 'close': 18.09, 'high': 18.63, 'low': 17.7, 'open': 17.9, 'volume': 90988423, 'adjClose': 18.09, 'adjHigh': 18.63, 'adjLow': 17.7, 'adjOpen': 17.9, 'adjVolume': 90988423, 'divCash': 0.0, 'splitFactor': 1.0}, {'date': '2020-09-10T00:00:00.000Z', 'close': 17.74, 'high': 18.72, 'low': 17.49, 'open': 18.49, 'volume': 79679834, 'adjClose': 17.74, 'adjHigh': 18.72, 'adjLow': 17.49, 'adjOpen': 18.49, 'adjVolume': 79679834, 'divCash': 0.0, 'splitFactor': 1.0}, {'date': '2020-09-11T00:00:00.000Z', 'close': 17.97, 'high': 18.1, 'low': 17.45, 'open': 18.0, 'volume': 55373486, 'adjClose': 17.97, 'adjHigh': 18.1, 'adjLow': 17.45, 'adjOpen': 18.0, 'adjVolume': 55373486, 'divCash': 0.0, 'splitFactor': 1.0}, {'date': '2020-09-14T00:00:00.000Z', 'close': 18.73, 'high': 18.78, 'low': 17.9, 'open': 18.18, 'volume': 68234902, 'adjClose': 18.73, 'adjHigh': 18.78, 'adjLow': 17.9, 'adjOpen': 18.18, 'adjVolume': 68234902, 'divCash': 0.0, 'splitFactor': 1.0}, {'date': '2020-09-15T00:00:00.000Z', 'close': 19.19, 'high': 20.25, 'low': 18.88, 'open': 19.1, 'volume': 111630535, 'adjClose': 19.19, 'adjHigh': 20.25, 'adjLow': 18.88, 'adjOpen': 19.1, 'adjVolume': 111630535, 'divCash': 0.0, 'splitFactor': 1.0}, {'date': '2020-09-16T00:00:00.000Z', 'close': 19.01, 'high': 19.54, 'low': 18.52, 'open': 19.27, 'volume': 57845793, 'adjClose': 19.01, 'adjHigh': 19.54, 'adjLow': 18.52, 'adjOpen': 19.27, 'adjVolume': 57845793, 'divCash': 0.0, 'splitFactor': 1.0}, {'date': '2020-09-17T00:00:00.000Z', 'close': 19.3, 'high': 19.33, 'low': 18.08, 'open': 18.26, 'volume': 55186587, 'adjClose': 19.3, 'adjHigh': 19.33, 'adjLow': 18.08, 'adjOpen': 18.26, 'adjVolume': 55186587, 'divCash': 0.0, 'splitFactor': 1.0}, {'date': '2020-09-18T00:00:00.000Z', 'close': 19.41, 'high': 19.88, 'low': 18.94, 'open': 19.72, 'volume': 54885511, 'adjClose': 19.41, 'adjHigh': 19.88, 'adjLow': 18.94, 'adjOpen': 19.72, 'adjVolume': 54885511, 'divCash': 0.0, 'splitFactor': 1.0}, {'date': '2020-09-21T00:00:00.000Z', 'close': 18.81, 'high': 19.265, 'low': 17.66, 'open': 19.05, 'volume': 75969546, 'adjClose': 18.81, 'adjHigh': 19.265, 'adjLow': 17.66, 'adjOpen': 19.05, 'adjVolume': 75969546, 'divCash': 0.0, 'splitFactor': 1.0}, {'date': '2020-09-22T00:00:00.000Z', 'close': 19.23, 'high': 19.45, 'low': 18.37, 'open': 18.48, 'volume': 61061116, 'adjClose': 19.23, 'adjHigh': 19.45, 'adjLow': 18.37, 'adjOpen': 18.48, 'adjVolume': 61061116, 'divCash': 0.0, 'splitFactor': 1.0}, {'date': '2020-09-23T00:00:00.000Z', 'close': 17.96, 'high': 19.36, 'low': 17.8, 'open': 19.22, 'volume': 70568089, 'adjClose': 17.96, 'adjHigh': 19.36, 'adjLow': 17.8, 'adjOpen': 19.22, 'adjVolume': 70568089, 'divCash': 0.0, 'splitFactor': 1.0}, {'date': '2020-09-24T00:00:00.000Z', 'close': 17.85, 'high': 18.39, 'low': 16.75, 'open': 17.32, 'volume': 71069510, 'adjClose': 17.85, 'adjHigh': 18.39, 'adjLow': 16.75, 'adjOpen': 17.32, 'adjVolume': 71069510, 'divCash': 0.0, 'splitFactor': 1.0}, {'date': '2020-09-25T00:00:00.000Z', 'close': 18.32, 'high': 18.62, 'low': 17.95, 'open': 18.02, 'volume': 44122149, 'adjClose': 18.32, 'adjHigh': 18.62, 'adjLow': 17.95, 'adjOpen': 18.02, 'adjVolume': 44122149, 'divCash': 0.0, 'splitFactor': 1.0}, {'date': '2020-09-28T00:00:00.000Z', 'close': 18.81, 'high': 19.16, 'low': 18.43, 'open': 18.88, 'volume': 42786232, 'adjClose': 18.81, 'adjHigh': 19.16, 'adjLow': 18.43, 'adjOpen': 18.88, 'adjVolume': 42786232, 'divCash': 0.0, 'splitFactor': 1.0}, {'date': '2020-09-29T00:00:00.000Z', 'close': 20.85, 'high': 21.12, 'low': 18.71, 'open': 18.76, 'volume': 164378538, 'adjClose': 20.85, 'adjHigh': 21.12, 'adjLow': 18.71, 'adjOpen': 18.76, 'adjVolume': 164378538, 'divCash': 0.0, 'splitFactor': 1.0}, {'date': '2020-09-30T00:00:00.000Z', 'close': 21.22, 'high': 22.59, 'low': 20.76, 'open': 21.72, 'volume': 183530455, 'adjClose': 21.22, 'adjHigh': 22.59, 'adjLow': 20.76, 'adjOpen': 21.72, 'adjVolume': 183530455, 'divCash': 0.0, 'splitFactor': 1.0}, {'date': '2020-10-01T00:00:00.000Z', 'close': 21.76, 'high': 21.96, 'low': 20.83, 'open': 21.68, 'volume': 79117101, 'adjClose': 21.76, 'adjHigh': 21.96, 'adjLow': 20.83, 'adjOpen': 21.68, 'adjVolume': 79117101, 'divCash': 0.0, 'splitFactor': 1.0}, {'date': '2020-10-02T00:00:00.000Z', 'close': 21.18, 'high': 22.2, 'low': 20.8, 'open': 20.83, 'volume': 92713560, 'adjClose': 21.18, 'adjHigh': 22.2, 'adjLow': 20.8, 'adjOpen': 20.83, 'adjVolume': 92713560, 'divCash': 0.0, 'splitFactor': 1.0}, {'date': '2020-10-05T00:00:00.000Z', 'close': 21.59, 'high': 21.92, 'low': 21.07, 'open': 21.66, 'volume': 60860112, 'adjClose': 21.59, 'adjHigh': 21.92, 'adjLow': 21.07, 'adjOpen': 21.66, 'adjVolume': 60860112, 'divCash': 0.0, 'splitFactor': 1.0}, {'date': '2020-10-06T00:00:00.000Z', 'close': 20.67, 'high': 21.94, 'low': 20.6, 'open': 21.71, 'volume': 73217119, 'adjClose': 20.67, 'adjHigh': 21.94, 'adjLow': 20.6, 'adjOpen': 21.71, 'adjVolume': 73217119, 'divCash': 0.0, 'splitFactor': 1.0}, {'date': '2020-10-07T00:00:00.000Z', 'close': 21.56, 'high': 21.77, 'low': 20.79, 'open': 21.06, 'volume': 59354282, 'adjClose': 21.56, 'adjHigh': 21.77, 'adjLow': 20.79, 'adjOpen': 21.06, 'adjVolume': 59354282, 'divCash': 0.0, 'splitFactor': 1.0}, {'date': '2020-10-08T00:00:00.000Z', 'close': 21.44, 'high': 22.45, 'low': 21.29, 'open': 22.05, 'volume': 77719581, 'adjClose': 21.44, 'adjHigh': 22.45, 'adjLow': 21.29, 'adjOpen': 22.05, 'adjVolume': 77719581, 'divCash': 0.0, 'splitFactor': 1.0}, {'date': '2020-10-09T00:00:00.000Z', 'close': 21.47, 'high': 21.74, 'low': 21.32, 'open': 21.62, 'volume': 37328968, 'adjClose': 21.47, 'adjHigh': 21.74, 'adjLow': 21.32, 'adjOpen': 21.62, 'adjVolume': 37328968, 'divCash': 0.0, 'splitFactor': 1.0}, {'date': '2020-10-12T00:00:00.000Z', 'close': 21.85, 'high': 22.18, 'low': 21.55, 'open': 21.88, 'volume': 45476830, 'adjClose': 21.85, 'adjHigh': 22.18, 'adjLow': 21.55, 'adjOpen': 21.88, 'adjVolume': 45476830, 'divCash': 0.0, 'splitFactor': 1.0}, {'date': '2020-10-13T00:00:00.000Z', 'close': 21.62, 'high': 21.97, 'low': 21.17, 'open': 21.86, 'volume': 42581464, 'adjClose': 21.62, 'adjHigh': 21.97, 'adjLow': 21.17, 'adjOpen': 21.86, 'adjVolume': 42581464, 'divCash': 0.0, 'splitFactor': 1.0}, {'date': '2020-10-14T00:00:00.000Z', 'close': 26.5, 'high': 26.96, 'low': 23.73, 'open': 23.98, 'volume': 387903255, 'adjClose': 26.5, 'adjHigh': 26.96, 'adjLow': 23.73, 'adjOpen': 23.98, 'adjVolume': 387903255, 'divCash': 0.0, 'splitFactor': 1.0}, {'date': '2020-10-15T00:00:00.000Z', 'close': 28.07, 'high': 29.23, 'low': 25.78, 'open': 27.2, 'volume': 385210596, 'adjClose': 28.07, 'adjHigh': 29.23, 'adjLow': 25.78, 'adjOpen': 27.2, 'adjVolume': 385210596, 'divCash': 0.0, 'splitFactor': 1.0}, {'date': '2020-10-16T00:00:00.000Z', 'close': 28.48, 'high': 29.4, 'low': 27.94, 'open': 29.18, 'volume': 186764680, 'adjClose': 28.48, 'adjHigh': 29.4, 'adjLow': 27.94, 'adjOpen': 29.18, 'adjVolume': 186764680, 'divCash': 0.0, 'splitFactor': 1.0}, {'date': '2020-10-19T00:00:00.000Z', 'close': 27.63, 'high': 28.56, 'low': 27.22, 'open': 28.21, 'volume': 115708710, 'adjClose': 27.63, 'adjHigh': 28.56, 'adjLow': 27.22, 'adjOpen': 28.21, 'adjVolume': 115708710, 'divCash': 0.0, 'splitFactor': 1.0}, {'date': '2020-10-20T00:00:00.000Z', 'close': 27.96, 'high': 28.3, 'low': 27.05, 'open': 27.42, 'volume': 105233416, 'adjClose': 27.96, 'adjHigh': 28.3, 'adjLow': 27.05, 'adjOpen': 27.42, 'adjVolume': 105233416, 'divCash': 0.0, 'splitFactor': 1.0}, {'date': '2020-10-21T00:00:00.000Z', 'close': 27.86, 'high': 28.43, 'low': 27.385, 'open': 27.9, 'volume': 65357930, 'adjClose': 27.86, 'adjHigh': 28.43, 'adjLow': 27.385, 'adjOpen': 27.9, 'adjVolume': 65357930, 'divCash': 0.0, 'splitFactor': 1.0}, {'date': '2020-10-22T00:00:00.000Z', 'close': 27.38, 'high': 28.28, 'low': 26.81, 'open': 28.15, 'volume': 72173307, 'adjClose': 27.38, 'adjHigh': 28.28, 'adjLow': 26.81, 'adjOpen': 28.15, 'adjVolume': 72173307, 'divCash': 0.0, 'splitFactor': 1.0}, {'date': '2020-10-23T00:00:00.000Z', 'close': 27.16, 'high': 27.42, 'low': 26.48, 'open': 27.37, 'volume': 51784048, 'adjClose': 27.16, 'adjHigh': 27.42, 'adjLow': 26.48, 'adjOpen': 27.37, 'adjVolume': 51784048, 'divCash': 0.0, 'splitFactor': 1.0}, {'date': '2020-10-26T00:00:00.000Z', 'close': 26.01, 'high': 27.35, 'low': 25.46, 'open': 26.61, 'volume': 72610347, 'adjClose': 26.01, 'adjHigh': 27.35, 'adjLow': 25.46, 'adjOpen': 26.61, 'adjVolume': 72610347, 'divCash': 0.0, 'splitFactor': 1.0}, {'date': '2020-10-27T00:00:00.000Z', 'close': 28.44, 'high': 28.46, 'low': 26.03, 'open': 26.21, 'volume': 104257726, 'adjClose': 28.44, 'adjHigh': 28.46, 'adjLow': 26.03, 'adjOpen': 26.21, 'adjVolume': 104257726, 'divCash': 0.0, 'splitFactor': 1.0}, {'date': '2020-10-28T00:00:00.000Z', 'close': 27.51, 'high': 28.1, 'low': 26.51, 'open': 27.92, 'volume': 89374938, 'adjClose': 27.51, 'adjHigh': 28.1, 'adjLow': 26.51, 'adjOpen': 27.92, 'adjVolume': 89374938, 'divCash': 0.0, 'splitFactor': 1.0}, {'date': '2020-10-29T00:00:00.000Z', 'close': 31.99, 'high': 32.2, 'low': 28.32, 'open': 28.52, 'volume': 214034656, 'adjClose': 31.99, 'adjHigh': 32.2, 'adjLow': 28.32, 'adjOpen': 28.52, 'adjVolume': 214034656, 'divCash': 0.0, 'splitFactor': 1.0}, {'date': '2020-10-30T00:00:00.000Z', 'close': 30.58, 'high': 31.59, 'low': 30.03, 'open': 31.39, 'volume': 136902610, 'adjClose': 30.58, 'adjHigh': 31.59, 'adjLow': 30.03, 'adjOpen': 31.39, 'adjVolume': 136902610, 'divCash': 0.0, 'splitFactor': 1.0}, {'date': '2020-11-02T00:00:00.000Z', 'close': 33.32, 'high': 34.94, 'low': 31.68, 'open': 33.95, 'volume': 265719877, 'adjClose': 33.32, 'adjHigh': 34.94, 'adjLow': 31.68, 'adjOpen': 33.95, 'adjVolume': 265719877, 'divCash': 0.0, 'splitFactor': 1.0}, {'date': '2020-11-03T00:00:00.000Z', 'close': 35.5, 'high': 35.87, 'low': 32.78, 'open': 33.57, 'volume': 217608105, 'adjClose': 35.5, 'adjHigh': 35.87, 'adjLow': 32.78, 'adjOpen': 33.57, 'adjVolume': 217608105, 'divCash': 0.0, 'splitFactor': 1.0}]\n"
     ]
    }
   ],
   "source": [
    "data_response = get_stock_data('NIO', '2020-06-01', '2020-11-04')\n",
    "# print(data_response.url)\n",
    "print(data_response.json())"
   ]
  },
  {
   "cell_type": "code",
   "execution_count": 17,
   "metadata": {},
   "outputs": [],
   "source": [
    "def create_datasets(ticker, start_date, end_date):\n",
    "    json_data = data_response.json()\n",
    "    \n",
    "    dates = []\n",
    "    highs = []\n",
    "    lows = []\n",
    "    opens = []\n",
    "    closes = []\n",
    "    vols = []\n",
    "    \n",
    "    for json_object in json_data:\n",
    "        date = json_object['date']\n",
    "        high = json_object['high']\n",
    "        low = json_object['low']\n",
    "        opened = json_object['open']\n",
    "        close = json_object['adjClose']\n",
    "        vol = json_object['volume']\n",
    "        \n",
    "        dates.append(date)\n",
    "        highs.append(high)\n",
    "        lows.append(low)\n",
    "        opens.append(opened)\n",
    "        closes.append(close)\n",
    "        vols.append(vol)\n",
    "    \n",
    "    \n",
    "    df = pd.DataFrame(list(zip(dates, closes)), columns=['Dates', 'adjClose']) \n",
    "    \n",
    "    return df"
   ]
  },
  {
   "cell_type": "code",
   "execution_count": 18,
   "metadata": {},
   "outputs": [],
   "source": [
    "# df = pd.read_csv('Data/LMND.csv')\n",
    "# df.tail()\n",
    "# # Get the Adjusted Close Price \n",
    "# df = df[['Adj Close']] \n",
    "# # Take a look at the new data \n",
    "# print(df.head())"
   ]
  },
  {
   "cell_type": "markdown",
   "metadata": {},
   "source": [
    "## Create DataFrame"
   ]
  },
  {
   "cell_type": "code",
   "execution_count": 19,
   "metadata": {},
   "outputs": [
    {
     "data": {
      "text/html": [
       "<div>\n",
       "<style scoped>\n",
       "    .dataframe tbody tr th:only-of-type {\n",
       "        vertical-align: middle;\n",
       "    }\n",
       "\n",
       "    .dataframe tbody tr th {\n",
       "        vertical-align: top;\n",
       "    }\n",
       "\n",
       "    .dataframe thead th {\n",
       "        text-align: right;\n",
       "    }\n",
       "</style>\n",
       "<table border=\"1\" class=\"dataframe\">\n",
       "  <thead>\n",
       "    <tr style=\"text-align: right;\">\n",
       "      <th></th>\n",
       "      <th>Dates</th>\n",
       "      <th>adjClose</th>\n",
       "    </tr>\n",
       "  </thead>\n",
       "  <tbody>\n",
       "    <tr>\n",
       "      <th>105</th>\n",
       "      <td>2020-10-28T00:00:00.000Z</td>\n",
       "      <td>27.51</td>\n",
       "    </tr>\n",
       "    <tr>\n",
       "      <th>106</th>\n",
       "      <td>2020-10-29T00:00:00.000Z</td>\n",
       "      <td>31.99</td>\n",
       "    </tr>\n",
       "    <tr>\n",
       "      <th>107</th>\n",
       "      <td>2020-10-30T00:00:00.000Z</td>\n",
       "      <td>30.58</td>\n",
       "    </tr>\n",
       "    <tr>\n",
       "      <th>108</th>\n",
       "      <td>2020-11-02T00:00:00.000Z</td>\n",
       "      <td>33.32</td>\n",
       "    </tr>\n",
       "    <tr>\n",
       "      <th>109</th>\n",
       "      <td>2020-11-03T00:00:00.000Z</td>\n",
       "      <td>35.50</td>\n",
       "    </tr>\n",
       "  </tbody>\n",
       "</table>\n",
       "</div>"
      ],
      "text/plain": [
       "                        Dates  adjClose\n",
       "105  2020-10-28T00:00:00.000Z     27.51\n",
       "106  2020-10-29T00:00:00.000Z     31.99\n",
       "107  2020-10-30T00:00:00.000Z     30.58\n",
       "108  2020-11-02T00:00:00.000Z     33.32\n",
       "109  2020-11-03T00:00:00.000Z     35.50"
      ]
     },
     "execution_count": 19,
     "metadata": {},
     "output_type": "execute_result"
    }
   ],
   "source": [
    "df = create_datasets('NIO', '2020-06-01', '2020-11-04')\n",
    "#x_test, y_test = create_datasets('LMND', '2020-06-01', '2020-10-31')\n",
    "\n",
    "df.tail()"
   ]
  },
  {
   "cell_type": "code",
   "execution_count": 20,
   "metadata": {},
   "outputs": [
    {
     "data": {
      "text/plain": [
       "0      2020-06-01\n",
       "1      2020-06-02\n",
       "2      2020-06-03\n",
       "3      2020-06-04\n",
       "4      2020-06-05\n",
       "          ...    \n",
       "105    2020-10-28\n",
       "106    2020-10-29\n",
       "107    2020-10-30\n",
       "108    2020-11-02\n",
       "109    2020-11-03\n",
       "Name: Ndates, Length: 110, dtype: object"
      ]
     },
     "execution_count": 20,
     "metadata": {},
     "output_type": "execute_result"
    }
   ],
   "source": [
    "# df.tail()\n",
    "# df['Dates'] = df['Dates'][0][:-14]\n",
    "# api_df[:-5]\n",
    "df['Ndates'] = df.Dates.str[:-14]\n",
    "# df['NDates'] = df.Dates.apply(lambda x: x[:-14])\n",
    "df.drop('Dates', inplace=True, axis=1)\n",
    "df['Ndates']"
   ]
  },
  {
   "cell_type": "code",
   "execution_count": 21,
   "metadata": {},
   "outputs": [],
   "source": [
    "for label, content in df.items():\n",
    "    if pd.api.types.is_string_dtype(content):\n",
    "        df[label] = content.astype(\"category\").cat.as_ordered()"
   ]
  },
  {
   "cell_type": "code",
   "execution_count": 22,
   "metadata": {},
   "outputs": [
    {
     "data": {
      "text/plain": [
       "0      2020-06-01\n",
       "1      2020-06-02\n",
       "2      2020-06-03\n",
       "3      2020-06-04\n",
       "4      2020-06-05\n",
       "          ...    \n",
       "105    2020-10-28\n",
       "106    2020-10-29\n",
       "107    2020-10-30\n",
       "108    2020-11-02\n",
       "109    2020-11-03\n",
       "Name: Ndates, Length: 110, dtype: category\n",
       "Categories (110, object): ['2020-06-01' < '2020-06-02' < '2020-06-03' < '2020-06-04' ... '2020-10-29' < '2020-10-30' < '2020-11-02' < '2020-11-03']"
      ]
     },
     "execution_count": 22,
     "metadata": {},
     "output_type": "execute_result"
    }
   ],
   "source": [
    "df['Ndates']"
   ]
  },
  {
   "cell_type": "code",
   "execution_count": 23,
   "metadata": {},
   "outputs": [
    {
     "data": {
      "text/plain": [
       "0     2020-06-01\n",
       "1     2020-06-02\n",
       "2     2020-06-03\n",
       "3     2020-06-04\n",
       "4     2020-06-05\n",
       "         ...    \n",
       "105   2020-10-28\n",
       "106   2020-10-29\n",
       "107   2020-10-30\n",
       "108   2020-11-02\n",
       "109   2020-11-03\n",
       "Name: Ndates, Length: 110, dtype: datetime64[ns]"
      ]
     },
     "execution_count": 23,
     "metadata": {},
     "output_type": "execute_result"
    }
   ],
   "source": [
    "df['Ndates'] = pd.to_datetime(df['Ndates'])\n",
    "\n",
    "df['Ndates']"
   ]
  },
  {
   "cell_type": "code",
   "execution_count": null,
   "metadata": {},
   "outputs": [],
   "source": []
  },
  {
   "cell_type": "code",
   "execution_count": 24,
   "metadata": {},
   "outputs": [
    {
     "data": {
      "text/html": [
       "<div>\n",
       "<style scoped>\n",
       "    .dataframe tbody tr th:only-of-type {\n",
       "        vertical-align: middle;\n",
       "    }\n",
       "\n",
       "    .dataframe tbody tr th {\n",
       "        vertical-align: top;\n",
       "    }\n",
       "\n",
       "    .dataframe thead th {\n",
       "        text-align: right;\n",
       "    }\n",
       "</style>\n",
       "<table border=\"1\" class=\"dataframe\">\n",
       "  <thead>\n",
       "    <tr style=\"text-align: right;\">\n",
       "      <th></th>\n",
       "      <th>adjClose</th>\n",
       "      <th>Ndates</th>\n",
       "      <th>Prediction</th>\n",
       "    </tr>\n",
       "  </thead>\n",
       "  <tbody>\n",
       "    <tr>\n",
       "      <th>105</th>\n",
       "      <td>27.51</td>\n",
       "      <td>2020-10-28</td>\n",
       "      <td>33.32</td>\n",
       "    </tr>\n",
       "    <tr>\n",
       "      <th>106</th>\n",
       "      <td>31.99</td>\n",
       "      <td>2020-10-29</td>\n",
       "      <td>35.50</td>\n",
       "    </tr>\n",
       "    <tr>\n",
       "      <th>107</th>\n",
       "      <td>30.58</td>\n",
       "      <td>2020-10-30</td>\n",
       "      <td>NaN</td>\n",
       "    </tr>\n",
       "    <tr>\n",
       "      <th>108</th>\n",
       "      <td>33.32</td>\n",
       "      <td>2020-11-02</td>\n",
       "      <td>NaN</td>\n",
       "    </tr>\n",
       "    <tr>\n",
       "      <th>109</th>\n",
       "      <td>35.50</td>\n",
       "      <td>2020-11-03</td>\n",
       "      <td>NaN</td>\n",
       "    </tr>\n",
       "  </tbody>\n",
       "</table>\n",
       "</div>"
      ],
      "text/plain": [
       "     adjClose     Ndates  Prediction\n",
       "105     27.51 2020-10-28       33.32\n",
       "106     31.99 2020-10-29       35.50\n",
       "107     30.58 2020-10-30         NaN\n",
       "108     33.32 2020-11-02         NaN\n",
       "109     35.50 2020-11-03         NaN"
      ]
     },
     "execution_count": 24,
     "metadata": {},
     "output_type": "execute_result"
    }
   ],
   "source": [
    "# A variable for predicting 'n' days out into the future\n",
    "forecast_out = 3 #'n=30' days\n",
    "#Create another column (the target ) shifted 'n' units up\n",
    "df['Prediction'] = df[['adjClose']].shift(-forecast_out)\n",
    "#print the new data set\n",
    "df.tail()"
   ]
  },
  {
   "cell_type": "code",
   "execution_count": 25,
   "metadata": {},
   "outputs": [],
   "source": [
    "df['Ndates'] = pd.to_numeric(df.Ndates, downcast='float')"
   ]
  },
  {
   "cell_type": "code",
   "execution_count": 26,
   "metadata": {},
   "outputs": [
    {
     "name": "stdout",
     "output_type": "stream",
     "text": [
      "[[4.26000000e+00 1.59096955e+18]\n",
      " [4.70000000e+00 1.59105600e+18]\n",
      " [5.60000000e+00 1.59114245e+18]\n",
      " [5.97000000e+00 1.59122876e+18]\n",
      " [5.59000000e+00 1.59131521e+18]\n",
      " [5.97000000e+00 1.59157442e+18]\n",
      " [6.68000000e+00 1.59166087e+18]\n",
      " [6.30000000e+00 1.59174718e+18]\n",
      " [5.91000000e+00 1.59183363e+18]\n",
      " [6.10000000e+00 1.59191994e+18]\n",
      " [6.83000000e+00 1.59217915e+18]\n",
      " [6.99000000e+00 1.59226560e+18]\n",
      " [6.84000000e+00 1.59235205e+18]\n",
      " [7.18000000e+00 1.59243836e+18]\n",
      " [7.34000000e+00 1.59252481e+18]\n",
      " [7.43000000e+00 1.59278402e+18]\n",
      " [7.23000000e+00 1.59287047e+18]\n",
      " [6.86000000e+00 1.59295678e+18]\n",
      " [7.08000000e+00 1.59304323e+18]\n",
      " [6.90000000e+00 1.59312954e+18]\n",
      " [7.23000000e+00 1.59338875e+18]\n",
      " [7.72000000e+00 1.59347520e+18]\n",
      " [7.91000000e+00 1.59356165e+18]\n",
      " [9.38000000e+00 1.59364796e+18]\n",
      " [1.15100000e+01 1.59399362e+18]\n",
      " [1.32200000e+01 1.59408007e+18]\n",
      " [1.28800000e+01 1.59416638e+18]\n",
      " [1.45700000e+01 1.59425283e+18]\n",
      " [1.49800000e+01 1.59433914e+18]\n",
      " [1.38400000e+01 1.59459835e+18]\n",
      " [1.40900000e+01 1.59468480e+18]\n",
      " [1.35200000e+01 1.59477125e+18]\n",
      " [1.29400000e+01 1.59485756e+18]\n",
      " [1.10900000e+01 1.59494401e+18]\n",
      " [1.28200000e+01 1.59520322e+18]\n",
      " [1.28800000e+01 1.59528967e+18]\n",
      " [1.23800000e+01 1.59537598e+18]\n",
      " [1.21500000e+01 1.59546243e+18]\n",
      " [1.18200000e+01 1.59554874e+18]\n",
      " [1.16900000e+01 1.59580795e+18]\n",
      " [1.22700000e+01 1.59589440e+18]\n",
      " [1.27000000e+01 1.59598085e+18]\n",
      " [1.22000000e+01 1.59606716e+18]\n",
      " [1.19400000e+01 1.59615361e+18]\n",
      " [1.36000000e+01 1.59641282e+18]\n",
      " [1.36400000e+01 1.59649927e+18]\n",
      " [1.39200000e+01 1.59658558e+18]\n",
      " [1.38400000e+01 1.59667203e+18]\n",
      " [1.34200000e+01 1.59675834e+18]\n",
      " [1.42100000e+01 1.59701755e+18]\n",
      " [1.29900000e+01 1.59710400e+18]\n",
      " [1.33600000e+01 1.59719045e+18]\n",
      " [1.33600000e+01 1.59727676e+18]\n",
      " [1.31000000e+01 1.59736321e+18]\n",
      " [1.40500000e+01 1.59762242e+18]\n",
      " [1.43000000e+01 1.59770887e+18]\n",
      " [1.40600000e+01 1.59779518e+18]\n",
      " [1.37800000e+01 1.59788163e+18]\n",
      " [1.41200000e+01 1.59796794e+18]\n",
      " [1.49700000e+01 1.59822715e+18]\n",
      " [1.78400000e+01 1.59831360e+18]\n",
      " [2.04400000e+01 1.59840005e+18]\n",
      " [1.98800000e+01 1.59848636e+18]\n",
      " [1.85000000e+01 1.59857281e+18]\n",
      " [1.90300000e+01 1.59883202e+18]\n",
      " [2.01200000e+01 1.59891847e+18]\n",
      " [1.99000000e+01 1.59900478e+18]\n",
      " [1.87000000e+01 1.59909123e+18]\n",
      " [1.79800000e+01 1.59917754e+18]\n",
      " [1.70300000e+01 1.59952320e+18]\n",
      " [1.80900000e+01 1.59960965e+18]\n",
      " [1.77400000e+01 1.59969596e+18]\n",
      " [1.79700000e+01 1.59978241e+18]\n",
      " [1.87300000e+01 1.60004162e+18]\n",
      " [1.91900000e+01 1.60012807e+18]\n",
      " [1.90100000e+01 1.60021438e+18]\n",
      " [1.93000000e+01 1.60030083e+18]\n",
      " [1.94100000e+01 1.60038714e+18]\n",
      " [1.88100000e+01 1.60064635e+18]\n",
      " [1.92300000e+01 1.60073280e+18]\n",
      " [1.79600000e+01 1.60081925e+18]\n",
      " [1.78500000e+01 1.60090556e+18]\n",
      " [1.83200000e+01 1.60099201e+18]\n",
      " [1.88100000e+01 1.60125122e+18]\n",
      " [2.08500000e+01 1.60133767e+18]\n",
      " [2.12200000e+01 1.60142398e+18]\n",
      " [2.17600000e+01 1.60151043e+18]\n",
      " [2.11800000e+01 1.60159674e+18]\n",
      " [2.15900000e+01 1.60185595e+18]\n",
      " [2.06700000e+01 1.60194240e+18]\n",
      " [2.15600000e+01 1.60202885e+18]\n",
      " [2.14400000e+01 1.60211516e+18]\n",
      " [2.14700000e+01 1.60220161e+18]\n",
      " [2.18500000e+01 1.60246082e+18]\n",
      " [2.16200000e+01 1.60254727e+18]\n",
      " [2.65000000e+01 1.60263358e+18]\n",
      " [2.80700000e+01 1.60272003e+18]\n",
      " [2.84800000e+01 1.60280634e+18]\n",
      " [2.76300000e+01 1.60306555e+18]\n",
      " [2.79600000e+01 1.60315200e+18]\n",
      " [2.78600000e+01 1.60323845e+18]\n",
      " [2.73800000e+01 1.60332476e+18]\n",
      " [2.71600000e+01 1.60341121e+18]\n",
      " [2.60100000e+01 1.60367042e+18]\n",
      " [2.84400000e+01 1.60375687e+18]\n",
      " [2.75100000e+01 1.60384318e+18]\n",
      " [3.19900000e+01 1.60392963e+18]]\n"
     ]
    }
   ],
   "source": [
    "### Create the independent data set (X)  #######\n",
    "# Convert the dataframe to a numpy array\n",
    "X = np.array(df.drop(['Prediction'],1))\n",
    "\n",
    "#Remove the last '30' rows\n",
    "X = X[:-forecast_out]\n",
    "print(X)"
   ]
  },
  {
   "cell_type": "code",
   "execution_count": 27,
   "metadata": {},
   "outputs": [
    {
     "name": "stdout",
     "output_type": "stream",
     "text": [
      "[ 5.97  5.59  5.97  6.68  6.3   5.91  6.1   6.83  6.99  6.84  7.18  7.34\n",
      "  7.43  7.23  6.86  7.08  6.9   7.23  7.72  7.91  9.38 11.51 13.22 12.88\n",
      " 14.57 14.98 13.84 14.09 13.52 12.94 11.09 12.82 12.88 12.38 12.15 11.82\n",
      " 11.69 12.27 12.7  12.2  11.94 13.6  13.64 13.92 13.84 13.42 14.21 12.99\n",
      " 13.36 13.36 13.1  14.05 14.3  14.06 13.78 14.12 14.97 17.84 20.44 19.88\n",
      " 18.5  19.03 20.12 19.9  18.7  17.98 17.03 18.09 17.74 17.97 18.73 19.19\n",
      " 19.01 19.3  19.41 18.81 19.23 17.96 17.85 18.32 18.81 20.85 21.22 21.76\n",
      " 21.18 21.59 20.67 21.56 21.44 21.47 21.85 21.62 26.5  28.07 28.48 27.63\n",
      " 27.96 27.86 27.38 27.16 26.01 28.44 27.51 31.99 30.58 33.32 35.5 ]\n"
     ]
    }
   ],
   "source": [
    "### Create the dependent data set (y)  #####\n",
    "# Convert the dataframe to a numpy array \n",
    "y = np.array(df['Prediction'])\n",
    "# Get all of the y values except the last '30' rows\n",
    "y = y[:-forecast_out]\n",
    "print(y)"
   ]
  },
  {
   "cell_type": "markdown",
   "metadata": {},
   "source": [
    "# Split Data into Train & Test"
   ]
  },
  {
   "cell_type": "code",
   "execution_count": 28,
   "metadata": {},
   "outputs": [],
   "source": [
    "# Split the data into 80% training and 20% testing\n",
    "x_train, x_test, y_train, y_test = train_test_split(X, y, test_size=0.30)"
   ]
  },
  {
   "cell_type": "markdown",
   "metadata": {},
   "source": [
    "# Create Regression Models"
   ]
  },
  {
   "cell_type": "code",
   "execution_count": 29,
   "metadata": {},
   "outputs": [
    {
     "data": {
      "text/plain": [
       "RandomForestRegressor(max_depth=3, random_state=0)"
      ]
     },
     "execution_count": 29,
     "metadata": {},
     "output_type": "execute_result"
    }
   ],
   "source": [
    "# random forest regressor \n",
    "from sklearn.ensemble import RandomForestRegressor\n",
    "\n",
    "rfr = RandomForestRegressor(max_depth=3,random_state=0)\n",
    "rfr.fit(x_train, y_train)"
   ]
  },
  {
   "cell_type": "code",
   "execution_count": 30,
   "metadata": {},
   "outputs": [
    {
     "name": "stdout",
     "output_type": "stream",
     "text": [
      "rfr confidence 0.9318650236270147\n"
     ]
    }
   ],
   "source": [
    "np.random.seed(42)\n",
    "rfr_confidence = rfr.score(x_test, y_test)\n",
    "print(\"rfr confidence\", rfr_confidence)"
   ]
  },
  {
   "cell_type": "code",
   "execution_count": 31,
   "metadata": {},
   "outputs": [
    {
     "data": {
      "text/plain": [
       "BayesianRidge()"
      ]
     },
     "execution_count": 31,
     "metadata": {},
     "output_type": "execute_result"
    }
   ],
   "source": [
    "# Create and train the Support Vector Machine (Regressor)\n",
    "from sklearn import linear_model\n",
    "\n",
    "np.random.seed(42)\n",
    "br = linear_model.BayesianRidge()\n",
    "br.fit(x_train, y_train)"
   ]
  },
  {
   "cell_type": "code",
   "execution_count": 32,
   "metadata": {},
   "outputs": [
    {
     "name": "stdout",
     "output_type": "stream",
     "text": [
      "bayesian ridge confidence:  0.8819142024916982\n"
     ]
    }
   ],
   "source": [
    "# Testing Model: Score returns the coefficient of determination R^2 of the prediction. \n",
    "# The best possible score is 1.0\n",
    "np.random.seed(42)\n",
    "br_confidence = br.score(x_test, y_test)\n",
    "print(\"bayesian ridge confidence: \", br_confidence)"
   ]
  },
  {
   "cell_type": "code",
   "execution_count": 33,
   "metadata": {},
   "outputs": [
    {
     "data": {
      "text/plain": [
       "LinearRegression()"
      ]
     },
     "execution_count": 33,
     "metadata": {},
     "output_type": "execute_result"
    }
   ],
   "source": [
    "# Create and train the Linear Regression  Model\n",
    "np.random.seed(42)\n",
    "lr = LinearRegression()\n",
    "# Train the model\n",
    "lr.fit(x_train, y_train)"
   ]
  },
  {
   "cell_type": "code",
   "execution_count": 34,
   "metadata": {},
   "outputs": [
    {
     "name": "stdout",
     "output_type": "stream",
     "text": [
      "lr confidence:  0.8801930271195619\n"
     ]
    }
   ],
   "source": [
    "# Testing Model: Score returns the coefficient of determination R^2 of the prediction. \n",
    "# The best possible score is 1.0\n",
    "lr_confidence = lr.score(x_test, y_test)\n",
    "print(\"lr confidence: \", lr_confidence)"
   ]
  },
  {
   "cell_type": "code",
   "execution_count": 35,
   "metadata": {},
   "outputs": [
    {
     "name": "stdout",
     "output_type": "stream",
     "text": [
      "[[3.05800000e+01 1.60401594e+18]\n",
      " [3.33200000e+01 1.60427515e+18]\n",
      " [3.55000000e+01 1.60436160e+18]]\n"
     ]
    }
   ],
   "source": [
    "# Set x_forecast equal to the last 30 rows of the original data set from Adj. Close column\n",
    "x_forecast = np.array(df.drop(['Prediction'],1))[-forecast_out:]\n",
    "print(x_forecast)"
   ]
  },
  {
   "cell_type": "code",
   "execution_count": 36,
   "metadata": {},
   "outputs": [
    {
     "name": "stdout",
     "output_type": "stream",
     "text": [
      "34.84982104752385\n",
      "34.60425475091995\n",
      "32.91778\n"
     ]
    }
   ],
   "source": [
    "# Print linear regression model predictions for the next '30' days\n",
    "lr_prediction = lr.predict(x_forecast)\n",
    "print(lr_prediction[-1])\n",
    "# Print support vector regressor model predictions for the next '30' days\n",
    "br_prediction = br.predict(x_forecast)\n",
    "print(br_prediction[-1])\n",
    "\n",
    "rfr_prediction = rfr.predict(x_forecast)\n",
    "print(rfr_prediction[-1])"
   ]
  },
  {
   "cell_type": "code",
   "execution_count": 37,
   "metadata": {},
   "outputs": [
    {
     "data": {
      "text/plain": [
       "array([30.73134608, 32.9216488 , 34.60425475])"
      ]
     },
     "execution_count": 37,
     "metadata": {},
     "output_type": "execute_result"
    }
   ],
   "source": [
    "br_prediction"
   ]
  },
  {
   "cell_type": "code",
   "execution_count": 38,
   "metadata": {},
   "outputs": [
    {
     "data": {
      "text/plain": [
       "array([30.85013381, 33.10776927, 34.84982105])"
      ]
     },
     "execution_count": 38,
     "metadata": {},
     "output_type": "execute_result"
    }
   ],
   "source": [
    "lr_prediction"
   ]
  },
  {
   "cell_type": "code",
   "execution_count": 39,
   "metadata": {},
   "outputs": [
    {
     "data": {
      "text/plain": [
       "array([32.91778, 32.91778, 32.91778])"
      ]
     },
     "execution_count": 39,
     "metadata": {},
     "output_type": "execute_result"
    }
   ],
   "source": [
    "rfr_prediction"
   ]
  },
  {
   "cell_type": "code",
   "execution_count": null,
   "metadata": {},
   "outputs": [],
   "source": []
  }
 ],
 "metadata": {
  "kernelspec": {
   "display_name": "Python 3",
   "language": "python",
   "name": "python3"
  },
  "language_info": {
   "codemirror_mode": {
    "name": "ipython",
    "version": 3
   },
   "file_extension": ".py",
   "mimetype": "text/x-python",
   "name": "python",
   "nbconvert_exporter": "python",
   "pygments_lexer": "ipython3",
   "version": "3.8.3"
  }
 },
 "nbformat": 4,
 "nbformat_minor": 4
}
