{
 "cells": [
  {
   "cell_type": "code",
   "execution_count": 1,
   "metadata": {},
   "outputs": [],
   "source": [
    "import numpy as np \n",
    "import pandas as pd \n",
    "from sklearn.linear_model import LinearRegression\n",
    "from sklearn.svm import SVR\n",
    "from sklearn.model_selection import train_test_split"
   ]
  },
  {
   "cell_type": "markdown",
   "metadata": {},
   "source": [
    "# Load Data"
   ]
  },
  {
   "cell_type": "code",
   "execution_count": 57,
   "metadata": {},
   "outputs": [
    {
     "data": {
      "text/html": [
       "<div>\n",
       "<style scoped>\n",
       "    .dataframe tbody tr th:only-of-type {\n",
       "        vertical-align: middle;\n",
       "    }\n",
       "\n",
       "    .dataframe tbody tr th {\n",
       "        vertical-align: top;\n",
       "    }\n",
       "\n",
       "    .dataframe thead th {\n",
       "        text-align: right;\n",
       "    }\n",
       "</style>\n",
       "<table border=\"1\" class=\"dataframe\">\n",
       "  <thead>\n",
       "    <tr style=\"text-align: right;\">\n",
       "      <th></th>\n",
       "      <th>Date</th>\n",
       "      <th>Open</th>\n",
       "      <th>High</th>\n",
       "      <th>Low</th>\n",
       "      <th>Close</th>\n",
       "      <th>Adj Close</th>\n",
       "      <th>Volume</th>\n",
       "    </tr>\n",
       "  </thead>\n",
       "  <tbody>\n",
       "    <tr>\n",
       "      <th>60</th>\n",
       "      <td>2020-10-22</td>\n",
       "      <td>57.930000</td>\n",
       "      <td>58.639999</td>\n",
       "      <td>52.321999</td>\n",
       "      <td>52.529999</td>\n",
       "      <td>52.529999</td>\n",
       "      <td>1420100</td>\n",
       "    </tr>\n",
       "    <tr>\n",
       "      <th>61</th>\n",
       "      <td>2020-10-23</td>\n",
       "      <td>53.770000</td>\n",
       "      <td>53.869999</td>\n",
       "      <td>50.000000</td>\n",
       "      <td>51.090000</td>\n",
       "      <td>51.090000</td>\n",
       "      <td>1417600</td>\n",
       "    </tr>\n",
       "    <tr>\n",
       "      <th>62</th>\n",
       "      <td>2020-10-26</td>\n",
       "      <td>50.549999</td>\n",
       "      <td>52.279999</td>\n",
       "      <td>48.939999</td>\n",
       "      <td>51.189999</td>\n",
       "      <td>51.189999</td>\n",
       "      <td>1125500</td>\n",
       "    </tr>\n",
       "    <tr>\n",
       "      <th>63</th>\n",
       "      <td>2020-10-27</td>\n",
       "      <td>51.639999</td>\n",
       "      <td>51.889999</td>\n",
       "      <td>49.799999</td>\n",
       "      <td>50.730000</td>\n",
       "      <td>50.730000</td>\n",
       "      <td>448100</td>\n",
       "    </tr>\n",
       "    <tr>\n",
       "      <th>64</th>\n",
       "      <td>2020-10-28</td>\n",
       "      <td>48.900002</td>\n",
       "      <td>50.200001</td>\n",
       "      <td>48.000000</td>\n",
       "      <td>49.130001</td>\n",
       "      <td>49.130001</td>\n",
       "      <td>893300</td>\n",
       "    </tr>\n",
       "  </tbody>\n",
       "</table>\n",
       "</div>"
      ],
      "text/plain": [
       "          Date       Open       High        Low      Close  Adj Close   Volume\n",
       "60  2020-10-22  57.930000  58.639999  52.321999  52.529999  52.529999  1420100\n",
       "61  2020-10-23  53.770000  53.869999  50.000000  51.090000  51.090000  1417600\n",
       "62  2020-10-26  50.549999  52.279999  48.939999  51.189999  51.189999  1125500\n",
       "63  2020-10-27  51.639999  51.889999  49.799999  50.730000  50.730000   448100\n",
       "64  2020-10-28  48.900002  50.200001  48.000000  49.130001  49.130001   893300"
      ]
     },
     "execution_count": 57,
     "metadata": {},
     "output_type": "execute_result"
    }
   ],
   "source": [
    "df = pd.read_csv('Data/LMND.csv')\n",
    "df.tail()"
   ]
  },
  {
   "cell_type": "code",
   "execution_count": 58,
   "metadata": {},
   "outputs": [
    {
     "name": "stdout",
     "output_type": "stream",
     "text": [
      "   Adj Close\n",
      "0  69.050003\n",
      "1  65.099998\n",
      "2  58.180000\n",
      "3  56.860001\n",
      "4  61.139999\n"
     ]
    }
   ],
   "source": [
    "# Get the Adjusted Close Price \n",
    "df = df[['Adj Close']] \n",
    "# Take a look at the new data \n",
    "print(df.head())"
   ]
  },
  {
   "cell_type": "code",
   "execution_count": 59,
   "metadata": {},
   "outputs": [
    {
     "data": {
      "text/html": [
       "<div>\n",
       "<style scoped>\n",
       "    .dataframe tbody tr th:only-of-type {\n",
       "        vertical-align: middle;\n",
       "    }\n",
       "\n",
       "    .dataframe tbody tr th {\n",
       "        vertical-align: top;\n",
       "    }\n",
       "\n",
       "    .dataframe thead th {\n",
       "        text-align: right;\n",
       "    }\n",
       "</style>\n",
       "<table border=\"1\" class=\"dataframe\">\n",
       "  <thead>\n",
       "    <tr style=\"text-align: right;\">\n",
       "      <th></th>\n",
       "      <th>Adj Close</th>\n",
       "      <th>Prediction</th>\n",
       "    </tr>\n",
       "  </thead>\n",
       "  <tbody>\n",
       "    <tr>\n",
       "      <th>60</th>\n",
       "      <td>52.529999</td>\n",
       "      <td>50.730000</td>\n",
       "    </tr>\n",
       "    <tr>\n",
       "      <th>61</th>\n",
       "      <td>51.090000</td>\n",
       "      <td>49.130001</td>\n",
       "    </tr>\n",
       "    <tr>\n",
       "      <th>62</th>\n",
       "      <td>51.189999</td>\n",
       "      <td>NaN</td>\n",
       "    </tr>\n",
       "    <tr>\n",
       "      <th>63</th>\n",
       "      <td>50.730000</td>\n",
       "      <td>NaN</td>\n",
       "    </tr>\n",
       "    <tr>\n",
       "      <th>64</th>\n",
       "      <td>49.130001</td>\n",
       "      <td>NaN</td>\n",
       "    </tr>\n",
       "  </tbody>\n",
       "</table>\n",
       "</div>"
      ],
      "text/plain": [
       "    Adj Close  Prediction\n",
       "60  52.529999   50.730000\n",
       "61  51.090000   49.130001\n",
       "62  51.189999         NaN\n",
       "63  50.730000         NaN\n",
       "64  49.130001         NaN"
      ]
     },
     "execution_count": 59,
     "metadata": {},
     "output_type": "execute_result"
    }
   ],
   "source": [
    "# A variable for predicting 'n' days out into the future\n",
    "forecast_out = 3 #'n=30' days\n",
    "#Create another column (the target ) shifted 'n' units up\n",
    "df['Prediction'] = df[['Adj Close']].shift(-forecast_out)\n",
    "#print the new data set\n",
    "df.tail()"
   ]
  },
  {
   "cell_type": "code",
   "execution_count": 60,
   "metadata": {},
   "outputs": [
    {
     "data": {
      "text/plain": [
       "65"
      ]
     },
     "execution_count": 60,
     "metadata": {},
     "output_type": "execute_result"
    }
   ],
   "source": [
    "len(df)"
   ]
  },
  {
   "cell_type": "code",
   "execution_count": 61,
   "metadata": {},
   "outputs": [
    {
     "name": "stdout",
     "output_type": "stream",
     "text": [
      "[[69.050003]\n",
      " [65.099998]\n",
      " [58.18    ]\n",
      " [56.860001]\n",
      " [61.139999]\n",
      " [64.480003]\n",
      " [68.699997]\n",
      " [66.839996]\n",
      " [67.410004]\n",
      " [62.75    ]\n",
      " [60.669998]\n",
      " [59.259998]\n",
      " [63.220001]\n",
      " [61.48    ]\n",
      " [61.790001]\n",
      " [61.700001]\n",
      " [59.860001]\n",
      " [60.200001]\n",
      " [66.      ]\n",
      " [61.009998]\n",
      " [61.130001]\n",
      " [58.389999]\n",
      " [58.18    ]\n",
      " [58.700001]\n",
      " [56.189999]\n",
      " [54.700001]\n",
      " [50.830002]\n",
      " [47.27    ]\n",
      " [47.18    ]\n",
      " [50.18    ]\n",
      " [52.400002]\n",
      " [50.119999]\n",
      " [48.709999]\n",
      " [47.150002]\n",
      " [48.650002]\n",
      " [51.880001]\n",
      " [55.240002]\n",
      " [52.93    ]\n",
      " [54.07    ]\n",
      " [49.869999]\n",
      " [47.98    ]\n",
      " [50.93    ]\n",
      " [51.25    ]\n",
      " [49.610001]\n",
      " [49.720001]\n",
      " [51.459999]\n",
      " [51.580002]\n",
      " [54.      ]\n",
      " [52.439999]\n",
      " [53.599998]\n",
      " [60.099998]\n",
      " [67.809998]\n",
      " [66.169998]\n",
      " [66.730003]\n",
      " [68.      ]\n",
      " [62.41    ]\n",
      " [58.990002]\n",
      " [58.950001]\n",
      " [58.580002]\n",
      " [57.98    ]\n",
      " [52.529999]\n",
      " [51.09    ]]\n"
     ]
    }
   ],
   "source": [
    "### Create the independent data set (X)  #######\n",
    "# Convert the dataframe to a numpy array\n",
    "X = np.array(df.drop(['Prediction'],1))\n",
    "\n",
    "#Remove the last '30' rows\n",
    "X = X[:-forecast_out]\n",
    "print(X)"
   ]
  },
  {
   "cell_type": "code",
   "execution_count": 62,
   "metadata": {},
   "outputs": [
    {
     "name": "stdout",
     "output_type": "stream",
     "text": [
      "[56.860001 61.139999 64.480003 68.699997 66.839996 67.410004 62.75\n",
      " 60.669998 59.259998 63.220001 61.48     61.790001 61.700001 59.860001\n",
      " 60.200001 66.       61.009998 61.130001 58.389999 58.18     58.700001\n",
      " 56.189999 54.700001 50.830002 47.27     47.18     50.18     52.400002\n",
      " 50.119999 48.709999 47.150002 48.650002 51.880001 55.240002 52.93\n",
      " 54.07     49.869999 47.98     50.93     51.25     49.610001 49.720001\n",
      " 51.459999 51.580002 54.       52.439999 53.599998 60.099998 67.809998\n",
      " 66.169998 66.730003 68.       62.41     58.990002 58.950001 58.580002\n",
      " 57.98     52.529999 51.09     51.189999 50.73     49.130001]\n"
     ]
    }
   ],
   "source": [
    "### Create the dependent data set (y)  #####\n",
    "# Convert the dataframe to a numpy array \n",
    "y = np.array(df['Prediction'])\n",
    "# Get all of the y values except the last '30' rows\n",
    "y = y[:-forecast_out]\n",
    "print(y)"
   ]
  },
  {
   "cell_type": "markdown",
   "metadata": {},
   "source": [
    "# Split Data into Train & Test"
   ]
  },
  {
   "cell_type": "code",
   "execution_count": 63,
   "metadata": {},
   "outputs": [],
   "source": [
    "# Split the data into 80% training and 20% testing\n",
    "x_train, x_test, y_train, y_test = train_test_split(X, y, test_size=0.30)"
   ]
  },
  {
   "cell_type": "markdown",
   "metadata": {},
   "source": [
    "# Create Regression Models"
   ]
  },
  {
   "cell_type": "code",
   "execution_count": 64,
   "metadata": {},
   "outputs": [
    {
     "data": {
      "text/plain": [
       "RandomForestRegressor(max_depth=3, random_state=0)"
      ]
     },
     "execution_count": 64,
     "metadata": {},
     "output_type": "execute_result"
    }
   ],
   "source": [
    "# random forest regressor \n",
    "from sklearn.ensemble import RandomForestRegressor\n",
    "\n",
    "rfr = RandomForestRegressor(max_depth=3,random_state=0)\n",
    "rfr.fit(x_train, y_train)"
   ]
  },
  {
   "cell_type": "code",
   "execution_count": 65,
   "metadata": {},
   "outputs": [
    {
     "name": "stdout",
     "output_type": "stream",
     "text": [
      "rfr confidence -0.06348297992799101\n"
     ]
    }
   ],
   "source": [
    "rfr_confidence = rfr.score(x_test, y_test)\n",
    "print(\"rfr confidence\", rfr_confidence)"
   ]
  },
  {
   "cell_type": "code",
   "execution_count": 66,
   "metadata": {},
   "outputs": [
    {
     "data": {
      "text/plain": [
       "SVR(C=1000.0, gamma=0.1)"
      ]
     },
     "execution_count": 66,
     "metadata": {},
     "output_type": "execute_result"
    }
   ],
   "source": [
    "# Create and train the Support Vector Machine (Regressor)\n",
    "np.random.seed(42)\n",
    "svr_rbf = SVR(kernel='rbf', C=1e3, gamma=0.1) \n",
    "svr_rbf.fit(x_train, y_train)"
   ]
  },
  {
   "cell_type": "code",
   "execution_count": 67,
   "metadata": {},
   "outputs": [
    {
     "name": "stdout",
     "output_type": "stream",
     "text": [
      "svm confidence:  -0.34149421881011266\n"
     ]
    }
   ],
   "source": [
    "# Testing Model: Score returns the coefficient of determination R^2 of the prediction. \n",
    "# The best possible score is 1.0\n",
    "svm_confidence = svr_rbf.score(x_test, y_test)\n",
    "print(\"svm confidence: \", svm_confidence)"
   ]
  },
  {
   "cell_type": "code",
   "execution_count": 68,
   "metadata": {},
   "outputs": [
    {
     "data": {
      "text/plain": [
       "LinearRegression()"
      ]
     },
     "execution_count": 68,
     "metadata": {},
     "output_type": "execute_result"
    }
   ],
   "source": [
    "# Create and train the Linear Regression  Model\n",
    "np.random.seed(42)\n",
    "lr = LinearRegression()\n",
    "# Train the model\n",
    "lr.fit(x_train, y_train)"
   ]
  },
  {
   "cell_type": "code",
   "execution_count": 69,
   "metadata": {},
   "outputs": [
    {
     "name": "stdout",
     "output_type": "stream",
     "text": [
      "lr confidence:  -0.07509274268474475\n"
     ]
    }
   ],
   "source": [
    "# Testing Model: Score returns the coefficient of determination R^2 of the prediction. \n",
    "# The best possible score is 1.0\n",
    "lr_confidence = lr.score(x_test, y_test)\n",
    "print(\"lr confidence: \", lr_confidence)"
   ]
  },
  {
   "cell_type": "code",
   "execution_count": 70,
   "metadata": {},
   "outputs": [
    {
     "name": "stdout",
     "output_type": "stream",
     "text": [
      "[[51.189999]\n",
      " [50.73    ]\n",
      " [49.130001]]\n"
     ]
    }
   ],
   "source": [
    "# Set x_forecast equal to the last 30 rows of the original data set from Adj. Close column\n",
    "x_forecast = np.array(df.drop(['Prediction'],1))[-forecast_out:]\n",
    "print(x_forecast)"
   ]
  },
  {
   "cell_type": "code",
   "execution_count": 71,
   "metadata": {},
   "outputs": [
    {
     "name": "stdout",
     "output_type": "stream",
     "text": [
      "50.56572838060755\n",
      "51.856298588542124\n",
      "51.2470825240511\n"
     ]
    }
   ],
   "source": [
    "# Print linear regression model predictions for the next '30' days\n",
    "lr_prediction = lr.predict(x_forecast)\n",
    "print(lr_prediction[-1])\n",
    "# Print support vector regressor model predictions for the next '30' days\n",
    "svm_prediction = svr_rbf.predict(x_forecast)\n",
    "print(svm_prediction[-1])\n",
    "\n",
    "rfr_prediction = rfr.predict(x_forecast)\n",
    "print(rfr_prediction[-1])"
   ]
  },
  {
   "cell_type": "code",
   "execution_count": null,
   "metadata": {},
   "outputs": [],
   "source": []
  },
  {
   "cell_type": "code",
   "execution_count": null,
   "metadata": {},
   "outputs": [],
   "source": []
  }
 ],
 "metadata": {
  "kernelspec": {
   "display_name": "Python 3",
   "language": "python",
   "name": "python3"
  },
  "language_info": {
   "codemirror_mode": {
    "name": "ipython",
    "version": 3
   },
   "file_extension": ".py",
   "mimetype": "text/x-python",
   "name": "python",
   "nbconvert_exporter": "python",
   "pygments_lexer": "ipython3",
   "version": "3.7.9"
  }
 },
 "nbformat": 4,
 "nbformat_minor": 4
}
